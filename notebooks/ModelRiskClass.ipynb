{
 "cells": [
  {
   "cell_type": "markdown",
   "metadata": {},
   "source": [
    "<a class=\"anchor\" id=\"top\"></a>\n",
    "\n",
    "# Topic Modeling with LDA to Generate Target Risk Topics\n",
    "Author: Ainesh Pandey\n",
    "\n",
    "In this notebook, we will perform topic modeling using [LDA (Latent Dirichlet Allocation)](https://towardsdatascience.com/latent-dirichlet-allocation-lda-9d1cd064ffa2) on the _Lesson(s) Learned_ column of the `lessons_learned.csv` dataframe. The purpose of this analysis is to attempt to organize the different projects into risk topics. Assuming the LDA model produces reasonable topics, we can use the topic classification as ground truth in a modeling objective.\n",
    "\n",
    "## Table of Contents\n",
    "[Step 1: Import Packages and Data](#step-1) <br>\n",
    "[Step 2: Helper Functions for Modeling](#step-2) <br>\n",
    "[Step 2: Prototyping Baseline Solution](#step-3) <br>\n",
    "[Step 3: Testing Augmented Inputs](#step-4) <br>"
   ]
  },
  {
   "cell_type": "markdown",
   "metadata": {},
   "source": [
    "<a class=\"anchor\" id=\"step-1\"></a>\n",
    "\n",
    "## Import Packages and Data\n",
    "\n",
    "### Packages\n",
    "\n",
    "We start by importing the required packages for this analysis."
   ]
  },
  {
   "cell_type": "code",
   "execution_count": 1,
   "metadata": {},
   "outputs": [],
   "source": [
    "import warnings\n",
    "warnings.filterwarnings('ignore')\n",
    "\n",
    "# basic data science packages\n",
    "import pandas as pd\n",
    "import numpy as np\n",
    "np.random.seed(5)\n",
    "\n",
    "# gensim packages for text preprocessing and LDA\n",
    "import gensim\n",
    "from gensim.utils import simple_preprocess\n",
    "from gensim.parsing.preprocessing import STOPWORDS\n",
    "\n",
    "# nltk packages for text preprocessing\n",
    "import nltk\n",
    "from nltk.stem import WordNetLemmatizer\n",
    "from nltk.stem.porter import *\n",
    "\n",
    "# \n",
    "from sklearn.feature_extraction.text import TfidfVectorizer\n",
    "from sklearn.decomposition import PCA\n",
    "from sklearn.model_selection import train_test_split\n",
    "import imblearn\n",
    "from imblearn.under_sampling import NearMiss\n",
    "from imblearn.under_sampling import OneSidedSelection\n",
    "\n",
    "# modeling packages\n",
    "from sklearn.model_selection import GridSearchCV\n",
    "from sklearn.metrics import make_scorer, f1_score\n",
    "from sklearn.linear_model import LogisticRegression\n",
    "from sklearn.ensemble import RandomForestClassifier\n",
    "from lightgbm import LGBMClassifier\n",
    "from sklearn.neighbors import KNeighborsClassifier\n",
    "from sklearn.naive_bayes import GaussianNB\n",
    "import statistics\n",
    "\n",
    "# visualization packages\n",
    "from sklearn.metrics import confusion_matrix, classification_report, ConfusionMatrixDisplay\n",
    "import seaborn as sns\n",
    "import matplotlib.pyplot as plt"
   ]
  },
  {
   "cell_type": "markdown",
   "metadata": {},
   "source": [
    "### Data\n",
    "We import `lessons_learned.csv` and keep all of the data. After some exploratory data analysis, we'll choose which features we will keep as inputs."
   ]
  },
  {
   "cell_type": "code",
   "execution_count": 2,
   "metadata": {},
   "outputs": [
    {
     "data": {
      "text/plain": [
       "(2101, 17)"
      ]
     },
     "metadata": {},
     "output_type": "display_data"
    },
    {
     "data": {
      "text/html": [
       "<div>\n",
       "<style scoped>\n",
       "    .dataframe tbody tr th:only-of-type {\n",
       "        vertical-align: middle;\n",
       "    }\n",
       "\n",
       "    .dataframe tbody tr th {\n",
       "        vertical-align: top;\n",
       "    }\n",
       "\n",
       "    .dataframe thead th {\n",
       "        text-align: right;\n",
       "    }\n",
       "</style>\n",
       "<table border=\"1\" class=\"dataframe\">\n",
       "  <thead>\n",
       "    <tr style=\"text-align: right;\">\n",
       "      <th></th>\n",
       "      <th>Lesson ID</th>\n",
       "      <th>Title</th>\n",
       "      <th>Abstract</th>\n",
       "      <th>Lesson(s) Learned</th>\n",
       "      <th>Recommendation(s)</th>\n",
       "      <th>Organization</th>\n",
       "      <th>Date Lesson Occurred</th>\n",
       "      <th>Driving Event</th>\n",
       "      <th>Evidence</th>\n",
       "      <th>Project / Program</th>\n",
       "      <th>The related NASA policy(s), standard(s), handbook(s), procedure(s) or other rules</th>\n",
       "      <th>NASA Mission Directorate(s)</th>\n",
       "      <th>Sensitivity</th>\n",
       "      <th>From what phase of the program or project was this lesson learned captured?</th>\n",
       "      <th>Where (other lessons, presentations, publications, etc.)?</th>\n",
       "      <th>Publish Date</th>\n",
       "      <th>Topics</th>\n",
       "    </tr>\n",
       "  </thead>\n",
       "  <tbody>\n",
       "    <tr>\n",
       "      <th>0</th>\n",
       "      <td>30004</td>\n",
       "      <td>Relationship of Government and Contractor Risk...</td>\n",
       "      <td>The purpose of this lesson is to highlight the...</td>\n",
       "      <td>Approach 1 made it difficult to understand the...</td>\n",
       "      <td>Projects should consider RBI's risk management...</td>\n",
       "      <td>LaRC</td>\n",
       "      <td>04/05/2018</td>\n",
       "      <td>Throughout the project, it was repeatedly dete...</td>\n",
       "      <td>NaN</td>\n",
       "      <td>Radiation Budget Instrument</td>\n",
       "      <td>Langley Management System Center Procedure LMS...</td>\n",
       "      <td>Aeronautics Research, Human Exploration and Op...</td>\n",
       "      <td>Public</td>\n",
       "      <td>Implementation</td>\n",
       "      <td>LaRC Institutional Knowledge Management (IKM) ...</td>\n",
       "      <td>07/23/2021</td>\n",
       "      <td>Procurement, Small Business &amp; Industrial Relat...</td>\n",
       "    </tr>\n",
       "    <tr>\n",
       "      <th>1</th>\n",
       "      <td>30101</td>\n",
       "      <td>Cable Harness Wiring and Connector Anomalies C...</td>\n",
       "      <td>Early indications show that the commercial spa...</td>\n",
       "      <td>As a result of many years of expensive lessons...</td>\n",
       "      <td>As commercial vehicles and other NASA vehicles...</td>\n",
       "      <td>NESC</td>\n",
       "      <td>02/28/2021</td>\n",
       "      <td>NASA has found that the commercial spacecraft ...</td>\n",
       "      <td>NaN</td>\n",
       "      <td>Space Shuttle Program, Commercial Crewed Space...</td>\n",
       "      <td>NaN</td>\n",
       "      <td>Human Exploration and Operations</td>\n",
       "      <td>Public</td>\n",
       "      <td>Implementation » Phase E</td>\n",
       "      <td>NaN</td>\n",
       "      <td>07/23/2021</td>\n",
       "      <td>Flight Equipment, Ground Operations, Hardware,...</td>\n",
       "    </tr>\n",
       "    <tr>\n",
       "      <th>2</th>\n",
       "      <td>29801</td>\n",
       "      <td>Best Practices for the Elemental Profiling of ...</td>\n",
       "      <td>Trace contaminants in high-purity hydrazine (H...</td>\n",
       "      <td>There was an unexpectedly wide variation in el...</td>\n",
       "      <td>The recommendations to prevent this lesson fro...</td>\n",
       "      <td>NESC</td>\n",
       "      <td>12/14/2020</td>\n",
       "      <td>Hypergolic propellants (e.g., hydrazine (N2H4)...</td>\n",
       "      <td>NaN</td>\n",
       "      <td>All NASA missions using high purity hydrazine ...</td>\n",
       "      <td>NaN</td>\n",
       "      <td>Human Exploration and Operations, Science, Spa...</td>\n",
       "      <td>Public</td>\n",
       "      <td>Not Applicable</td>\n",
       "      <td>NaN</td>\n",
       "      <td>06/23/2021</td>\n",
       "      <td>Ground Operations, Launch Vehicle, Parts, Mate...</td>\n",
       "    </tr>\n",
       "    <tr>\n",
       "      <th>3</th>\n",
       "      <td>29702</td>\n",
       "      <td>Integration and Dependency Between Different A...</td>\n",
       "      <td>During the Radiological Control Center (RADCC)...</td>\n",
       "      <td>If possible, the design phase of both systems ...</td>\n",
       "      <td>Design phase should incorporate both design te...</td>\n",
       "      <td>KSC</td>\n",
       "      <td>03/15/2020</td>\n",
       "      <td>The RADCC AV system controls and routes variou...</td>\n",
       "      <td>NaN</td>\n",
       "      <td>Radiological Control Center (RADCC)</td>\n",
       "      <td>NPR 7120.7A NASA Information Technology Progra...</td>\n",
       "      <td>Human Exploration and Operations</td>\n",
       "      <td>Public</td>\n",
       "      <td>Not Specified</td>\n",
       "      <td>NaN</td>\n",
       "      <td>06/01/2021</td>\n",
       "      <td>Engineering Design, Integration and Testing, S...</td>\n",
       "    </tr>\n",
       "    <tr>\n",
       "      <th>4</th>\n",
       "      <td>29103</td>\n",
       "      <td>Copper Tube Pinch Failure</td>\n",
       "      <td>While pinching copper tubes is a standard prac...</td>\n",
       "      <td>The pinch was initially visually inspected and...</td>\n",
       "      <td>Have pinch tool operator perform several pract...</td>\n",
       "      <td>KSC</td>\n",
       "      <td>10/17/2020</td>\n",
       "      <td>A copper tube was pinched as a test for the Ma...</td>\n",
       "      <td>Inverted metallography image of separated pinc...</td>\n",
       "      <td>Mass Spectrometer observing lunar operations (...</td>\n",
       "      <td>NaN</td>\n",
       "      <td>Human Exploration and Operations, Space Techno...</td>\n",
       "      <td>Public</td>\n",
       "      <td>Implementation » Phase D</td>\n",
       "      <td>NaN</td>\n",
       "      <td>12/10/2020</td>\n",
       "      <td>Engineering Design, Integration and Testing, M...</td>\n",
       "    </tr>\n",
       "  </tbody>\n",
       "</table>\n",
       "</div>"
      ],
      "text/plain": [
       "   Lesson ID                                              Title  \\\n",
       "0      30004  Relationship of Government and Contractor Risk...   \n",
       "1      30101  Cable Harness Wiring and Connector Anomalies C...   \n",
       "2      29801  Best Practices for the Elemental Profiling of ...   \n",
       "3      29702  Integration and Dependency Between Different A...   \n",
       "4      29103                          Copper Tube Pinch Failure   \n",
       "\n",
       "                                            Abstract  \\\n",
       "0  The purpose of this lesson is to highlight the...   \n",
       "1  Early indications show that the commercial spa...   \n",
       "2  Trace contaminants in high-purity hydrazine (H...   \n",
       "3  During the Radiological Control Center (RADCC)...   \n",
       "4  While pinching copper tubes is a standard prac...   \n",
       "\n",
       "                                   Lesson(s) Learned  \\\n",
       "0  Approach 1 made it difficult to understand the...   \n",
       "1  As a result of many years of expensive lessons...   \n",
       "2  There was an unexpectedly wide variation in el...   \n",
       "3  If possible, the design phase of both systems ...   \n",
       "4  The pinch was initially visually inspected and...   \n",
       "\n",
       "                                   Recommendation(s) Organization  \\\n",
       "0  Projects should consider RBI's risk management...         LaRC   \n",
       "1  As commercial vehicles and other NASA vehicles...         NESC   \n",
       "2  The recommendations to prevent this lesson fro...         NESC   \n",
       "3  Design phase should incorporate both design te...          KSC   \n",
       "4  Have pinch tool operator perform several pract...          KSC   \n",
       "\n",
       "  Date Lesson Occurred                                      Driving Event  \\\n",
       "0           04/05/2018  Throughout the project, it was repeatedly dete...   \n",
       "1           02/28/2021  NASA has found that the commercial spacecraft ...   \n",
       "2           12/14/2020  Hypergolic propellants (e.g., hydrazine (N2H4)...   \n",
       "3           03/15/2020  The RADCC AV system controls and routes variou...   \n",
       "4           10/17/2020  A copper tube was pinched as a test for the Ma...   \n",
       "\n",
       "                                            Evidence  \\\n",
       "0                                                NaN   \n",
       "1                                                NaN   \n",
       "2                                                NaN   \n",
       "3                                                NaN   \n",
       "4  Inverted metallography image of separated pinc...   \n",
       "\n",
       "                                   Project / Program  \\\n",
       "0                        Radiation Budget Instrument   \n",
       "1  Space Shuttle Program, Commercial Crewed Space...   \n",
       "2  All NASA missions using high purity hydrazine ...   \n",
       "3                Radiological Control Center (RADCC)   \n",
       "4  Mass Spectrometer observing lunar operations (...   \n",
       "\n",
       "  The related NASA policy(s), standard(s), handbook(s), procedure(s) or other rules  \\\n",
       "0  Langley Management System Center Procedure LMS...                                  \n",
       "1                                                NaN                                  \n",
       "2                                                NaN                                  \n",
       "3  NPR 7120.7A NASA Information Technology Progra...                                  \n",
       "4                                                NaN                                  \n",
       "\n",
       "                         NASA Mission Directorate(s) Sensitivity  \\\n",
       "0  Aeronautics Research, Human Exploration and Op...      Public   \n",
       "1                   Human Exploration and Operations      Public   \n",
       "2  Human Exploration and Operations, Science, Spa...      Public   \n",
       "3                   Human Exploration and Operations      Public   \n",
       "4  Human Exploration and Operations, Space Techno...      Public   \n",
       "\n",
       "  From what phase of the program or project was this lesson learned captured?  \\\n",
       "0                                     Implementation                            \n",
       "1                           Implementation » Phase E                            \n",
       "2                                     Not Applicable                            \n",
       "3                                      Not Specified                            \n",
       "4                           Implementation » Phase D                            \n",
       "\n",
       "  Where (other lessons, presentations, publications, etc.)? Publish Date  \\\n",
       "0  LaRC Institutional Knowledge Management (IKM) ...          07/23/2021   \n",
       "1                                                NaN          07/23/2021   \n",
       "2                                                NaN          06/23/2021   \n",
       "3                                                NaN          06/01/2021   \n",
       "4                                                NaN          12/10/2020   \n",
       "\n",
       "                                              Topics  \n",
       "0  Procurement, Small Business & Industrial Relat...  \n",
       "1  Flight Equipment, Ground Operations, Hardware,...  \n",
       "2  Ground Operations, Launch Vehicle, Parts, Mate...  \n",
       "3  Engineering Design, Integration and Testing, S...  \n",
       "4  Engineering Design, Integration and Testing, M...  "
      ]
     },
     "execution_count": 2,
     "metadata": {},
     "output_type": "execute_result"
    }
   ],
   "source": [
    "df_lessons = pd.read_csv('../Risky Space Business Challenge Files/lessons_learned.csv', encoding='cp1252')\n",
    "\n",
    "display(df_lessons.shape)\n",
    "df_lessons.head()"
   ]
  },
  {
   "cell_type": "markdown",
   "metadata": {},
   "source": [
    "Next, we will import `risk_classifications.csv`, which we created in [GenerateRiskTarget.ipynb](GenerateRiskTarget.ipynb)."
   ]
  },
  {
   "cell_type": "code",
   "execution_count": 3,
   "metadata": {},
   "outputs": [
    {
     "data": {
      "text/plain": [
       "(2086, 2)"
      ]
     },
     "metadata": {},
     "output_type": "display_data"
    },
    {
     "data": {
      "text/html": [
       "<div>\n",
       "<style scoped>\n",
       "    .dataframe tbody tr th:only-of-type {\n",
       "        vertical-align: middle;\n",
       "    }\n",
       "\n",
       "    .dataframe tbody tr th {\n",
       "        vertical-align: top;\n",
       "    }\n",
       "\n",
       "    .dataframe thead th {\n",
       "        text-align: right;\n",
       "    }\n",
       "</style>\n",
       "<table border=\"1\" class=\"dataframe\">\n",
       "  <thead>\n",
       "    <tr style=\"text-align: right;\">\n",
       "      <th></th>\n",
       "      <th>Lesson ID</th>\n",
       "      <th>Risk Class</th>\n",
       "    </tr>\n",
       "  </thead>\n",
       "  <tbody>\n",
       "    <tr>\n",
       "      <th>0</th>\n",
       "      <td>30004</td>\n",
       "      <td>4</td>\n",
       "    </tr>\n",
       "    <tr>\n",
       "      <th>1</th>\n",
       "      <td>30101</td>\n",
       "      <td>4</td>\n",
       "    </tr>\n",
       "    <tr>\n",
       "      <th>2</th>\n",
       "      <td>29801</td>\n",
       "      <td>4</td>\n",
       "    </tr>\n",
       "    <tr>\n",
       "      <th>3</th>\n",
       "      <td>29702</td>\n",
       "      <td>4</td>\n",
       "    </tr>\n",
       "    <tr>\n",
       "      <th>4</th>\n",
       "      <td>29103</td>\n",
       "      <td>4</td>\n",
       "    </tr>\n",
       "  </tbody>\n",
       "</table>\n",
       "</div>"
      ],
      "text/plain": [
       "   Lesson ID  Risk Class\n",
       "0      30004           4\n",
       "1      30101           4\n",
       "2      29801           4\n",
       "3      29702           4\n",
       "4      29103           4"
      ]
     },
     "execution_count": 3,
     "metadata": {},
     "output_type": "execute_result"
    }
   ],
   "source": [
    "df_riskclasses = pd.read_csv('../data/risk_classifications.csv')\n",
    "\n",
    "display(df_riskclasses.shape)\n",
    "df_riskclasses.head()"
   ]
  },
  {
   "cell_type": "markdown",
   "metadata": {},
   "source": [
    "We will combine both dataframes into a master dataframe. We also drop any rows where Risk Class == 3, based on our findings in the previous notebook."
   ]
  },
  {
   "cell_type": "code",
   "execution_count": 4,
   "metadata": {},
   "outputs": [
    {
     "data": {
      "text/plain": [
       "(2067, 19)"
      ]
     },
     "metadata": {},
     "output_type": "display_data"
    },
    {
     "data": {
      "text/html": [
       "<div>\n",
       "<style scoped>\n",
       "    .dataframe tbody tr th:only-of-type {\n",
       "        vertical-align: middle;\n",
       "    }\n",
       "\n",
       "    .dataframe tbody tr th {\n",
       "        vertical-align: top;\n",
       "    }\n",
       "\n",
       "    .dataframe thead th {\n",
       "        text-align: right;\n",
       "    }\n",
       "</style>\n",
       "<table border=\"1\" class=\"dataframe\">\n",
       "  <thead>\n",
       "    <tr style=\"text-align: right;\">\n",
       "      <th></th>\n",
       "      <th>index</th>\n",
       "      <th>Lesson ID</th>\n",
       "      <th>Title</th>\n",
       "      <th>Abstract</th>\n",
       "      <th>Lesson(s) Learned</th>\n",
       "      <th>Recommendation(s)</th>\n",
       "      <th>Organization</th>\n",
       "      <th>Date Lesson Occurred</th>\n",
       "      <th>Driving Event</th>\n",
       "      <th>Evidence</th>\n",
       "      <th>Project / Program</th>\n",
       "      <th>The related NASA policy(s), standard(s), handbook(s), procedure(s) or other rules</th>\n",
       "      <th>NASA Mission Directorate(s)</th>\n",
       "      <th>Sensitivity</th>\n",
       "      <th>From what phase of the program or project was this lesson learned captured?</th>\n",
       "      <th>Where (other lessons, presentations, publications, etc.)?</th>\n",
       "      <th>Publish Date</th>\n",
       "      <th>Topics</th>\n",
       "      <th>Risk Class</th>\n",
       "    </tr>\n",
       "  </thead>\n",
       "  <tbody>\n",
       "    <tr>\n",
       "      <th>0</th>\n",
       "      <td>0</td>\n",
       "      <td>30004</td>\n",
       "      <td>Relationship of Government and Contractor Risk...</td>\n",
       "      <td>The purpose of this lesson is to highlight the...</td>\n",
       "      <td>Approach 1 made it difficult to understand the...</td>\n",
       "      <td>Projects should consider RBI's risk management...</td>\n",
       "      <td>LaRC</td>\n",
       "      <td>04/05/2018</td>\n",
       "      <td>Throughout the project, it was repeatedly dete...</td>\n",
       "      <td>NaN</td>\n",
       "      <td>Radiation Budget Instrument</td>\n",
       "      <td>Langley Management System Center Procedure LMS...</td>\n",
       "      <td>Aeronautics Research, Human Exploration and Op...</td>\n",
       "      <td>Public</td>\n",
       "      <td>Implementation</td>\n",
       "      <td>LaRC Institutional Knowledge Management (IKM) ...</td>\n",
       "      <td>07/23/2021</td>\n",
       "      <td>Procurement, Small Business &amp; Industrial Relat...</td>\n",
       "      <td>4</td>\n",
       "    </tr>\n",
       "    <tr>\n",
       "      <th>1</th>\n",
       "      <td>1</td>\n",
       "      <td>30101</td>\n",
       "      <td>Cable Harness Wiring and Connector Anomalies C...</td>\n",
       "      <td>Early indications show that the commercial spa...</td>\n",
       "      <td>As a result of many years of expensive lessons...</td>\n",
       "      <td>As commercial vehicles and other NASA vehicles...</td>\n",
       "      <td>NESC</td>\n",
       "      <td>02/28/2021</td>\n",
       "      <td>NASA has found that the commercial spacecraft ...</td>\n",
       "      <td>NaN</td>\n",
       "      <td>Space Shuttle Program, Commercial Crewed Space...</td>\n",
       "      <td>NaN</td>\n",
       "      <td>Human Exploration and Operations</td>\n",
       "      <td>Public</td>\n",
       "      <td>Implementation » Phase E</td>\n",
       "      <td>NaN</td>\n",
       "      <td>07/23/2021</td>\n",
       "      <td>Flight Equipment, Ground Operations, Hardware,...</td>\n",
       "      <td>4</td>\n",
       "    </tr>\n",
       "    <tr>\n",
       "      <th>2</th>\n",
       "      <td>2</td>\n",
       "      <td>29801</td>\n",
       "      <td>Best Practices for the Elemental Profiling of ...</td>\n",
       "      <td>Trace contaminants in high-purity hydrazine (H...</td>\n",
       "      <td>There was an unexpectedly wide variation in el...</td>\n",
       "      <td>The recommendations to prevent this lesson fro...</td>\n",
       "      <td>NESC</td>\n",
       "      <td>12/14/2020</td>\n",
       "      <td>Hypergolic propellants (e.g., hydrazine (N2H4)...</td>\n",
       "      <td>NaN</td>\n",
       "      <td>All NASA missions using high purity hydrazine ...</td>\n",
       "      <td>NaN</td>\n",
       "      <td>Human Exploration and Operations, Science, Spa...</td>\n",
       "      <td>Public</td>\n",
       "      <td>Not Applicable</td>\n",
       "      <td>NaN</td>\n",
       "      <td>06/23/2021</td>\n",
       "      <td>Ground Operations, Launch Vehicle, Parts, Mate...</td>\n",
       "      <td>4</td>\n",
       "    </tr>\n",
       "    <tr>\n",
       "      <th>3</th>\n",
       "      <td>3</td>\n",
       "      <td>29702</td>\n",
       "      <td>Integration and Dependency Between Different A...</td>\n",
       "      <td>During the Radiological Control Center (RADCC)...</td>\n",
       "      <td>If possible, the design phase of both systems ...</td>\n",
       "      <td>Design phase should incorporate both design te...</td>\n",
       "      <td>KSC</td>\n",
       "      <td>03/15/2020</td>\n",
       "      <td>The RADCC AV system controls and routes variou...</td>\n",
       "      <td>NaN</td>\n",
       "      <td>Radiological Control Center (RADCC)</td>\n",
       "      <td>NPR 7120.7A NASA Information Technology Progra...</td>\n",
       "      <td>Human Exploration and Operations</td>\n",
       "      <td>Public</td>\n",
       "      <td>Not Specified</td>\n",
       "      <td>NaN</td>\n",
       "      <td>06/01/2021</td>\n",
       "      <td>Engineering Design, Integration and Testing, S...</td>\n",
       "      <td>4</td>\n",
       "    </tr>\n",
       "    <tr>\n",
       "      <th>4</th>\n",
       "      <td>4</td>\n",
       "      <td>29103</td>\n",
       "      <td>Copper Tube Pinch Failure</td>\n",
       "      <td>While pinching copper tubes is a standard prac...</td>\n",
       "      <td>The pinch was initially visually inspected and...</td>\n",
       "      <td>Have pinch tool operator perform several pract...</td>\n",
       "      <td>KSC</td>\n",
       "      <td>10/17/2020</td>\n",
       "      <td>A copper tube was pinched as a test for the Ma...</td>\n",
       "      <td>Inverted metallography image of separated pinc...</td>\n",
       "      <td>Mass Spectrometer observing lunar operations (...</td>\n",
       "      <td>NaN</td>\n",
       "      <td>Human Exploration and Operations, Space Techno...</td>\n",
       "      <td>Public</td>\n",
       "      <td>Implementation » Phase D</td>\n",
       "      <td>NaN</td>\n",
       "      <td>12/10/2020</td>\n",
       "      <td>Engineering Design, Integration and Testing, M...</td>\n",
       "      <td>4</td>\n",
       "    </tr>\n",
       "  </tbody>\n",
       "</table>\n",
       "</div>"
      ],
      "text/plain": [
       "   index  Lesson ID                                              Title  \\\n",
       "0      0      30004  Relationship of Government and Contractor Risk...   \n",
       "1      1      30101  Cable Harness Wiring and Connector Anomalies C...   \n",
       "2      2      29801  Best Practices for the Elemental Profiling of ...   \n",
       "3      3      29702  Integration and Dependency Between Different A...   \n",
       "4      4      29103                          Copper Tube Pinch Failure   \n",
       "\n",
       "                                            Abstract  \\\n",
       "0  The purpose of this lesson is to highlight the...   \n",
       "1  Early indications show that the commercial spa...   \n",
       "2  Trace contaminants in high-purity hydrazine (H...   \n",
       "3  During the Radiological Control Center (RADCC)...   \n",
       "4  While pinching copper tubes is a standard prac...   \n",
       "\n",
       "                                   Lesson(s) Learned  \\\n",
       "0  Approach 1 made it difficult to understand the...   \n",
       "1  As a result of many years of expensive lessons...   \n",
       "2  There was an unexpectedly wide variation in el...   \n",
       "3  If possible, the design phase of both systems ...   \n",
       "4  The pinch was initially visually inspected and...   \n",
       "\n",
       "                                   Recommendation(s) Organization  \\\n",
       "0  Projects should consider RBI's risk management...         LaRC   \n",
       "1  As commercial vehicles and other NASA vehicles...         NESC   \n",
       "2  The recommendations to prevent this lesson fro...         NESC   \n",
       "3  Design phase should incorporate both design te...          KSC   \n",
       "4  Have pinch tool operator perform several pract...          KSC   \n",
       "\n",
       "  Date Lesson Occurred                                      Driving Event  \\\n",
       "0           04/05/2018  Throughout the project, it was repeatedly dete...   \n",
       "1           02/28/2021  NASA has found that the commercial spacecraft ...   \n",
       "2           12/14/2020  Hypergolic propellants (e.g., hydrazine (N2H4)...   \n",
       "3           03/15/2020  The RADCC AV system controls and routes variou...   \n",
       "4           10/17/2020  A copper tube was pinched as a test for the Ma...   \n",
       "\n",
       "                                            Evidence  \\\n",
       "0                                                NaN   \n",
       "1                                                NaN   \n",
       "2                                                NaN   \n",
       "3                                                NaN   \n",
       "4  Inverted metallography image of separated pinc...   \n",
       "\n",
       "                                   Project / Program  \\\n",
       "0                        Radiation Budget Instrument   \n",
       "1  Space Shuttle Program, Commercial Crewed Space...   \n",
       "2  All NASA missions using high purity hydrazine ...   \n",
       "3                Radiological Control Center (RADCC)   \n",
       "4  Mass Spectrometer observing lunar operations (...   \n",
       "\n",
       "  The related NASA policy(s), standard(s), handbook(s), procedure(s) or other rules  \\\n",
       "0  Langley Management System Center Procedure LMS...                                  \n",
       "1                                                NaN                                  \n",
       "2                                                NaN                                  \n",
       "3  NPR 7120.7A NASA Information Technology Progra...                                  \n",
       "4                                                NaN                                  \n",
       "\n",
       "                         NASA Mission Directorate(s) Sensitivity  \\\n",
       "0  Aeronautics Research, Human Exploration and Op...      Public   \n",
       "1                   Human Exploration and Operations      Public   \n",
       "2  Human Exploration and Operations, Science, Spa...      Public   \n",
       "3                   Human Exploration and Operations      Public   \n",
       "4  Human Exploration and Operations, Space Techno...      Public   \n",
       "\n",
       "  From what phase of the program or project was this lesson learned captured?  \\\n",
       "0                                     Implementation                            \n",
       "1                           Implementation » Phase E                            \n",
       "2                                     Not Applicable                            \n",
       "3                                      Not Specified                            \n",
       "4                           Implementation » Phase D                            \n",
       "\n",
       "  Where (other lessons, presentations, publications, etc.)? Publish Date  \\\n",
       "0  LaRC Institutional Knowledge Management (IKM) ...          07/23/2021   \n",
       "1                                                NaN          07/23/2021   \n",
       "2                                                NaN          06/23/2021   \n",
       "3                                                NaN          06/01/2021   \n",
       "4                                                NaN          12/10/2020   \n",
       "\n",
       "                                              Topics  Risk Class  \n",
       "0  Procurement, Small Business & Industrial Relat...           4  \n",
       "1  Flight Equipment, Ground Operations, Hardware,...           4  \n",
       "2  Ground Operations, Launch Vehicle, Parts, Mate...           4  \n",
       "3  Engineering Design, Integration and Testing, S...           4  \n",
       "4  Engineering Design, Integration and Testing, M...           4  "
      ]
     },
     "execution_count": 4,
     "metadata": {},
     "output_type": "execute_result"
    }
   ],
   "source": [
    "df_master = df_lessons.merge(df_riskclasses, on='Lesson ID', how='inner')\n",
    "df_master = df_master[df_master['Risk Class'] != 3].reset_index()\n",
    "\n",
    "display(df_master.shape)\n",
    "df_master.head()"
   ]
  },
  {
   "cell_type": "markdown",
   "metadata": {},
   "source": [
    "<a class=\"anchor\" id=\"step-2\"></a>\n",
    "\n",
    "## Helper Functions for Data Prep and Modeling\n",
    "\n",
    "There are many repetitive steps during data prep and modeling. Here, we will define helper functions to carry out those tasks.\n",
    "\n",
    "### Data Preparation Helper Functions\n",
    "\n",
    "#### preprocess()\n",
    "\n",
    "We start with the `preprocess()` function, which will use the __gensim__ package's `simple_preprocess()` function and perform some additional steps. During the prototyping stage, we can process using the standard parameters for `simple_preprocess()`. However, for the augmented stage, we need to change the standard *max_len* value."
   ]
  },
  {
   "cell_type": "code",
   "execution_count": 5,
   "metadata": {},
   "outputs": [],
   "source": [
    "stemmer = PorterStemmer()\n",
    "\n",
    "def preprocess_prototype(text):\n",
    "    global stemmer\n",
    "    result = ''\n",
    "    for token in gensim.utils.simple_preprocess(text):\n",
    "        if token not in gensim.parsing.preprocessing.STOPWORDS and len(token) > 3:\n",
    "            result = result + ' ' + stemmer.stem(WordNetLemmatizer().lemmatize(token, pos='v'))\n",
    "    return result.strip()\n",
    "\n",
    "def preprocess_augmented(text):\n",
    "    global stemmer\n",
    "    result = ''\n",
    "    for token in gensim.utils.simple_preprocess(text, max_len=np.Inf):\n",
    "        if token not in gensim.parsing.preprocessing.STOPWORDS and len(token) > 3:\n",
    "            result = result + ' ' + stemmer.stem(WordNetLemmatizer().lemmatize(token, pos='v'))\n",
    "    return result.strip()"
   ]
  },
  {
   "cell_type": "markdown",
   "metadata": {},
   "source": [
    "#### create_pca_representation()\n",
    "\n",
    "Next, we will write the `create_pca_representation()` function, which will take our preprocessed descriptions, convert them into TF-IDF vectors, and then convert them using PCA into the format needed for further analysis. This function will also return the vectorizers used for both TF-IDF and PCA."
   ]
  },
  {
   "cell_type": "code",
   "execution_count": 6,
   "metadata": {},
   "outputs": [],
   "source": [
    "def create_pca_representation(description_col, type):\n",
    "    if type=='prototype':\n",
    "        tfidf_vectorizer = TfidfVectorizer(analyzer='word', ngram_range = (1, 2), min_df = 5, max_df=0.5, preprocessor=preprocess_prototype,\n",
    "                                           stop_words = 'english', strip_accents='unicode', lowercase=True)\n",
    "    elif type=='augmented':\n",
    "        tfidf_vectorizer = TfidfVectorizer(analyzer='word', ngram_range = (1, 2), min_df = 5, max_df=0.5, preprocessor=preprocess_augmented,\n",
    "                                           stop_words = 'english', strip_accents='unicode', lowercase=True)\n",
    "    pca_vectorizer = PCA(n_components=100, random_state=5)\n",
    "\n",
    "    tfidf_matrix = tfidf_vectorizer.fit_transform(description_col)\n",
    "    tfidf_df     = pd.DataFrame(tfidf_matrix.todense())\n",
    "    pca_matrix   = pca_vectorizer.fit_transform(tfidf_df)\n",
    "\n",
    "    return pca_matrix, tfidf_vectorizer, pca_vectorizer"
   ]
  },
  {
   "cell_type": "markdown",
   "metadata": {},
   "source": [
    "#### split_data()\n",
    "\n",
    "Next, we will write the `split_data()` function, which will use __imblearn__ package's `OneSidedSelection()` function and __sklearn__ package's `train_test_split()` function to split the data into a training set and a testing set."
   ]
  },
  {
   "cell_type": "code",
   "execution_count": 7,
   "metadata": {},
   "outputs": [],
   "source": [
    "def split_data(df):\n",
    "    X = df.drop(['Lesson ID', 'Risk Class'], axis=1)\n",
    "    y = df['Risk Class']\n",
    "\n",
    "    X, y = OneSidedSelection(random_state=5).fit_resample(X, y)\n",
    "    return train_test_split(X, y, test_size=0.3, stratify=y, random_state=5)"
   ]
  },
  {
   "cell_type": "markdown",
   "metadata": {},
   "source": [
    "### Modeling Helper Functions\n",
    "\n",
    "#### Create Custom Scorer\n",
    "\n",
    "Our model tuning will be based on the F1-score metric. However, because our problem is multi-class, we need to specify the _average_ parameter."
   ]
  },
  {
   "cell_type": "code",
   "execution_count": 8,
   "metadata": {},
   "outputs": [],
   "source": [
    "scorer = make_scorer(f1_score, average = 'weighted')"
   ]
  },
  {
   "cell_type": "markdown",
   "metadata": {},
   "source": [
    "#### model_logisticregression_tuned()\n",
    "\n",
    "The first model we will try to run is a standard `LogisticRegression` model, tuned for the following parameters:\n",
    "- *solver*: the algorithm to use in the optimization problem\n",
    "- *penalty*: the norm of the penalty\n",
    "- *C*: regularization term"
   ]
  },
  {
   "cell_type": "code",
   "execution_count": 9,
   "metadata": {},
   "outputs": [],
   "source": [
    "def model_logisticregression_tuned(X_train, y_train, X_test, y_test):\n",
    "    # create parameter grid to fine-tune model\n",
    "    param_grid = {\n",
    "        'solver': ['newton-cg', 'lbfgs'],\n",
    "        'penalty': ['none', 'l2'],\n",
    "        'C': [0.0001, 0.001, 0.01, 0.1, 0.5, 1.0, 10.0]\n",
    "    }\n",
    "\n",
    "    # run the cross-validated grid search to identify the best parameters for the model\n",
    "    CV_lm = GridSearchCV(estimator=LogisticRegression(class_weight='balanced', random_state=5),\n",
    "                        scoring=scorer, param_grid=param_grid, n_jobs=-1, verbose=0).fit(X_train, y_train)\n",
    "\n",
    "    # extract the best parameters, as selected by the grid search\n",
    "    best_params = CV_lm.best_params_\n",
    "    best_solver = best_params['solver']\n",
    "    best_penalty = best_params['penalty']\n",
    "    best_C = best_params['C']\n",
    "    print(best_params)\n",
    "\n",
    "    # create the final LogisticRegression\n",
    "    best_lm = LogisticRegression(class_weight='balanced', random_state=5,\n",
    "                                solver=best_solver,\n",
    "                                penalty=best_penalty,\n",
    "                                C=best_C).fit(X_train, y_train)\n",
    "    lm_pred = best_lm.predict(X_test)\n",
    "    \n",
    "    # creating a confusion matrix\n",
    "    lm_cm = confusion_matrix(y_test, lm_pred)\n",
    "\n",
    "    # track other related model performance metrics\n",
    "    lm_metrics = classification_report(y_test, lm_pred, digits=3)\n",
    "    \n",
    "    # return the model and the confusion matrix\n",
    "    return best_lm, lm_pred, lm_cm, lm_metrics"
   ]
  },
  {
   "cell_type": "markdown",
   "metadata": {},
   "source": [
    "#### model_randomforestclassifier_tuned()\n",
    "\n",
    "The next model we will try to run is a `RandomForestClassifier` model, tuned for the following parameters:\n",
    "- *n_estimators*: the number of trees in the forest\n",
    "- *max_features*: the number of features to consider when looking for the best split\n",
    "- *max_depth*: the maximum depth of the tree\n",
    "- *criterion*: the function to measure the quality of a split"
   ]
  },
  {
   "cell_type": "code",
   "execution_count": 10,
   "metadata": {},
   "outputs": [],
   "source": [
    "def model_randomforestclassifier_tuned(X_train, y_train, X_test, y_test):\n",
    "    # create parameter grid to fine-tune model\n",
    "    param_grid = { \n",
    "        'n_estimators': range(100, 400, 100),\n",
    "        'max_features': ['auto', 'log2', 0.25, 0.33, 0.5],\n",
    "        'max_depth' : [None, 5, 8],\n",
    "        'criterion' : ['gini', 'entropy']\n",
    "    }\n",
    "\n",
    "    # get balanced sample weights\n",
    "    sample = class_weight.compute_sample_weight('balanced', y_train)\n",
    "\n",
    "    # run the cross-validated grid search to identify the best parameters for the model\n",
    "    CV_rfc = GridSearchCV(estimator=RandomForestClassifier(class_weight='balanced', random_state=5), scoring=scorer,\n",
    "                        param_grid=param_grid, n_jobs=-1, verbose=2).fit(X_train, y_train, sample_weight=sample)\n",
    "\n",
    "    # extract the best parameters, as selected by the grid search\n",
    "    best_params = CV_rfc.best_params_\n",
    "    best_n_estimators = best_params['n_estimators']\n",
    "    best_max_features = best_params['max_features']\n",
    "    best_max_depth = best_params['max_depth']\n",
    "    best_criterion = best_params['criterion']\n",
    "    print(best_params)\n",
    "\n",
    "    # create the final RandomForestClassifier\n",
    "    best_rfc = RandomForestClassifier(class_weight='balanced', random_state=5,\n",
    "                                    max_features=best_max_features,\n",
    "                                    n_estimators=best_n_estimators,\n",
    "                                    max_depth=best_max_depth,\n",
    "                                    criterion=best_criterion).fit(X_train, y_train, sample_weight=sample)\n",
    "    rfc_pred = best_rfc.predict(X_test)\n",
    "\n",
    "    # creating a confusion matrix\n",
    "    rfc_cm = confusion_matrix(y_test, rfc_pred)\n",
    "\n",
    "    # track other related model performance metrics\n",
    "    rfc_metrics = classification_report(y_test, rfc_pred, digits=3)\n",
    "\n",
    "    # return the model and the confusion matrix\n",
    "    return best_rfc, rfc_pred, rfc_cm, rfc_metrics"
   ]
  },
  {
   "cell_type": "markdown",
   "metadata": {},
   "source": [
    "#### model_lgbmclassifier_tuned()\n",
    "\n",
    "The next model we will try to run is a `LGBMClassifier` model, tuned for the following parameters:\n",
    "- *max_depth*: maximum tree depth for base learners, <=0 means no limit\n",
    "- *num_leaves*: maximum tree leaves for base learners\n",
    "- *reg_alpha*: L1 regularization term on weights\n",
    "- *reg_lambda*: L2 regularization term on weights\n",
    "- *min_split_gain*: minimum loss reduction required to make a further partition on a leaf node of the tree"
   ]
  },
  {
   "cell_type": "code",
   "execution_count": 11,
   "metadata": {},
   "outputs": [],
   "source": [
    "def model_lgbmclassifier_tuned(X_train, y_train, X_test, y_test):\n",
    "    # create parameter grid to fine-tune model\n",
    "    param_grid = {\n",
    "        'max_depth': [15, 20, -1],\n",
    "        'num_leaves': [10, 20, 30],\n",
    "        'reg_alpha': [0, 0.5, 1.0],\n",
    "        'reg_lambda': [0, 0.5, 1.0],\n",
    "        'min_split_gain': [0, 0.2, 0.4]\n",
    "    }\n",
    "\n",
    "    # run the cross-validated grid search to identify the best parameters for the model\n",
    "    CV_lgb = GridSearchCV(estimator=LGBMClassifier(class_weight='balanced', random_state=5), scoring=scorer,\n",
    "                        param_grid=param_grid, n_jobs=-1, verbose=2).fit(X_train, y_train)\n",
    "\n",
    "    # extract the best parameters, as selected by the grid search\n",
    "    best_params = CV_lgb.best_params_\n",
    "    best_max_depth = best_params['max_depth']\n",
    "    best_num_leaves = best_params['num_leaves']\n",
    "    best_reg_alpha = best_params['reg_alpha']\n",
    "    best_reg_lambda = best_params['reg_lambda']\n",
    "    best_min_split_gain = best_params['min_split_gain']\n",
    "    print(best_params)\n",
    "\n",
    "    # create the final LGBMClassifier\n",
    "    best_lgb = LGBMClassifier(class_weight='balanced', random_state=5,\n",
    "                            max_depth=best_max_depth,\n",
    "                            num_leaves=best_num_leaves,\n",
    "                            reg_alpha=best_reg_alpha,\n",
    "                            reg_lambda=best_reg_lambda,\n",
    "                            min_split_gain=best_min_split_gain).fit(X_train, y_train)\n",
    "    lgb_pred = best_lgb.predict(X_test)\n",
    "\n",
    "    # creating a confusion matrix\n",
    "    lgb_cm = confusion_matrix(y_test, lgb_pred)\n",
    "\n",
    "    # track other related model performance metrics\n",
    "    lgb_metrics = classification_report(y_test, lgb_pred, digits=3)\n",
    "\n",
    "    # return the model and the confusion matrix\n",
    "    return best_lgb, lgb_pred, lgb_cm, lgb_metrics"
   ]
  },
  {
   "cell_type": "markdown",
   "metadata": {},
   "source": [
    "#### model_knnclassifier_tuned()\n",
    "\n",
    "The next model we will try to run is a `KNeighborsClassifier` model, tuned for the following parameters:\n",
    "- *n_neighbors*: number of neighbors\n",
    "- *weights*: weight function used in prediction\n",
    "- *algorithm*: algorithm used to compute the nearest neighbors\n",
    "- *p*: power parameter for the Minkowski metric (1=L1, 2=L2, 3=L_3 for Minkowski)"
   ]
  },
  {
   "cell_type": "code",
   "execution_count": 12,
   "metadata": {},
   "outputs": [],
   "source": [
    "def model_knnclassifier_tuned(X_train, y_train, X_test, y_test):\n",
    "    # create parameter grid to fine-tune model\n",
    "    param_grid = {\n",
    "        'n_neighbors': [1, 3, 5],\n",
    "        'weights': ['uniform', 'distance'],\n",
    "        'algorithm': ['auto', 'ball_tree', 'kd_tree', 'brute'],\n",
    "        'p': [1, 2, 3]\n",
    "    }\n",
    "\n",
    "    # run the cross-validated grid search to identify the best parameters for the model\n",
    "    CV_knn = GridSearchCV(estimator=KNeighborsClassifier(), scoring=scorer,\n",
    "                        param_grid=param_grid, n_jobs=-1, verbose=2).fit(X_train, y_train)\n",
    "\n",
    "    # extract the best parameters, as selected by the grid search\n",
    "    best_params = CV_knn.best_params_\n",
    "    best_n_neighbors = best_params['n_neighbors']\n",
    "    best_weights = best_params['weights']\n",
    "    best_algorithm = best_params['algorithm']\n",
    "    best_p = best_params['p']\n",
    "    print(best_params)\n",
    "\n",
    "    # create the final KNeighborsClassifier\n",
    "    best_knn = KNeighborsClassifier(n_neighbors=best_n_neighbors,\n",
    "                            weights=best_weights,\n",
    "                            algorithm=best_algorithm,\n",
    "                            p=best_p).fit(X_train, y_train)\n",
    "    knn_pred = best_knn.predict(X_test)\n",
    "\n",
    "    # creating a confusion matrix\n",
    "    knn_cm = confusion_matrix(y_test, knn_pred)\n",
    "\n",
    "    # track other related model performance metrics\n",
    "    knn_metrics = classification_report(y_test, knn_pred, digits=3)\n",
    "\n",
    "    # return the model and the confusion matrix\n",
    "    return best_knn, knn_pred, knn_cm, knn_metrics"
   ]
  },
  {
   "cell_type": "markdown",
   "metadata": {},
   "source": [
    "#### model_gnbclassifier_tuned()\n",
    "\n",
    "The final model we will try to run is a `GaussianNB` model, tuned for the following parameters:\n",
    "- *var_smoothing*: portion of the largest variance of all features that is added to variances for calculation stability"
   ]
  },
  {
   "cell_type": "code",
   "execution_count": 13,
   "metadata": {},
   "outputs": [],
   "source": [
    "from sklearn.utils import class_weight\n",
    "\n",
    "def model_gnbclassifier_tuned(X_train, y_train, X_test, y_test):\n",
    "    # create parameter grid to fine-tune model\n",
    "    param_grid = {\n",
    "        'var_smoothing': np.logspace(0,-9, num=20)\n",
    "    }\n",
    "\n",
    "    # get balanced sample weights\n",
    "    sample = class_weight.compute_sample_weight('balanced', y_train)\n",
    "\n",
    "    # run the cross-validated grid search to identify the best parameters for the model\n",
    "    CV_gnb = GridSearchCV(estimator=GaussianNB(), scoring=scorer,\n",
    "                          param_grid=param_grid, n_jobs=-1, verbose=2).fit(X_train, y_train, sample_weight=sample)\n",
    "\n",
    "    # extract the best parameters, as selected by the grid search\n",
    "    best_params = CV_gnb.best_params_\n",
    "    best_var_smoothing = best_params['var_smoothing']\n",
    "    print(best_params)\n",
    "\n",
    "    # create the final GaussianNB classifier\n",
    "    best_gnb = GaussianNB(var_smoothing=best_var_smoothing).fit(X_train, y_train, sample_weight=sample)\n",
    "    gnb_pred = best_gnb.predict(X_test)\n",
    "\n",
    "    # creating a confusion matrix\n",
    "    gnb_cm = confusion_matrix(y_test, gnb_pred)\n",
    "\n",
    "    # track other related model performance metrics\n",
    "    gnb_metrics = classification_report(y_test, gnb_pred, digits=3)\n",
    "\n",
    "    # return the model and the confusion matrix\n",
    "    return best_gnb, gnb_pred, gnb_cm, gnb_metrics"
   ]
  },
  {
   "cell_type": "markdown",
   "metadata": {},
   "source": [
    "<a class=\"anchor\" id=\"step-3\"></a>\n",
    "\n",
    "## Prototyping Baseline Solution\n",
    "\n",
    "The problem at hand is a classification task; we want to use data available about projects before they are officially launched to predict what class of risk they fall under. Therefore, we intend to generate a text-based description of each project, carry out basic NLP transformations to convert the descriptions into tabular data, and utilize several different multi-class classification algorithms to try to accurately predict which class of risk each project is likely to fall under.\n",
    "\n",
    "### Prep Dataframe for Prototyping\n",
    "\n",
    "We will create a prototype of the classification model using just the _Title_ and _Abstract_. Depending on the performance of the model, we may augment the inputs with other features as needed.\n",
    "\n",
    "First, we need to drop all irrelevant columns."
   ]
  },
  {
   "cell_type": "code",
   "execution_count": 14,
   "metadata": {},
   "outputs": [
    {
     "data": {
      "text/plain": [
       "(2067, 4)"
      ]
     },
     "metadata": {},
     "output_type": "display_data"
    },
    {
     "data": {
      "text/html": [
       "<div>\n",
       "<style scoped>\n",
       "    .dataframe tbody tr th:only-of-type {\n",
       "        vertical-align: middle;\n",
       "    }\n",
       "\n",
       "    .dataframe tbody tr th {\n",
       "        vertical-align: top;\n",
       "    }\n",
       "\n",
       "    .dataframe thead th {\n",
       "        text-align: right;\n",
       "    }\n",
       "</style>\n",
       "<table border=\"1\" class=\"dataframe\">\n",
       "  <thead>\n",
       "    <tr style=\"text-align: right;\">\n",
       "      <th></th>\n",
       "      <th>Lesson ID</th>\n",
       "      <th>Title</th>\n",
       "      <th>Abstract</th>\n",
       "      <th>Risk Class</th>\n",
       "    </tr>\n",
       "  </thead>\n",
       "  <tbody>\n",
       "    <tr>\n",
       "      <th>0</th>\n",
       "      <td>30004</td>\n",
       "      <td>Relationship of Government and Contractor Risk...</td>\n",
       "      <td>The purpose of this lesson is to highlight the...</td>\n",
       "      <td>4</td>\n",
       "    </tr>\n",
       "    <tr>\n",
       "      <th>1</th>\n",
       "      <td>30101</td>\n",
       "      <td>Cable Harness Wiring and Connector Anomalies C...</td>\n",
       "      <td>Early indications show that the commercial spa...</td>\n",
       "      <td>4</td>\n",
       "    </tr>\n",
       "    <tr>\n",
       "      <th>2</th>\n",
       "      <td>29801</td>\n",
       "      <td>Best Practices for the Elemental Profiling of ...</td>\n",
       "      <td>Trace contaminants in high-purity hydrazine (H...</td>\n",
       "      <td>4</td>\n",
       "    </tr>\n",
       "    <tr>\n",
       "      <th>3</th>\n",
       "      <td>29702</td>\n",
       "      <td>Integration and Dependency Between Different A...</td>\n",
       "      <td>During the Radiological Control Center (RADCC)...</td>\n",
       "      <td>4</td>\n",
       "    </tr>\n",
       "    <tr>\n",
       "      <th>4</th>\n",
       "      <td>29103</td>\n",
       "      <td>Copper Tube Pinch Failure</td>\n",
       "      <td>While pinching copper tubes is a standard prac...</td>\n",
       "      <td>4</td>\n",
       "    </tr>\n",
       "  </tbody>\n",
       "</table>\n",
       "</div>"
      ],
      "text/plain": [
       "   Lesson ID                                              Title  \\\n",
       "0      30004  Relationship of Government and Contractor Risk...   \n",
       "1      30101  Cable Harness Wiring and Connector Anomalies C...   \n",
       "2      29801  Best Practices for the Elemental Profiling of ...   \n",
       "3      29702  Integration and Dependency Between Different A...   \n",
       "4      29103                          Copper Tube Pinch Failure   \n",
       "\n",
       "                                            Abstract  Risk Class  \n",
       "0  The purpose of this lesson is to highlight the...           4  \n",
       "1  Early indications show that the commercial spa...           4  \n",
       "2  Trace contaminants in high-purity hydrazine (H...           4  \n",
       "3  During the Radiological Control Center (RADCC)...           4  \n",
       "4  While pinching copper tubes is a standard prac...           4  "
      ]
     },
     "execution_count": 14,
     "metadata": {},
     "output_type": "execute_result"
    }
   ],
   "source": [
    "df_prototyping = df_master[['Lesson ID', 'Title', 'Abstract', 'Risk Class']]\n",
    "\n",
    "display(df_prototyping.shape)\n",
    "df_prototyping.head()"
   ]
  },
  {
   "cell_type": "markdown",
   "metadata": {},
   "source": [
    "Next, we need to combine the _Title_ and _Abstract_ into one block of text."
   ]
  },
  {
   "cell_type": "code",
   "execution_count": 15,
   "metadata": {},
   "outputs": [
    {
     "data": {
      "text/plain": [
       "(2067, 3)"
      ]
     },
     "metadata": {},
     "output_type": "display_data"
    },
    {
     "data": {
      "text/html": [
       "<div>\n",
       "<style scoped>\n",
       "    .dataframe tbody tr th:only-of-type {\n",
       "        vertical-align: middle;\n",
       "    }\n",
       "\n",
       "    .dataframe tbody tr th {\n",
       "        vertical-align: top;\n",
       "    }\n",
       "\n",
       "    .dataframe thead th {\n",
       "        text-align: right;\n",
       "    }\n",
       "</style>\n",
       "<table border=\"1\" class=\"dataframe\">\n",
       "  <thead>\n",
       "    <tr style=\"text-align: right;\">\n",
       "      <th></th>\n",
       "      <th>Lesson ID</th>\n",
       "      <th>Risk Class</th>\n",
       "      <th>Description</th>\n",
       "    </tr>\n",
       "  </thead>\n",
       "  <tbody>\n",
       "    <tr>\n",
       "      <th>0</th>\n",
       "      <td>30004</td>\n",
       "      <td>4</td>\n",
       "      <td>Relationship of Government and Contractor Risk...</td>\n",
       "    </tr>\n",
       "    <tr>\n",
       "      <th>1</th>\n",
       "      <td>30101</td>\n",
       "      <td>4</td>\n",
       "      <td>Cable Harness Wiring and Connector Anomalies C...</td>\n",
       "    </tr>\n",
       "    <tr>\n",
       "      <th>2</th>\n",
       "      <td>29801</td>\n",
       "      <td>4</td>\n",
       "      <td>Best Practices for the Elemental Profiling of ...</td>\n",
       "    </tr>\n",
       "    <tr>\n",
       "      <th>3</th>\n",
       "      <td>29702</td>\n",
       "      <td>4</td>\n",
       "      <td>Integration and Dependency Between Different A...</td>\n",
       "    </tr>\n",
       "    <tr>\n",
       "      <th>4</th>\n",
       "      <td>29103</td>\n",
       "      <td>4</td>\n",
       "      <td>Copper Tube Pinch Failure While pinching coppe...</td>\n",
       "    </tr>\n",
       "  </tbody>\n",
       "</table>\n",
       "</div>"
      ],
      "text/plain": [
       "   Lesson ID  Risk Class                                        Description\n",
       "0      30004           4  Relationship of Government and Contractor Risk...\n",
       "1      30101           4  Cable Harness Wiring and Connector Anomalies C...\n",
       "2      29801           4  Best Practices for the Elemental Profiling of ...\n",
       "3      29702           4  Integration and Dependency Between Different A...\n",
       "4      29103           4  Copper Tube Pinch Failure While pinching coppe..."
      ]
     },
     "execution_count": 15,
     "metadata": {},
     "output_type": "execute_result"
    }
   ],
   "source": [
    "if 'Title' in df_prototyping.columns:\n",
    "    df_prototyping['Description'] = df_prototyping['Title'].astype(str) + ' ' + df_prototyping['Abstract'].astype(str)\n",
    "    df_prototyping.drop(['Title', 'Abstract'], axis=1, inplace=True)\n",
    "\n",
    "display(df_prototyping.shape)\n",
    "df_prototyping.head()"
   ]
  },
  {
   "cell_type": "markdown",
   "metadata": {},
   "source": [
    "We need to do our usual data preprocessing steps and extract a PCA representation of each _Description_ using our `create_pca_representation()` helper function. We will replace the _Description_ column with this PCA representation."
   ]
  },
  {
   "cell_type": "code",
   "execution_count": 16,
   "metadata": {},
   "outputs": [
    {
     "data": {
      "text/plain": [
       "(2067, 102)"
      ]
     },
     "metadata": {},
     "output_type": "display_data"
    },
    {
     "data": {
      "text/html": [
       "<div>\n",
       "<style scoped>\n",
       "    .dataframe tbody tr th:only-of-type {\n",
       "        vertical-align: middle;\n",
       "    }\n",
       "\n",
       "    .dataframe tbody tr th {\n",
       "        vertical-align: top;\n",
       "    }\n",
       "\n",
       "    .dataframe thead th {\n",
       "        text-align: right;\n",
       "    }\n",
       "</style>\n",
       "<table border=\"1\" class=\"dataframe\">\n",
       "  <thead>\n",
       "    <tr style=\"text-align: right;\">\n",
       "      <th></th>\n",
       "      <th>Lesson ID</th>\n",
       "      <th>Risk Class</th>\n",
       "      <th>0</th>\n",
       "      <th>1</th>\n",
       "      <th>2</th>\n",
       "      <th>3</th>\n",
       "      <th>4</th>\n",
       "      <th>5</th>\n",
       "      <th>6</th>\n",
       "      <th>7</th>\n",
       "      <th>...</th>\n",
       "      <th>90</th>\n",
       "      <th>91</th>\n",
       "      <th>92</th>\n",
       "      <th>93</th>\n",
       "      <th>94</th>\n",
       "      <th>95</th>\n",
       "      <th>96</th>\n",
       "      <th>97</th>\n",
       "      <th>98</th>\n",
       "      <th>99</th>\n",
       "    </tr>\n",
       "  </thead>\n",
       "  <tbody>\n",
       "    <tr>\n",
       "      <th>0</th>\n",
       "      <td>30004</td>\n",
       "      <td>4</td>\n",
       "      <td>-0.033854</td>\n",
       "      <td>0.082005</td>\n",
       "      <td>0.259533</td>\n",
       "      <td>0.067744</td>\n",
       "      <td>0.047458</td>\n",
       "      <td>-0.047642</td>\n",
       "      <td>-0.051692</td>\n",
       "      <td>0.031634</td>\n",
       "      <td>...</td>\n",
       "      <td>0.019679</td>\n",
       "      <td>-0.015403</td>\n",
       "      <td>0.036234</td>\n",
       "      <td>-0.084950</td>\n",
       "      <td>-0.029656</td>\n",
       "      <td>0.033625</td>\n",
       "      <td>0.001141</td>\n",
       "      <td>-0.062345</td>\n",
       "      <td>0.025706</td>\n",
       "      <td>-0.034294</td>\n",
       "    </tr>\n",
       "    <tr>\n",
       "      <th>1</th>\n",
       "      <td>30101</td>\n",
       "      <td>4</td>\n",
       "      <td>0.100768</td>\n",
       "      <td>-0.114094</td>\n",
       "      <td>0.037132</td>\n",
       "      <td>-0.092427</td>\n",
       "      <td>0.037966</td>\n",
       "      <td>-0.012349</td>\n",
       "      <td>0.005554</td>\n",
       "      <td>-0.059482</td>\n",
       "      <td>...</td>\n",
       "      <td>-0.045800</td>\n",
       "      <td>0.118993</td>\n",
       "      <td>0.021418</td>\n",
       "      <td>0.100452</td>\n",
       "      <td>-0.092462</td>\n",
       "      <td>-0.006570</td>\n",
       "      <td>0.046110</td>\n",
       "      <td>-0.038476</td>\n",
       "      <td>0.038111</td>\n",
       "      <td>0.053453</td>\n",
       "    </tr>\n",
       "    <tr>\n",
       "      <th>2</th>\n",
       "      <td>29801</td>\n",
       "      <td>4</td>\n",
       "      <td>-0.063784</td>\n",
       "      <td>0.006688</td>\n",
       "      <td>-0.007435</td>\n",
       "      <td>-0.019258</td>\n",
       "      <td>-0.015219</td>\n",
       "      <td>-0.060059</td>\n",
       "      <td>0.013481</td>\n",
       "      <td>-0.061282</td>\n",
       "      <td>...</td>\n",
       "      <td>0.043561</td>\n",
       "      <td>-0.020959</td>\n",
       "      <td>-0.001669</td>\n",
       "      <td>0.007417</td>\n",
       "      <td>0.032759</td>\n",
       "      <td>0.021461</td>\n",
       "      <td>-0.037661</td>\n",
       "      <td>-0.032862</td>\n",
       "      <td>0.047159</td>\n",
       "      <td>0.027639</td>\n",
       "    </tr>\n",
       "    <tr>\n",
       "      <th>3</th>\n",
       "      <td>29702</td>\n",
       "      <td>4</td>\n",
       "      <td>-0.034003</td>\n",
       "      <td>0.000247</td>\n",
       "      <td>-0.011641</td>\n",
       "      <td>-0.089555</td>\n",
       "      <td>0.108049</td>\n",
       "      <td>0.064706</td>\n",
       "      <td>-0.057105</td>\n",
       "      <td>-0.028622</td>\n",
       "      <td>...</td>\n",
       "      <td>-0.001350</td>\n",
       "      <td>-0.021536</td>\n",
       "      <td>0.085029</td>\n",
       "      <td>0.035786</td>\n",
       "      <td>-0.122584</td>\n",
       "      <td>0.009606</td>\n",
       "      <td>0.091326</td>\n",
       "      <td>-0.005283</td>\n",
       "      <td>-0.045413</td>\n",
       "      <td>-0.009746</td>\n",
       "    </tr>\n",
       "    <tr>\n",
       "      <th>4</th>\n",
       "      <td>29103</td>\n",
       "      <td>4</td>\n",
       "      <td>-0.051290</td>\n",
       "      <td>-0.010528</td>\n",
       "      <td>-0.037038</td>\n",
       "      <td>-0.011080</td>\n",
       "      <td>-0.020117</td>\n",
       "      <td>-0.037159</td>\n",
       "      <td>0.022863</td>\n",
       "      <td>-0.037152</td>\n",
       "      <td>...</td>\n",
       "      <td>0.018976</td>\n",
       "      <td>0.082383</td>\n",
       "      <td>-0.059004</td>\n",
       "      <td>-0.073744</td>\n",
       "      <td>-0.074187</td>\n",
       "      <td>0.030126</td>\n",
       "      <td>-0.114796</td>\n",
       "      <td>0.099240</td>\n",
       "      <td>0.010487</td>\n",
       "      <td>0.045370</td>\n",
       "    </tr>\n",
       "  </tbody>\n",
       "</table>\n",
       "<p>5 rows × 102 columns</p>\n",
       "</div>"
      ],
      "text/plain": [
       "   Lesson ID  Risk Class         0         1         2         3         4  \\\n",
       "0      30004           4 -0.033854  0.082005  0.259533  0.067744  0.047458   \n",
       "1      30101           4  0.100768 -0.114094  0.037132 -0.092427  0.037966   \n",
       "2      29801           4 -0.063784  0.006688 -0.007435 -0.019258 -0.015219   \n",
       "3      29702           4 -0.034003  0.000247 -0.011641 -0.089555  0.108049   \n",
       "4      29103           4 -0.051290 -0.010528 -0.037038 -0.011080 -0.020117   \n",
       "\n",
       "          5         6         7  ...        90        91        92        93  \\\n",
       "0 -0.047642 -0.051692  0.031634  ...  0.019679 -0.015403  0.036234 -0.084950   \n",
       "1 -0.012349  0.005554 -0.059482  ... -0.045800  0.118993  0.021418  0.100452   \n",
       "2 -0.060059  0.013481 -0.061282  ...  0.043561 -0.020959 -0.001669  0.007417   \n",
       "3  0.064706 -0.057105 -0.028622  ... -0.001350 -0.021536  0.085029  0.035786   \n",
       "4 -0.037159  0.022863 -0.037152  ...  0.018976  0.082383 -0.059004 -0.073744   \n",
       "\n",
       "         94        95        96        97        98        99  \n",
       "0 -0.029656  0.033625  0.001141 -0.062345  0.025706 -0.034294  \n",
       "1 -0.092462 -0.006570  0.046110 -0.038476  0.038111  0.053453  \n",
       "2  0.032759  0.021461 -0.037661 -0.032862  0.047159  0.027639  \n",
       "3 -0.122584  0.009606  0.091326 -0.005283 -0.045413 -0.009746  \n",
       "4 -0.074187  0.030126 -0.114796  0.099240  0.010487  0.045370  \n",
       "\n",
       "[5 rows x 102 columns]"
      ]
     },
     "execution_count": 16,
     "metadata": {},
     "output_type": "execute_result"
    }
   ],
   "source": [
    "if 'Description' in df_prototyping.columns:\n",
    "    pca_matrix, tfidf_vectorizer, pca_vectorizer = create_pca_representation(df_prototyping['Description'], 'prototype')\n",
    "    df_prototyping.drop('Description', axis=1, inplace=True)\n",
    "    df_prototyping = pd.concat([df_prototyping, pd.DataFrame(pca_matrix)], axis=1)\n",
    "\n",
    "display(df_prototyping.shape)\n",
    "df_prototyping.head()"
   ]
  },
  {
   "cell_type": "markdown",
   "metadata": {},
   "source": [
    "We now split the data into a training and testing set using the `split_data()` helper function."
   ]
  },
  {
   "cell_type": "code",
   "execution_count": 17,
   "metadata": {},
   "outputs": [
    {
     "name": "stdout",
     "output_type": "stream",
     "text": [
      "Training Output Variable Distribution\n"
     ]
    },
    {
     "data": {
      "text/plain": [
       "4    989\n",
       "0    258\n",
       "2     66\n",
       "1      7\n",
       "Name: Risk Class, dtype: int64"
      ]
     },
     "metadata": {},
     "output_type": "display_data"
    },
    {
     "name": "stdout",
     "output_type": "stream",
     "text": [
      "\n",
      "Testing Output Variable Distribution\n"
     ]
    },
    {
     "data": {
      "text/plain": [
       "4    425\n",
       "0    111\n",
       "2     28\n",
       "1      3\n",
       "Name: Risk Class, dtype: int64"
      ]
     },
     "metadata": {},
     "output_type": "display_data"
    }
   ],
   "source": [
    "X_train, X_test, y_train, y_test = split_data(df_prototyping)\n",
    "\n",
    "print('Training Output Variable Distribution')\n",
    "display(y_train.value_counts())\n",
    "print()\n",
    "print('Testing Output Variable Distribution')\n",
    "display(y_test.value_counts())\n"
   ]
  },
  {
   "cell_type": "markdown",
   "metadata": {},
   "source": [
    "### Multi-Class Modeling on Prototype\n",
    "\n",
    "***\n",
    "#### Logistic Regression\n",
    "***"
   ]
  },
  {
   "cell_type": "code",
   "execution_count": 18,
   "metadata": {},
   "outputs": [
    {
     "name": "stdout",
     "output_type": "stream",
     "text": [
      "{'C': 10.0, 'penalty': 'l2', 'solver': 'newton-cg'}\n"
     ]
    },
    {
     "data": {
      "image/png": "[encoded data removed]",
      "text/plain": [
       "<Figure size 432x288 with 2 Axes>"
      ]
     },
     "metadata": {
      "needs_background": "light"
     },
     "output_type": "display_data"
    },
    {
     "name": "stdout",
     "output_type": "stream",
     "text": [
      "              precision    recall  f1-score   support\n",
      "\n",
      "           0      0.481     0.694     0.568       111\n",
      "           1      0.133     0.667     0.222         3\n",
      "           2      0.176     0.571     0.269        28\n",
      "           4      0.940     0.666     0.780       425\n",
      "\n",
      "    accuracy                          0.667       567\n",
      "   macro avg      0.433     0.649     0.460       567\n",
      "weighted avg      0.808     0.667     0.710       567\n",
      "\n"
     ]
    }
   ],
   "source": [
    "best_lm, lm_pred, lm_cm, lm_metrics = model_logisticregression_tuned(X_train, y_train, X_test, y_test)\n",
    "\n",
    "# display the confusion matrix for the logistic regression model\n",
    "dist = ConfusionMatrixDisplay(confusion_matrix=lm_cm).plot(cmap=plt.cm.Blues)\n",
    "plt.show()\n",
    "print(lm_metrics)"
   ]
  },
  {
   "cell_type": "markdown",
   "metadata": {},
   "source": [
    "***\n",
    "#### Random Forest Classifier\n",
    "***"
   ]
  },
  {
   "cell_type": "code",
   "execution_count": 19,
   "metadata": {},
   "outputs": [
    {
     "name": "stdout",
     "output_type": "stream",
     "text": [
      "Fitting 5 folds for each of 90 candidates, totalling 450 fits\n",
      "{'criterion': 'entropy', 'max_depth': 8, 'max_features': 0.5, 'n_estimators': 200}\n"
     ]
    },
    {
     "data": {
      "image/png": "[encoded data removed]",
      "text/plain": [
       "<Figure size 432x288 with 2 Axes>"
      ]
     },
     "metadata": {
      "needs_background": "light"
     },
     "output_type": "display_data"
    },
    {
     "name": "stdout",
     "output_type": "stream",
     "text": [
      "              precision    recall  f1-score   support\n",
      "\n",
      "           0      0.616     0.622     0.619       111\n",
      "           1      0.500     0.667     0.571         3\n",
      "           2      0.500     0.214     0.300        28\n",
      "           4      0.868     0.896     0.882       425\n",
      "\n",
      "    accuracy                          0.808       567\n",
      "   macro avg      0.621     0.600     0.593       567\n",
      "weighted avg      0.798     0.808     0.800       567\n",
      "\n"
     ]
    }
   ],
   "source": [
    "best_rfc, rfc_pred, rfc_cm, rfc_metrics = model_randomforestclassifier_tuned(X_train, y_train, X_test, y_test)\n",
    "\n",
    "# display the confusion matrix for the logistic regression model\n",
    "dist = ConfusionMatrixDisplay(confusion_matrix=rfc_cm).plot(cmap=plt.cm.Blues)\n",
    "plt.show()\n",
    "print(rfc_metrics)"
   ]
  },
  {
   "cell_type": "markdown",
   "metadata": {},
   "source": [
    "***\n",
    "#### Light Gradient Boosted Model Classifier\n",
    "***"
   ]
  },
  {
   "cell_type": "code",
   "execution_count": 20,
   "metadata": {},
   "outputs": [
    {
     "name": "stdout",
     "output_type": "stream",
     "text": [
      "Fitting 5 folds for each of 243 candidates, totalling 1215 fits\n",
      "{'max_depth': 15, 'min_split_gain': 0, 'num_leaves': 10, 'reg_alpha': 0.5, 'reg_lambda': 0.5}\n"
     ]
    },
    {
     "data": {
      "image/png": "[encoded data removed]",
      "text/plain": [
       "<Figure size 432x288 with 2 Axes>"
      ]
     },
     "metadata": {
      "needs_background": "light"
     },
     "output_type": "display_data"
    },
    {
     "name": "stdout",
     "output_type": "stream",
     "text": [
      "              precision    recall  f1-score   support\n",
      "\n",
      "           0      0.587     0.667     0.624       111\n",
      "           1      0.500     0.667     0.571         3\n",
      "           2      0.381     0.286     0.327        28\n",
      "           4      0.885     0.866     0.875       425\n",
      "\n",
      "    accuracy                          0.797       567\n",
      "   macro avg      0.588     0.621     0.599       567\n",
      "weighted avg      0.800     0.797     0.797       567\n",
      "\n"
     ]
    }
   ],
   "source": [
    "best_lgb, lgb_pred, lgb_cm, lgb_metrics = model_lgbmclassifier_tuned(X_train, y_train, X_test, y_test)\n",
    "\n",
    "# display the confusion matrix for the logistic regression model\n",
    "dist = ConfusionMatrixDisplay(confusion_matrix=lgb_cm).plot(cmap=plt.cm.Blues)\n",
    "plt.show()\n",
    "print(lgb_metrics)"
   ]
  },
  {
   "cell_type": "markdown",
   "metadata": {},
   "source": [
    "***\n",
    "#### K Nearest Neighbors Classifier\n",
    "***"
   ]
  },
  {
   "cell_type": "code",
   "execution_count": 21,
   "metadata": {},
   "outputs": [
    {
     "name": "stdout",
     "output_type": "stream",
     "text": [
      "Fitting 5 folds for each of 72 candidates, totalling 360 fits\n",
      "{'algorithm': 'auto', 'n_neighbors': 3, 'p': 3, 'weights': 'distance'}\n"
     ]
    },
    {
     "data": {
      "image/png": "[encoded data removed]",
      "text/plain": [
       "<Figure size 432x288 with 2 Axes>"
      ]
     },
     "metadata": {
      "needs_background": "light"
     },
     "output_type": "display_data"
    },
    {
     "name": "stdout",
     "output_type": "stream",
     "text": [
      "              precision    recall  f1-score   support\n",
      "\n",
      "           0      0.504     0.523     0.513       111\n",
      "           1      0.667     0.667     0.667         3\n",
      "           2      0.261     0.214     0.235        28\n",
      "           4      0.845     0.847     0.846       425\n",
      "\n",
      "    accuracy                          0.751       567\n",
      "   macro avg      0.569     0.563     0.565       567\n",
      "weighted avg      0.749     0.751     0.750       567\n",
      "\n"
     ]
    }
   ],
   "source": [
    "best_knn, knn_pred, knn_cm, knn_metrics = model_knnclassifier_tuned(X_train, y_train, X_test, y_test)\n",
    "\n",
    "# display the confusion matrix for the logistic regression model\n",
    "dist = ConfusionMatrixDisplay(confusion_matrix=knn_cm).plot(cmap=plt.cm.Blues)\n",
    "plt.show()\n",
    "print(knn_metrics)"
   ]
  },
  {
   "cell_type": "markdown",
   "metadata": {},
   "source": [
    "***\n",
    "#### Gaussian Naive Bayes Classifier\n",
    "***"
   ]
  },
  {
   "cell_type": "code",
   "execution_count": 22,
   "metadata": {},
   "outputs": [
    {
     "name": "stdout",
     "output_type": "stream",
     "text": [
      "Fitting 5 folds for each of 20 candidates, totalling 100 fits\n",
      "{'var_smoothing': 0.012742749857031341}\n"
     ]
    },
    {
     "data": {
      "image/png": "[encoded data removed]",
      "text/plain": [
       "<Figure size 432x288 with 2 Axes>"
      ]
     },
     "metadata": {
      "needs_background": "light"
     },
     "output_type": "display_data"
    },
    {
     "name": "stdout",
     "output_type": "stream",
     "text": [
      "              precision    recall  f1-score   support\n",
      "\n",
      "           0      0.411     0.559     0.473       111\n",
      "           1      0.080     0.667     0.143         3\n",
      "           2      0.131     0.571     0.213        28\n",
      "           4      0.926     0.586     0.718       425\n",
      "\n",
      "    accuracy                          0.580       567\n",
      "   macro avg      0.387     0.596     0.387       567\n",
      "weighted avg      0.781     0.580     0.642       567\n",
      "\n"
     ]
    }
   ],
   "source": [
    "best_gnb, gnb_pred, gnb_cm, gnb_metrics = model_gnbclassifier_tuned(X_train, y_train, X_test, y_test)\n",
    "\n",
    "# display the confusion matrix for the logistic regression model\n",
    "dist = ConfusionMatrixDisplay(confusion_matrix=gnb_cm).plot(cmap=plt.cm.Blues)\n",
    "plt.show()\n",
    "print(gnb_metrics)"
   ]
  },
  {
   "cell_type": "markdown",
   "metadata": {},
   "source": [
    "***\n",
    "#### Custom Ensembles\n",
    "***\n",
    "\n",
    "All of our models seem to do well in different areas of the input space. We think we can yield better results by ensembling our different models."
   ]
  },
  {
   "cell_type": "code",
   "execution_count": 26,
   "metadata": {},
   "outputs": [
    {
     "data": {
      "image/png": "[encoded data removed]",
      "text/plain": [
       "<Figure size 432x288 with 2 Axes>"
      ]
     },
     "metadata": {
      "needs_background": "light"
     },
     "output_type": "display_data"
    },
    {
     "name": "stdout",
     "output_type": "stream",
     "text": [
      "              precision    recall  f1-score   support\n",
      "\n",
      "           0      0.481     0.694     0.568       111\n",
      "           1      0.133     0.667     0.222         3\n",
      "           2      0.176     0.571     0.269        28\n",
      "           4      0.940     0.666     0.780       425\n",
      "\n",
      "    accuracy                          0.667       567\n",
      "   macro avg      0.433     0.649     0.460       567\n",
      "weighted avg      0.808     0.667     0.710       567\n",
      "\n"
     ]
    }
   ],
   "source": [
    "# create a custom ensemble of all of the above methods\n",
    "df_pred = pd.DataFrame([lm_pred, rfc_pred, lgb_pred, knn_pred, gnb_pred]).T\n",
    "pred = df_pred.apply(statistics.mode, axis=1)\n",
    "\n",
    "# creating a confusion matrix\n",
    "cm = confusion_matrix(y_test, pred)\n",
    "\n",
    "# track other related model performance metrics\n",
    "metrics = classification_report(y_test, pred, digits=3)\n",
    "\n",
    "dist = ConfusionMatrixDisplay(confusion_matrix=cm).plot(cmap=plt.cm.Blues)\n",
    "plt.show()\n",
    "print(metrics)"
   ]
  },
  {
   "cell_type": "code",
   "execution_count": 27,
   "metadata": {},
   "outputs": [
    {
     "data": {
      "image/png": "[encoded data removed]",
      "text/plain": [
       "<Figure size 432x288 with 2 Axes>"
      ]
     },
     "metadata": {
      "needs_background": "light"
     },
     "output_type": "display_data"
    },
    {
     "name": "stdout",
     "output_type": "stream",
     "text": [
      "              precision    recall  f1-score   support\n",
      "\n",
      "           0      0.481     0.694     0.568       111\n",
      "           1      0.133     0.667     0.222         3\n",
      "           2      0.176     0.571     0.269        28\n",
      "           4      0.940     0.666     0.780       425\n",
      "\n",
      "    accuracy                          0.667       567\n",
      "   macro avg      0.433     0.649     0.460       567\n",
      "weighted avg      0.808     0.667     0.710       567\n",
      "\n"
     ]
    }
   ],
   "source": [
    "# create a custom ensemble of all of the above methods\n",
    "df_pred = pd.DataFrame([lm_pred, lgb_pred, knn_pred, gnb_pred]).T\n",
    "pred = df_pred.apply(statistics.mode, axis=1)\n",
    "\n",
    "# creating a confusion matrix\n",
    "cm = confusion_matrix(y_test, pred)\n",
    "\n",
    "# track other related model performance metrics\n",
    "metrics = classification_report(y_test, pred, digits=3)\n",
    "\n",
    "dist = ConfusionMatrixDisplay(confusion_matrix=cm).plot(cmap=plt.cm.Blues)\n",
    "plt.show()\n",
    "print(metrics)"
   ]
  },
  {
   "cell_type": "code",
   "execution_count": 28,
   "metadata": {},
   "outputs": [
    {
     "data": {
      "image/png": "[encoded data removed]",
      "text/plain": [
       "<Figure size 432x288 with 2 Axes>"
      ]
     },
     "metadata": {
      "needs_background": "light"
     },
     "output_type": "display_data"
    },
    {
     "name": "stdout",
     "output_type": "stream",
     "text": [
      "              precision    recall  f1-score   support\n",
      "\n",
      "           0      0.481     0.694     0.568       111\n",
      "           1      0.133     0.667     0.222         3\n",
      "           2      0.176     0.571     0.269        28\n",
      "           4      0.940     0.666     0.780       425\n",
      "\n",
      "    accuracy                          0.667       567\n",
      "   macro avg      0.433     0.649     0.460       567\n",
      "weighted avg      0.808     0.667     0.710       567\n",
      "\n"
     ]
    }
   ],
   "source": [
    "# create a custom ensemble of all of the above methods\n",
    "df_pred = pd.DataFrame([lm_pred, rfc_pred, knn_pred, gnb_pred]).T\n",
    "pred = df_pred.apply(statistics.mode, axis=1)\n",
    "\n",
    "# creating a confusion matrix\n",
    "cm = confusion_matrix(y_test, pred)\n",
    "\n",
    "# track other related model performance metrics\n",
    "metrics = classification_report(y_test, pred, digits=3)\n",
    "\n",
    "dist = ConfusionMatrixDisplay(confusion_matrix=cm).plot(cmap=plt.cm.Blues)\n",
    "plt.show()\n",
    "print(metrics)"
   ]
  },
  {
   "cell_type": "markdown",
   "metadata": {},
   "source": [
    "<a class=\"anchor\" id=\"step-4\"></a>\n",
    "\n",
    "## Testing Augmented Inputs\n",
    "\n",
    "To augment the text-based description, we need to decide which of the available features can add value beyond the _Title_ and _Abstract_ features of the dataframe.\n",
    "\n",
    "### Prep Dataframe for Prototyping\n",
    "\n",
    "#### Remove Irrelevant Features\n",
    "\n",
    "First, we remove any columns containing data unavailable at the beginning of the project.\n",
    "- _Lesson(s) Learned_ was used to generate the risk classifications. Logically, we cannot use it as an input. Regardless, it is information that comes to light during the course of the project. Therefore, this column will be dropped.\n",
    "- The other columns that either relate to _Lesson(s) Learned_ or are post-facto include:\n",
    "    - _Recommendation(s)_\n",
    "    - _Date Lesson Occurred_\n",
    "    - _Driving Event_\n",
    "    - _Evidence_\n",
    "    - _The related NASA policy(s), standard(s), handbook(s), procedure(s) or other rules_\n",
    "    - _From what phase of the program or project was this lesson learned captured?_\n",
    "    - _Where (other lessons, presentations, publications, etc.)?_\n",
    "- _Publish Date_ is also a post-facto column. Furthermore, we don't expect the publication date to actually impact the risk classification."
   ]
  },
  {
   "cell_type": "code",
   "execution_count": 29,
   "metadata": {},
   "outputs": [
    {
     "data": {
      "text/plain": [
       "(2067, 9)"
      ]
     },
     "metadata": {},
     "output_type": "display_data"
    },
    {
     "data": {
      "text/html": [
       "<div>\n",
       "<style scoped>\n",
       "    .dataframe tbody tr th:only-of-type {\n",
       "        vertical-align: middle;\n",
       "    }\n",
       "\n",
       "    .dataframe tbody tr th {\n",
       "        vertical-align: top;\n",
       "    }\n",
       "\n",
       "    .dataframe thead th {\n",
       "        text-align: right;\n",
       "    }\n",
       "</style>\n",
       "<table border=\"1\" class=\"dataframe\">\n",
       "  <thead>\n",
       "    <tr style=\"text-align: right;\">\n",
       "      <th></th>\n",
       "      <th>Lesson ID</th>\n",
       "      <th>Title</th>\n",
       "      <th>Abstract</th>\n",
       "      <th>Organization</th>\n",
       "      <th>Project / Program</th>\n",
       "      <th>NASA Mission Directorate(s)</th>\n",
       "      <th>Sensitivity</th>\n",
       "      <th>Topics</th>\n",
       "      <th>Risk Class</th>\n",
       "    </tr>\n",
       "  </thead>\n",
       "  <tbody>\n",
       "    <tr>\n",
       "      <th>0</th>\n",
       "      <td>30004</td>\n",
       "      <td>Relationship of Government and Contractor Risk...</td>\n",
       "      <td>The purpose of this lesson is to highlight the...</td>\n",
       "      <td>LaRC</td>\n",
       "      <td>Radiation Budget Instrument</td>\n",
       "      <td>Aeronautics Research, Human Exploration and Op...</td>\n",
       "      <td>Public</td>\n",
       "      <td>Procurement, Small Business &amp; Industrial Relat...</td>\n",
       "      <td>4</td>\n",
       "    </tr>\n",
       "    <tr>\n",
       "      <th>1</th>\n",
       "      <td>30101</td>\n",
       "      <td>Cable Harness Wiring and Connector Anomalies C...</td>\n",
       "      <td>Early indications show that the commercial spa...</td>\n",
       "      <td>NESC</td>\n",
       "      <td>Space Shuttle Program, Commercial Crewed Space...</td>\n",
       "      <td>Human Exploration and Operations</td>\n",
       "      <td>Public</td>\n",
       "      <td>Flight Equipment, Ground Operations, Hardware,...</td>\n",
       "      <td>4</td>\n",
       "    </tr>\n",
       "    <tr>\n",
       "      <th>2</th>\n",
       "      <td>29801</td>\n",
       "      <td>Best Practices for the Elemental Profiling of ...</td>\n",
       "      <td>Trace contaminants in high-purity hydrazine (H...</td>\n",
       "      <td>NESC</td>\n",
       "      <td>All NASA missions using high purity hydrazine ...</td>\n",
       "      <td>Human Exploration and Operations, Science, Spa...</td>\n",
       "      <td>Public</td>\n",
       "      <td>Ground Operations, Launch Vehicle, Parts, Mate...</td>\n",
       "      <td>4</td>\n",
       "    </tr>\n",
       "    <tr>\n",
       "      <th>3</th>\n",
       "      <td>29702</td>\n",
       "      <td>Integration and Dependency Between Different A...</td>\n",
       "      <td>During the Radiological Control Center (RADCC)...</td>\n",
       "      <td>KSC</td>\n",
       "      <td>Radiological Control Center (RADCC)</td>\n",
       "      <td>Human Exploration and Operations</td>\n",
       "      <td>Public</td>\n",
       "      <td>Engineering Design, Integration and Testing, S...</td>\n",
       "      <td>4</td>\n",
       "    </tr>\n",
       "    <tr>\n",
       "      <th>4</th>\n",
       "      <td>29103</td>\n",
       "      <td>Copper Tube Pinch Failure</td>\n",
       "      <td>While pinching copper tubes is a standard prac...</td>\n",
       "      <td>KSC</td>\n",
       "      <td>Mass Spectrometer observing lunar operations (...</td>\n",
       "      <td>Human Exploration and Operations, Space Techno...</td>\n",
       "      <td>Public</td>\n",
       "      <td>Engineering Design, Integration and Testing, M...</td>\n",
       "      <td>4</td>\n",
       "    </tr>\n",
       "  </tbody>\n",
       "</table>\n",
       "</div>"
      ],
      "text/plain": [
       "   Lesson ID                                              Title  \\\n",
       "0      30004  Relationship of Government and Contractor Risk...   \n",
       "1      30101  Cable Harness Wiring and Connector Anomalies C...   \n",
       "2      29801  Best Practices for the Elemental Profiling of ...   \n",
       "3      29702  Integration and Dependency Between Different A...   \n",
       "4      29103                          Copper Tube Pinch Failure   \n",
       "\n",
       "                                            Abstract Organization  \\\n",
       "0  The purpose of this lesson is to highlight the...         LaRC   \n",
       "1  Early indications show that the commercial spa...         NESC   \n",
       "2  Trace contaminants in high-purity hydrazine (H...         NESC   \n",
       "3  During the Radiological Control Center (RADCC)...          KSC   \n",
       "4  While pinching copper tubes is a standard prac...          KSC   \n",
       "\n",
       "                                   Project / Program  \\\n",
       "0                        Radiation Budget Instrument   \n",
       "1  Space Shuttle Program, Commercial Crewed Space...   \n",
       "2  All NASA missions using high purity hydrazine ...   \n",
       "3                Radiological Control Center (RADCC)   \n",
       "4  Mass Spectrometer observing lunar operations (...   \n",
       "\n",
       "                         NASA Mission Directorate(s) Sensitivity  \\\n",
       "0  Aeronautics Research, Human Exploration and Op...      Public   \n",
       "1                   Human Exploration and Operations      Public   \n",
       "2  Human Exploration and Operations, Science, Spa...      Public   \n",
       "3                   Human Exploration and Operations      Public   \n",
       "4  Human Exploration and Operations, Space Techno...      Public   \n",
       "\n",
       "                                              Topics  Risk Class  \n",
       "0  Procurement, Small Business & Industrial Relat...           4  \n",
       "1  Flight Equipment, Ground Operations, Hardware,...           4  \n",
       "2  Ground Operations, Launch Vehicle, Parts, Mate...           4  \n",
       "3  Engineering Design, Integration and Testing, S...           4  \n",
       "4  Engineering Design, Integration and Testing, M...           4  "
      ]
     },
     "execution_count": 29,
     "metadata": {},
     "output_type": "execute_result"
    }
   ],
   "source": [
    "df_augmented = df_master.copy().drop('index', axis=1)\n",
    "\n",
    "if 'Lesson(s) Learned' in df_augmented.columns:\n",
    "    df_augmented.drop(['Lesson(s) Learned', 'Recommendation(s)', 'Date Lesson Occurred', 'Driving Event', 'Evidence',\n",
    "                       'The related NASA policy(s), standard(s), handbook(s), procedure(s) or other rules',\n",
    "                       'From what phase of the program or project was this lesson learned captured?',\n",
    "                       'Where (other lessons, presentations, publications, etc.)?', 'Publish Date'], inplace=True, axis=1)\n",
    "\n",
    "display(df_augmented.shape)\n",
    "df_augmented.head()"
   ]
  },
  {
   "cell_type": "markdown",
   "metadata": {},
   "source": [
    "#### Categorical Feature Analysis\n",
    "\n",
    "Next, aside from _Title_ and _Abstract_, we will try to identify which other categorical features (if any) may offer value to the text-based description of the project. We start by checking how many unique values exist for each categorical feature."
   ]
  },
  {
   "cell_type": "code",
   "execution_count": 30,
   "metadata": {},
   "outputs": [
    {
     "data": {
      "text/plain": [
       "Organization                    15\n",
       "Project / Program              200\n",
       "NASA Mission Directorate(s)     25\n",
       "Sensitivity                      1\n",
       "Topics                         435\n",
       "Risk Class                       4\n",
       "dtype: int64"
      ]
     },
     "execution_count": 30,
     "metadata": {},
     "output_type": "execute_result"
    }
   ],
   "source": [
    "df_augmented.iloc[:,3:].nunique()"
   ]
  },
  {
   "cell_type": "markdown",
   "metadata": {},
   "source": [
    "- _Organization_ seems to be a straightforward categorical column that provides value and has a manageable number of distinct values. We will keep this in our analysis, but we'll append 'Org' to the front of each value so it does not get removed in our preprocessing steps.\n",
    "- _Project / Program_ doesn't seem to have a standard format for its values. Furthermore, it has 200 values for a total 2000 different projects. We think including this feature in our analysis would add too many columns for not much value. We will remove this column from analysis and try to see what our initial results look like, before considering including the text from this column in our inputs.\n",
    "- _NASA Mission Directorate(s)_ seems to be comma-separated values. There may be value in adding them into our analysis. We will need to reformat the inputs to keep track of each mission directoraate separately (e.g. changing 'Aeronautics Research' to 'Directorate_Aeronautics_Research' so our analysis will consider it one term).\n",
    "- _Sensitivity_ has only one value in the entire column. It is useless and will therefore be removed from our analysis.\n",
    "- _Topics_ seems to be similar to _NASA Mission Directorate(s)_. We will handle it similarly."
   ]
  },
  {
   "cell_type": "code",
   "execution_count": 31,
   "metadata": {},
   "outputs": [
    {
     "data": {
      "text/plain": [
       "(2067, 7)"
      ]
     },
     "metadata": {},
     "output_type": "display_data"
    },
    {
     "data": {
      "text/html": [
       "<div>\n",
       "<style scoped>\n",
       "    .dataframe tbody tr th:only-of-type {\n",
       "        vertical-align: middle;\n",
       "    }\n",
       "\n",
       "    .dataframe tbody tr th {\n",
       "        vertical-align: top;\n",
       "    }\n",
       "\n",
       "    .dataframe thead th {\n",
       "        text-align: right;\n",
       "    }\n",
       "</style>\n",
       "<table border=\"1\" class=\"dataframe\">\n",
       "  <thead>\n",
       "    <tr style=\"text-align: right;\">\n",
       "      <th></th>\n",
       "      <th>Lesson ID</th>\n",
       "      <th>Title</th>\n",
       "      <th>Abstract</th>\n",
       "      <th>Risk Class</th>\n",
       "      <th>Fixed Organization</th>\n",
       "      <th>Fixed Directorates</th>\n",
       "      <th>Fixed Topics</th>\n",
       "    </tr>\n",
       "  </thead>\n",
       "  <tbody>\n",
       "    <tr>\n",
       "      <th>0</th>\n",
       "      <td>30004</td>\n",
       "      <td>Relationship of Government and Contractor Risk...</td>\n",
       "      <td>The purpose of this lesson is to highlight the...</td>\n",
       "      <td>4</td>\n",
       "      <td>org_larc</td>\n",
       "      <td>directorate_aeronautics_research directorate_h...</td>\n",
       "      <td>topic_procurement topic_small_business_&amp;_indus...</td>\n",
       "    </tr>\n",
       "    <tr>\n",
       "      <th>1</th>\n",
       "      <td>30101</td>\n",
       "      <td>Cable Harness Wiring and Connector Anomalies C...</td>\n",
       "      <td>Early indications show that the commercial spa...</td>\n",
       "      <td>4</td>\n",
       "      <td>org_nesc</td>\n",
       "      <td>directorate_human_exploration_and_operations</td>\n",
       "      <td>topic_flight_equipment topic_ground_operations...</td>\n",
       "    </tr>\n",
       "    <tr>\n",
       "      <th>2</th>\n",
       "      <td>29801</td>\n",
       "      <td>Best Practices for the Elemental Profiling of ...</td>\n",
       "      <td>Trace contaminants in high-purity hydrazine (H...</td>\n",
       "      <td>4</td>\n",
       "      <td>org_nesc</td>\n",
       "      <td>directorate_human_exploration_and_operations d...</td>\n",
       "      <td>topic_ground_operations topic_launch_vehicle t...</td>\n",
       "    </tr>\n",
       "    <tr>\n",
       "      <th>3</th>\n",
       "      <td>29702</td>\n",
       "      <td>Integration and Dependency Between Different A...</td>\n",
       "      <td>During the Radiological Control Center (RADCC)...</td>\n",
       "      <td>4</td>\n",
       "      <td>org_ksc</td>\n",
       "      <td>directorate_human_exploration_and_operations</td>\n",
       "      <td>topic_engineering_design topic_integration_and...</td>\n",
       "    </tr>\n",
       "    <tr>\n",
       "      <th>4</th>\n",
       "      <td>29103</td>\n",
       "      <td>Copper Tube Pinch Failure</td>\n",
       "      <td>While pinching copper tubes is a standard prac...</td>\n",
       "      <td>4</td>\n",
       "      <td>org_ksc</td>\n",
       "      <td>directorate_human_exploration_and_operations d...</td>\n",
       "      <td>topic_engineering_design topic_integration_and...</td>\n",
       "    </tr>\n",
       "  </tbody>\n",
       "</table>\n",
       "</div>"
      ],
      "text/plain": [
       "   Lesson ID                                              Title  \\\n",
       "0      30004  Relationship of Government and Contractor Risk...   \n",
       "1      30101  Cable Harness Wiring and Connector Anomalies C...   \n",
       "2      29801  Best Practices for the Elemental Profiling of ...   \n",
       "3      29702  Integration and Dependency Between Different A...   \n",
       "4      29103                          Copper Tube Pinch Failure   \n",
       "\n",
       "                                            Abstract  Risk Class  \\\n",
       "0  The purpose of this lesson is to highlight the...           4   \n",
       "1  Early indications show that the commercial spa...           4   \n",
       "2  Trace contaminants in high-purity hydrazine (H...           4   \n",
       "3  During the Radiological Control Center (RADCC)...           4   \n",
       "4  While pinching copper tubes is a standard prac...           4   \n",
       "\n",
       "  Fixed Organization                                 Fixed Directorates  \\\n",
       "0           org_larc  directorate_aeronautics_research directorate_h...   \n",
       "1           org_nesc       directorate_human_exploration_and_operations   \n",
       "2           org_nesc  directorate_human_exploration_and_operations d...   \n",
       "3            org_ksc       directorate_human_exploration_and_operations   \n",
       "4            org_ksc  directorate_human_exploration_and_operations d...   \n",
       "\n",
       "                                        Fixed Topics  \n",
       "0  topic_procurement topic_small_business_&_indus...  \n",
       "1  topic_flight_equipment topic_ground_operations...  \n",
       "2  topic_ground_operations topic_launch_vehicle t...  \n",
       "3  topic_engineering_design topic_integration_and...  \n",
       "4  topic_engineering_design topic_integration_and...  "
      ]
     },
     "execution_count": 31,
     "metadata": {},
     "output_type": "execute_result"
    }
   ],
   "source": [
    "# drop the columns we decided to remove from further analysis\n",
    "if 'Project / Program' in df_augmented.columns:\n",
    "    df_augmented.drop(['Project / Program', 'Sensitivity'], axis=1, inplace=True)\n",
    "\n",
    "# modify contents of columns as described above\n",
    "def fix_column_values(text, prefix):\n",
    "    if text == 'nan':\n",
    "        return ''\n",
    "        \n",
    "    text_to_return = ''\n",
    "    text_split = text.split(',')\n",
    "    for directorate in text_split:\n",
    "        text_to_return += prefix + directorate.strip().replace(' ', '_') + ' '\n",
    "    \n",
    "    return text_to_return.strip().lower()\n",
    "\n",
    "if 'Organization' in df_augmented.columns:\n",
    "    df_augmented['Fixed Organization'] = 'org_' + df_augmented['Organization'].astype(str).apply(str.lower)\n",
    "    df_augmented['Fixed Directorates'] = df_augmented['NASA Mission Directorate(s)'].astype(str).apply(fix_column_values, prefix='Directorate_')\n",
    "    df_augmented['Fixed Topics'] = df_augmented['Topics'].astype(str).apply(fix_column_values, prefix='Topic_')\n",
    "    df_augmented.drop(['Organization', 'NASA Mission Directorate(s)', 'Topics'], axis=1, inplace=True)\n",
    "\n",
    "display(df_augmented.shape)\n",
    "df_augmented.head()"
   ]
  },
  {
   "cell_type": "markdown",
   "metadata": {},
   "source": [
    "Next, we need to combine all of the features into one block of text."
   ]
  },
  {
   "cell_type": "code",
   "execution_count": 32,
   "metadata": {},
   "outputs": [
    {
     "data": {
      "text/plain": [
       "(2067, 3)"
      ]
     },
     "metadata": {},
     "output_type": "display_data"
    },
    {
     "data": {
      "text/html": [
       "<div>\n",
       "<style scoped>\n",
       "    .dataframe tbody tr th:only-of-type {\n",
       "        vertical-align: middle;\n",
       "    }\n",
       "\n",
       "    .dataframe tbody tr th {\n",
       "        vertical-align: top;\n",
       "    }\n",
       "\n",
       "    .dataframe thead th {\n",
       "        text-align: right;\n",
       "    }\n",
       "</style>\n",
       "<table border=\"1\" class=\"dataframe\">\n",
       "  <thead>\n",
       "    <tr style=\"text-align: right;\">\n",
       "      <th></th>\n",
       "      <th>Lesson ID</th>\n",
       "      <th>Risk Class</th>\n",
       "      <th>Description</th>\n",
       "    </tr>\n",
       "  </thead>\n",
       "  <tbody>\n",
       "    <tr>\n",
       "      <th>0</th>\n",
       "      <td>30004</td>\n",
       "      <td>4</td>\n",
       "      <td>Relationship of Government and Contractor Risk...</td>\n",
       "    </tr>\n",
       "    <tr>\n",
       "      <th>1</th>\n",
       "      <td>30101</td>\n",
       "      <td>4</td>\n",
       "      <td>Cable Harness Wiring and Connector Anomalies C...</td>\n",
       "    </tr>\n",
       "    <tr>\n",
       "      <th>2</th>\n",
       "      <td>29801</td>\n",
       "      <td>4</td>\n",
       "      <td>Best Practices for the Elemental Profiling of ...</td>\n",
       "    </tr>\n",
       "    <tr>\n",
       "      <th>3</th>\n",
       "      <td>29702</td>\n",
       "      <td>4</td>\n",
       "      <td>Integration and Dependency Between Different A...</td>\n",
       "    </tr>\n",
       "    <tr>\n",
       "      <th>4</th>\n",
       "      <td>29103</td>\n",
       "      <td>4</td>\n",
       "      <td>Copper Tube Pinch Failure While pinching coppe...</td>\n",
       "    </tr>\n",
       "  </tbody>\n",
       "</table>\n",
       "</div>"
      ],
      "text/plain": [
       "   Lesson ID  Risk Class                                        Description\n",
       "0      30004           4  Relationship of Government and Contractor Risk...\n",
       "1      30101           4  Cable Harness Wiring and Connector Anomalies C...\n",
       "2      29801           4  Best Practices for the Elemental Profiling of ...\n",
       "3      29702           4  Integration and Dependency Between Different A...\n",
       "4      29103           4  Copper Tube Pinch Failure While pinching coppe..."
      ]
     },
     "execution_count": 32,
     "metadata": {},
     "output_type": "execute_result"
    }
   ],
   "source": [
    "if 'Title' in df_augmented.columns:\n",
    "    df_augmented['Description'] = df_augmented['Title'].astype(str) + ' ' +\\\n",
    "                                  df_augmented['Abstract'].astype(str) + ' ' +\\\n",
    "                                  df_augmented['Fixed Organization'].astype(str) + ' ' +\\\n",
    "                                  df_augmented['Fixed Directorates'].astype(str) + ' ' +\\\n",
    "                                  df_augmented['Fixed Topics'].astype(str)\n",
    "    df_augmented.drop(['Title', 'Abstract', 'Fixed Organization', 'Fixed Directorates', 'Fixed Topics'], axis=1, inplace=True)\n",
    "\n",
    "display(df_augmented.shape)\n",
    "df_augmented.head()"
   ]
  },
  {
   "cell_type": "markdown",
   "metadata": {},
   "source": [
    "Like we did in the prototyping phase, we will replace the _Description_ column with a PCA representation."
   ]
  },
  {
   "cell_type": "code",
   "execution_count": 33,
   "metadata": {},
   "outputs": [
    {
     "data": {
      "text/plain": [
       "(2067, 102)"
      ]
     },
     "metadata": {},
     "output_type": "display_data"
    },
    {
     "data": {
      "text/html": [
       "<div>\n",
       "<style scoped>\n",
       "    .dataframe tbody tr th:only-of-type {\n",
       "        vertical-align: middle;\n",
       "    }\n",
       "\n",
       "    .dataframe tbody tr th {\n",
       "        vertical-align: top;\n",
       "    }\n",
       "\n",
       "    .dataframe thead th {\n",
       "        text-align: right;\n",
       "    }\n",
       "</style>\n",
       "<table border=\"1\" class=\"dataframe\">\n",
       "  <thead>\n",
       "    <tr style=\"text-align: right;\">\n",
       "      <th></th>\n",
       "      <th>Lesson ID</th>\n",
       "      <th>Risk Class</th>\n",
       "      <th>0</th>\n",
       "      <th>1</th>\n",
       "      <th>2</th>\n",
       "      <th>3</th>\n",
       "      <th>4</th>\n",
       "      <th>5</th>\n",
       "      <th>6</th>\n",
       "      <th>7</th>\n",
       "      <th>...</th>\n",
       "      <th>90</th>\n",
       "      <th>91</th>\n",
       "      <th>92</th>\n",
       "      <th>93</th>\n",
       "      <th>94</th>\n",
       "      <th>95</th>\n",
       "      <th>96</th>\n",
       "      <th>97</th>\n",
       "      <th>98</th>\n",
       "      <th>99</th>\n",
       "    </tr>\n",
       "  </thead>\n",
       "  <tbody>\n",
       "    <tr>\n",
       "      <th>0</th>\n",
       "      <td>30004</td>\n",
       "      <td>4</td>\n",
       "      <td>-0.027343</td>\n",
       "      <td>-0.206953</td>\n",
       "      <td>0.028497</td>\n",
       "      <td>-0.142765</td>\n",
       "      <td>0.116207</td>\n",
       "      <td>0.030320</td>\n",
       "      <td>0.027532</td>\n",
       "      <td>0.006033</td>\n",
       "      <td>...</td>\n",
       "      <td>0.043647</td>\n",
       "      <td>0.004672</td>\n",
       "      <td>0.013972</td>\n",
       "      <td>0.048265</td>\n",
       "      <td>-0.030932</td>\n",
       "      <td>-0.053292</td>\n",
       "      <td>0.050686</td>\n",
       "      <td>-0.030627</td>\n",
       "      <td>-0.003499</td>\n",
       "      <td>-0.006799</td>\n",
       "    </tr>\n",
       "    <tr>\n",
       "      <th>1</th>\n",
       "      <td>30101</td>\n",
       "      <td>4</td>\n",
       "      <td>0.081710</td>\n",
       "      <td>-0.044084</td>\n",
       "      <td>-0.049942</td>\n",
       "      <td>-0.057494</td>\n",
       "      <td>-0.130958</td>\n",
       "      <td>-0.081129</td>\n",
       "      <td>-0.017990</td>\n",
       "      <td>-0.015218</td>\n",
       "      <td>...</td>\n",
       "      <td>0.092094</td>\n",
       "      <td>-0.071480</td>\n",
       "      <td>-0.061221</td>\n",
       "      <td>0.004660</td>\n",
       "      <td>-0.027905</td>\n",
       "      <td>0.149701</td>\n",
       "      <td>-0.018921</td>\n",
       "      <td>0.060095</td>\n",
       "      <td>0.077552</td>\n",
       "      <td>-0.003453</td>\n",
       "    </tr>\n",
       "    <tr>\n",
       "      <th>2</th>\n",
       "      <td>29801</td>\n",
       "      <td>4</td>\n",
       "      <td>-0.058111</td>\n",
       "      <td>-0.045619</td>\n",
       "      <td>-0.001553</td>\n",
       "      <td>0.029524</td>\n",
       "      <td>-0.039855</td>\n",
       "      <td>-0.023989</td>\n",
       "      <td>0.010627</td>\n",
       "      <td>-0.020775</td>\n",
       "      <td>...</td>\n",
       "      <td>0.082161</td>\n",
       "      <td>-0.045434</td>\n",
       "      <td>0.039285</td>\n",
       "      <td>0.002562</td>\n",
       "      <td>-0.021729</td>\n",
       "      <td>-0.042321</td>\n",
       "      <td>-0.006855</td>\n",
       "      <td>-0.005385</td>\n",
       "      <td>0.003874</td>\n",
       "      <td>0.028212</td>\n",
       "    </tr>\n",
       "    <tr>\n",
       "      <th>3</th>\n",
       "      <td>29702</td>\n",
       "      <td>4</td>\n",
       "      <td>-0.029450</td>\n",
       "      <td>-0.044395</td>\n",
       "      <td>-0.036080</td>\n",
       "      <td>0.029603</td>\n",
       "      <td>-0.032345</td>\n",
       "      <td>-0.091593</td>\n",
       "      <td>-0.024204</td>\n",
       "      <td>-0.076670</td>\n",
       "      <td>...</td>\n",
       "      <td>-0.018111</td>\n",
       "      <td>-0.029592</td>\n",
       "      <td>0.021137</td>\n",
       "      <td>0.006203</td>\n",
       "      <td>0.087848</td>\n",
       "      <td>-0.021521</td>\n",
       "      <td>0.028546</td>\n",
       "      <td>-0.036935</td>\n",
       "      <td>0.058806</td>\n",
       "      <td>-0.068857</td>\n",
       "    </tr>\n",
       "    <tr>\n",
       "      <th>4</th>\n",
       "      <td>29103</td>\n",
       "      <td>4</td>\n",
       "      <td>-0.055857</td>\n",
       "      <td>0.003103</td>\n",
       "      <td>-0.028929</td>\n",
       "      <td>0.034995</td>\n",
       "      <td>-0.017411</td>\n",
       "      <td>-0.035518</td>\n",
       "      <td>-0.006991</td>\n",
       "      <td>-0.029616</td>\n",
       "      <td>...</td>\n",
       "      <td>0.019773</td>\n",
       "      <td>0.013006</td>\n",
       "      <td>-0.007108</td>\n",
       "      <td>-0.075842</td>\n",
       "      <td>-0.008112</td>\n",
       "      <td>0.059527</td>\n",
       "      <td>0.110251</td>\n",
       "      <td>0.086196</td>\n",
       "      <td>0.010388</td>\n",
       "      <td>0.024514</td>\n",
       "    </tr>\n",
       "  </tbody>\n",
       "</table>\n",
       "<p>5 rows × 102 columns</p>\n",
       "</div>"
      ],
      "text/plain": [
       "   Lesson ID  Risk Class         0         1         2         3         4  \\\n",
       "0      30004           4 -0.027343 -0.206953  0.028497 -0.142765  0.116207   \n",
       "1      30101           4  0.081710 -0.044084 -0.049942 -0.057494 -0.130958   \n",
       "2      29801           4 -0.058111 -0.045619 -0.001553  0.029524 -0.039855   \n",
       "3      29702           4 -0.029450 -0.044395 -0.036080  0.029603 -0.032345   \n",
       "4      29103           4 -0.055857  0.003103 -0.028929  0.034995 -0.017411   \n",
       "\n",
       "          5         6         7  ...        90        91        92        93  \\\n",
       "0  0.030320  0.027532  0.006033  ...  0.043647  0.004672  0.013972  0.048265   \n",
       "1 -0.081129 -0.017990 -0.015218  ...  0.092094 -0.071480 -0.061221  0.004660   \n",
       "2 -0.023989  0.010627 -0.020775  ...  0.082161 -0.045434  0.039285  0.002562   \n",
       "3 -0.091593 -0.024204 -0.076670  ... -0.018111 -0.029592  0.021137  0.006203   \n",
       "4 -0.035518 -0.006991 -0.029616  ...  0.019773  0.013006 -0.007108 -0.075842   \n",
       "\n",
       "         94        95        96        97        98        99  \n",
       "0 -0.030932 -0.053292  0.050686 -0.030627 -0.003499 -0.006799  \n",
       "1 -0.027905  0.149701 -0.018921  0.060095  0.077552 -0.003453  \n",
       "2 -0.021729 -0.042321 -0.006855 -0.005385  0.003874  0.028212  \n",
       "3  0.087848 -0.021521  0.028546 -0.036935  0.058806 -0.068857  \n",
       "4 -0.008112  0.059527  0.110251  0.086196  0.010388  0.024514  \n",
       "\n",
       "[5 rows x 102 columns]"
      ]
     },
     "execution_count": 33,
     "metadata": {},
     "output_type": "execute_result"
    }
   ],
   "source": [
    "if 'Description' in df_augmented.columns:\n",
    "    pca_matrix_aug, tfidf_vectorizer_aug, pca_vectorizer_aug = create_pca_representation(df_augmented['Description'], 'prototype')\n",
    "    df_augmented.drop('Description', axis=1, inplace=True)\n",
    "    df_augmented = pd.concat([df_augmented, pd.DataFrame(pca_matrix_aug)], axis=1)\n",
    "\n",
    "display(df_augmented.shape)\n",
    "df_augmented.head()"
   ]
  },
  {
   "cell_type": "markdown",
   "metadata": {},
   "source": [
    "We now split the data into a training and testing set using the `split_data()` helper function."
   ]
  },
  {
   "cell_type": "code",
   "execution_count": 34,
   "metadata": {},
   "outputs": [
    {
     "name": "stdout",
     "output_type": "stream",
     "text": [
      "Training Output Variable Distribution\n"
     ]
    },
    {
     "data": {
      "text/plain": [
       "4    993\n",
       "0    241\n",
       "2     62\n",
       "1      7\n",
       "Name: Risk Class, dtype: int64"
      ]
     },
     "metadata": {},
     "output_type": "display_data"
    },
    {
     "name": "stdout",
     "output_type": "stream",
     "text": [
      "\n",
      "Testing Output Variable Distribution\n"
     ]
    },
    {
     "data": {
      "text/plain": [
       "4    426\n",
       "0    103\n",
       "2     27\n",
       "1      3\n",
       "Name: Risk Class, dtype: int64"
      ]
     },
     "metadata": {},
     "output_type": "display_data"
    }
   ],
   "source": [
    "X_train_aug, X_test_aug, y_train_aug, y_test_aug = split_data(df_aug)\n",
    "\n",
    "print('Training Output Variable Distribution')\n",
    "display(y_train_aug.value_counts())\n",
    "print()\n",
    "print('Testing Output Variable Distribution')\n",
    "display(y_test_aug.value_counts())\n"
   ]
  },
  {
   "cell_type": "markdown",
   "metadata": {},
   "source": [
    "### Multi-Class Modeling on Augmented Inputs\n",
    "\n",
    "***\n",
    "#### Logistic Regression\n",
    "***"
   ]
  },
  {
   "cell_type": "code",
   "execution_count": null,
   "metadata": {},
   "outputs": [],
   "source": [
    "best_lm_aug, lm_pred_aug, lm_cm_aug, lm_metrics_aug = model_logisticregression_tuned(X_train_aug, y_train_aug, X_test_aug, y_test_aug)\n",
    "\n",
    "# display the confusion matrix for the logistic regression model\n",
    "dist = ConfusionMatrixDisplay(confusion_matrix=lm_cm_aug).plot(cmap=plt.cm.Blues)\n",
    "plt.show()\n",
    "print(lm_metrics_aug)"
   ]
  },
  {
   "cell_type": "markdown",
   "metadata": {},
   "source": [
    "***\n",
    "#### Random Forest Classifier\n",
    "***"
   ]
  },
  {
   "cell_type": "code",
   "execution_count": 35,
   "metadata": {},
   "outputs": [
    {
     "name": "stdout",
     "output_type": "stream",
     "text": [
      "Fitting 5 folds for each of 90 candidates, totalling 450 fits\n"
     ]
    },
    {
     "ename": "KeyboardInterrupt",
     "evalue": "",
     "output_type": "error",
     "traceback": [
      "\u001b[0;31m---------------------------------------------------------------------------\u001b[0m",
      "\u001b[0;31mKeyboardInterrupt\u001b[0m                         Traceback (most recent call last)",
      "\u001b[0;32m<ipython-input-35-0f93eb1f10e0>\u001b[0m in \u001b[0;36m<module>\u001b[0;34m\u001b[0m\n\u001b[0;32m----> 1\u001b[0;31m \u001b[0mbest_rfc\u001b[0m\u001b[0;34m,\u001b[0m \u001b[0mrfc_pred\u001b[0m\u001b[0;34m,\u001b[0m \u001b[0mrfc_cm\u001b[0m\u001b[0;34m,\u001b[0m \u001b[0mrfc_metrics\u001b[0m \u001b[0;34m=\u001b[0m \u001b[0mmodel_randomforestclassifier_tuned\u001b[0m\u001b[0;34m(\u001b[0m\u001b[0mX_train\u001b[0m\u001b[0;34m,\u001b[0m \u001b[0my_train\u001b[0m\u001b[0;34m,\u001b[0m \u001b[0mX_test\u001b[0m\u001b[0;34m,\u001b[0m \u001b[0my_test\u001b[0m\u001b[0;34m)\u001b[0m\u001b[0;34m\u001b[0m\u001b[0;34m\u001b[0m\u001b[0m\n\u001b[0m\u001b[1;32m      2\u001b[0m \u001b[0;34m\u001b[0m\u001b[0m\n\u001b[1;32m      3\u001b[0m \u001b[0;31m# display the confusion matrix for the logistic regression model\u001b[0m\u001b[0;34m\u001b[0m\u001b[0;34m\u001b[0m\u001b[0;34m\u001b[0m\u001b[0m\n\u001b[1;32m      4\u001b[0m \u001b[0mdist\u001b[0m \u001b[0;34m=\u001b[0m \u001b[0mConfusionMatrixDisplay\u001b[0m\u001b[0;34m(\u001b[0m\u001b[0mconfusion_matrix\u001b[0m\u001b[0;34m=\u001b[0m\u001b[0mrfc_cm\u001b[0m\u001b[0;34m)\u001b[0m\u001b[0;34m.\u001b[0m\u001b[0mplot\u001b[0m\u001b[0;34m(\u001b[0m\u001b[0mcmap\u001b[0m\u001b[0;34m=\u001b[0m\u001b[0mplt\u001b[0m\u001b[0;34m.\u001b[0m\u001b[0mcm\u001b[0m\u001b[0;34m.\u001b[0m\u001b[0mBlues\u001b[0m\u001b[0;34m)\u001b[0m\u001b[0;34m\u001b[0m\u001b[0;34m\u001b[0m\u001b[0m\n\u001b[1;32m      5\u001b[0m \u001b[0mplt\u001b[0m\u001b[0;34m.\u001b[0m\u001b[0mshow\u001b[0m\u001b[0;34m(\u001b[0m\u001b[0;34m)\u001b[0m\u001b[0;34m\u001b[0m\u001b[0;34m\u001b[0m\u001b[0m\n",
      "\u001b[0;32m<ipython-input-10-78333e4e5b6b>\u001b[0m in \u001b[0;36mmodel_randomforestclassifier_tuned\u001b[0;34m(X_train, y_train, X_test, y_test)\u001b[0m\n\u001b[1;32m     12\u001b[0m \u001b[0;34m\u001b[0m\u001b[0m\n\u001b[1;32m     13\u001b[0m     \u001b[0;31m# run the cross-validated grid search to identify the best parameters for the model\u001b[0m\u001b[0;34m\u001b[0m\u001b[0;34m\u001b[0m\u001b[0;34m\u001b[0m\u001b[0m\n\u001b[0;32m---> 14\u001b[0;31m     CV_rfc = GridSearchCV(estimator=RandomForestClassifier(class_weight='balanced', random_state=5), scoring=scorer,\n\u001b[0m\u001b[1;32m     15\u001b[0m                         param_grid=param_grid, n_jobs=-1, verbose=2).fit(X_train, y_train, sample_weight=sample)\n\u001b[1;32m     16\u001b[0m \u001b[0;34m\u001b[0m\u001b[0m\n",
      "\u001b[0;32m/Library/Frameworks/Python.framework/Versions/3.9/lib/python3.9/site-packages/sklearn/model_selection/_search.py\u001b[0m in \u001b[0;36mfit\u001b[0;34m(self, X, y, groups, **fit_params)\u001b[0m\n\u001b[1;32m    889\u001b[0m                 \u001b[0;32mreturn\u001b[0m \u001b[0mresults\u001b[0m\u001b[0;34m\u001b[0m\u001b[0;34m\u001b[0m\u001b[0m\n\u001b[1;32m    890\u001b[0m \u001b[0;34m\u001b[0m\u001b[0m\n\u001b[0;32m--> 891\u001b[0;31m             \u001b[0mself\u001b[0m\u001b[0;34m.\u001b[0m\u001b[0m_run_search\u001b[0m\u001b[0;34m(\u001b[0m\u001b[0mevaluate_candidates\u001b[0m\u001b[0;34m)\u001b[0m\u001b[0;34m\u001b[0m\u001b[0;34m\u001b[0m\u001b[0m\n\u001b[0m\u001b[1;32m    892\u001b[0m \u001b[0;34m\u001b[0m\u001b[0m\n\u001b[1;32m    893\u001b[0m             \u001b[0;31m# multimetric is determined here because in the case of a callable\u001b[0m\u001b[0;34m\u001b[0m\u001b[0;34m\u001b[0m\u001b[0;34m\u001b[0m\u001b[0m\n",
      "\u001b[0;32m/Library/Frameworks/Python.framework/Versions/3.9/lib/python3.9/site-packages/sklearn/model_selection/_search.py\u001b[0m in \u001b[0;36m_run_search\u001b[0;34m(self, evaluate_candidates)\u001b[0m\n\u001b[1;32m   1390\u001b[0m     \u001b[0;32mdef\u001b[0m \u001b[0m_run_search\u001b[0m\u001b[0;34m(\u001b[0m\u001b[0mself\u001b[0m\u001b[0;34m,\u001b[0m \u001b[0mevaluate_candidates\u001b[0m\u001b[0;34m)\u001b[0m\u001b[0;34m:\u001b[0m\u001b[0;34m\u001b[0m\u001b[0;34m\u001b[0m\u001b[0m\n\u001b[1;32m   1391\u001b[0m         \u001b[0;34m\"\"\"Search all candidates in param_grid\"\"\"\u001b[0m\u001b[0;34m\u001b[0m\u001b[0;34m\u001b[0m\u001b[0m\n\u001b[0;32m-> 1392\u001b[0;31m         \u001b[0mevaluate_candidates\u001b[0m\u001b[0;34m(\u001b[0m\u001b[0mParameterGrid\u001b[0m\u001b[0;34m(\u001b[0m\u001b[0mself\u001b[0m\u001b[0;34m.\u001b[0m\u001b[0mparam_grid\u001b[0m\u001b[0;34m)\u001b[0m\u001b[0;34m)\u001b[0m\u001b[0;34m\u001b[0m\u001b[0;34m\u001b[0m\u001b[0m\n\u001b[0m\u001b[1;32m   1393\u001b[0m \u001b[0;34m\u001b[0m\u001b[0m\n\u001b[1;32m   1394\u001b[0m \u001b[0;34m\u001b[0m\u001b[0m\n",
      "\u001b[0;32m/Library/Frameworks/Python.framework/Versions/3.9/lib/python3.9/site-packages/sklearn/model_selection/_search.py\u001b[0m in \u001b[0;36mevaluate_candidates\u001b[0;34m(candidate_params, cv, more_results)\u001b[0m\n\u001b[1;32m    836\u001b[0m                     )\n\u001b[1;32m    837\u001b[0m \u001b[0;34m\u001b[0m\u001b[0m\n\u001b[0;32m--> 838\u001b[0;31m                 out = parallel(\n\u001b[0m\u001b[1;32m    839\u001b[0m                     delayed(_fit_and_score)(\n\u001b[1;32m    840\u001b[0m                         \u001b[0mclone\u001b[0m\u001b[0;34m(\u001b[0m\u001b[0mbase_estimator\u001b[0m\u001b[0;34m)\u001b[0m\u001b[0;34m,\u001b[0m\u001b[0;34m\u001b[0m\u001b[0;34m\u001b[0m\u001b[0m\n",
      "\u001b[0;32m/Library/Frameworks/Python.framework/Versions/3.9/lib/python3.9/site-packages/joblib/parallel.py\u001b[0m in \u001b[0;36m__call__\u001b[0;34m(self, iterable)\u001b[0m\n\u001b[1;32m   1052\u001b[0m \u001b[0;34m\u001b[0m\u001b[0m\n\u001b[1;32m   1053\u001b[0m             \u001b[0;32mwith\u001b[0m \u001b[0mself\u001b[0m\u001b[0;34m.\u001b[0m\u001b[0m_backend\u001b[0m\u001b[0;34m.\u001b[0m\u001b[0mretrieval_context\u001b[0m\u001b[0;34m(\u001b[0m\u001b[0;34m)\u001b[0m\u001b[0;34m:\u001b[0m\u001b[0;34m\u001b[0m\u001b[0;34m\u001b[0m\u001b[0m\n\u001b[0;32m-> 1054\u001b[0;31m                 \u001b[0mself\u001b[0m\u001b[0;34m.\u001b[0m\u001b[0mretrieve\u001b[0m\u001b[0;34m(\u001b[0m\u001b[0;34m)\u001b[0m\u001b[0;34m\u001b[0m\u001b[0;34m\u001b[0m\u001b[0m\n\u001b[0m\u001b[1;32m   1055\u001b[0m             \u001b[0;31m# Make sure that we get a last message telling us we are done\u001b[0m\u001b[0;34m\u001b[0m\u001b[0;34m\u001b[0m\u001b[0;34m\u001b[0m\u001b[0m\n\u001b[1;32m   1056\u001b[0m             \u001b[0melapsed_time\u001b[0m \u001b[0;34m=\u001b[0m \u001b[0mtime\u001b[0m\u001b[0;34m.\u001b[0m\u001b[0mtime\u001b[0m\u001b[0;34m(\u001b[0m\u001b[0;34m)\u001b[0m \u001b[0;34m-\u001b[0m \u001b[0mself\u001b[0m\u001b[0;34m.\u001b[0m\u001b[0m_start_time\u001b[0m\u001b[0;34m\u001b[0m\u001b[0;34m\u001b[0m\u001b[0m\n",
      "\u001b[0;32m/Library/Frameworks/Python.framework/Versions/3.9/lib/python3.9/site-packages/joblib/parallel.py\u001b[0m in \u001b[0;36mretrieve\u001b[0;34m(self)\u001b[0m\n\u001b[1;32m    931\u001b[0m             \u001b[0;32mtry\u001b[0m\u001b[0;34m:\u001b[0m\u001b[0;34m\u001b[0m\u001b[0;34m\u001b[0m\u001b[0m\n\u001b[1;32m    932\u001b[0m                 \u001b[0;32mif\u001b[0m \u001b[0mgetattr\u001b[0m\u001b[0;34m(\u001b[0m\u001b[0mself\u001b[0m\u001b[0;34m.\u001b[0m\u001b[0m_backend\u001b[0m\u001b[0;34m,\u001b[0m \u001b[0;34m'supports_timeout'\u001b[0m\u001b[0;34m,\u001b[0m \u001b[0;32mFalse\u001b[0m\u001b[0;34m)\u001b[0m\u001b[0;34m:\u001b[0m\u001b[0;34m\u001b[0m\u001b[0;34m\u001b[0m\u001b[0m\n\u001b[0;32m--> 933\u001b[0;31m                     \u001b[0mself\u001b[0m\u001b[0;34m.\u001b[0m\u001b[0m_output\u001b[0m\u001b[0;34m.\u001b[0m\u001b[0mextend\u001b[0m\u001b[0;34m(\u001b[0m\u001b[0mjob\u001b[0m\u001b[0;34m.\u001b[0m\u001b[0mget\u001b[0m\u001b[0;34m(\u001b[0m\u001b[0mtimeout\u001b[0m\u001b[0;34m=\u001b[0m\u001b[0mself\u001b[0m\u001b[0;34m.\u001b[0m\u001b[0mtimeout\u001b[0m\u001b[0;34m)\u001b[0m\u001b[0;34m)\u001b[0m\u001b[0;34m\u001b[0m\u001b[0;34m\u001b[0m\u001b[0m\n\u001b[0m\u001b[1;32m    934\u001b[0m                 \u001b[0;32melse\u001b[0m\u001b[0;34m:\u001b[0m\u001b[0;34m\u001b[0m\u001b[0;34m\u001b[0m\u001b[0m\n\u001b[1;32m    935\u001b[0m                     \u001b[0mself\u001b[0m\u001b[0;34m.\u001b[0m\u001b[0m_output\u001b[0m\u001b[0;34m.\u001b[0m\u001b[0mextend\u001b[0m\u001b[0;34m(\u001b[0m\u001b[0mjob\u001b[0m\u001b[0;34m.\u001b[0m\u001b[0mget\u001b[0m\u001b[0;34m(\u001b[0m\u001b[0;34m)\u001b[0m\u001b[0;34m)\u001b[0m\u001b[0;34m\u001b[0m\u001b[0;34m\u001b[0m\u001b[0m\n",
      "\u001b[0;32m/Library/Frameworks/Python.framework/Versions/3.9/lib/python3.9/site-packages/joblib/_parallel_backends.py\u001b[0m in \u001b[0;36mwrap_future_result\u001b[0;34m(future, timeout)\u001b[0m\n\u001b[1;32m    540\u001b[0m         AsyncResults.get from multiprocessing.\"\"\"\n\u001b[1;32m    541\u001b[0m         \u001b[0;32mtry\u001b[0m\u001b[0;34m:\u001b[0m\u001b[0;34m\u001b[0m\u001b[0;34m\u001b[0m\u001b[0m\n\u001b[0;32m--> 542\u001b[0;31m             \u001b[0;32mreturn\u001b[0m \u001b[0mfuture\u001b[0m\u001b[0;34m.\u001b[0m\u001b[0mresult\u001b[0m\u001b[0;34m(\u001b[0m\u001b[0mtimeout\u001b[0m\u001b[0;34m=\u001b[0m\u001b[0mtimeout\u001b[0m\u001b[0;34m)\u001b[0m\u001b[0;34m\u001b[0m\u001b[0;34m\u001b[0m\u001b[0m\n\u001b[0m\u001b[1;32m    543\u001b[0m         \u001b[0;32mexcept\u001b[0m \u001b[0mCfTimeoutError\u001b[0m \u001b[0;32mas\u001b[0m \u001b[0me\u001b[0m\u001b[0;34m:\u001b[0m\u001b[0;34m\u001b[0m\u001b[0;34m\u001b[0m\u001b[0m\n\u001b[1;32m    544\u001b[0m             \u001b[0;32mraise\u001b[0m \u001b[0mTimeoutError\u001b[0m \u001b[0;32mfrom\u001b[0m \u001b[0me\u001b[0m\u001b[0;34m\u001b[0m\u001b[0;34m\u001b[0m\u001b[0m\n",
      "\u001b[0;32m/Library/Frameworks/Python.framework/Versions/3.9/lib/python3.9/concurrent/futures/_base.py\u001b[0m in \u001b[0;36mresult\u001b[0;34m(self, timeout)\u001b[0m\n\u001b[1;32m    438\u001b[0m                     \u001b[0;32mreturn\u001b[0m \u001b[0mself\u001b[0m\u001b[0;34m.\u001b[0m\u001b[0m__get_result\u001b[0m\u001b[0;34m(\u001b[0m\u001b[0;34m)\u001b[0m\u001b[0;34m\u001b[0m\u001b[0;34m\u001b[0m\u001b[0m\n\u001b[1;32m    439\u001b[0m \u001b[0;34m\u001b[0m\u001b[0m\n\u001b[0;32m--> 440\u001b[0;31m                 \u001b[0mself\u001b[0m\u001b[0;34m.\u001b[0m\u001b[0m_condition\u001b[0m\u001b[0;34m.\u001b[0m\u001b[0mwait\u001b[0m\u001b[0;34m(\u001b[0m\u001b[0mtimeout\u001b[0m\u001b[0;34m)\u001b[0m\u001b[0;34m\u001b[0m\u001b[0;34m\u001b[0m\u001b[0m\n\u001b[0m\u001b[1;32m    441\u001b[0m \u001b[0;34m\u001b[0m\u001b[0m\n\u001b[1;32m    442\u001b[0m                 \u001b[0;32mif\u001b[0m \u001b[0mself\u001b[0m\u001b[0;34m.\u001b[0m\u001b[0m_state\u001b[0m \u001b[0;32min\u001b[0m \u001b[0;34m[\u001b[0m\u001b[0mCANCELLED\u001b[0m\u001b[0;34m,\u001b[0m \u001b[0mCANCELLED_AND_NOTIFIED\u001b[0m\u001b[0;34m]\u001b[0m\u001b[0;34m:\u001b[0m\u001b[0;34m\u001b[0m\u001b[0;34m\u001b[0m\u001b[0m\n",
      "\u001b[0;32m/Library/Frameworks/Python.framework/Versions/3.9/lib/python3.9/threading.py\u001b[0m in \u001b[0;36mwait\u001b[0;34m(self, timeout)\u001b[0m\n\u001b[1;32m    310\u001b[0m         \u001b[0;32mtry\u001b[0m\u001b[0;34m:\u001b[0m    \u001b[0;31m# restore state no matter what (e.g., KeyboardInterrupt)\u001b[0m\u001b[0;34m\u001b[0m\u001b[0;34m\u001b[0m\u001b[0m\n\u001b[1;32m    311\u001b[0m             \u001b[0;32mif\u001b[0m \u001b[0mtimeout\u001b[0m \u001b[0;32mis\u001b[0m \u001b[0;32mNone\u001b[0m\u001b[0;34m:\u001b[0m\u001b[0;34m\u001b[0m\u001b[0;34m\u001b[0m\u001b[0m\n\u001b[0;32m--> 312\u001b[0;31m                 \u001b[0mwaiter\u001b[0m\u001b[0;34m.\u001b[0m\u001b[0macquire\u001b[0m\u001b[0;34m(\u001b[0m\u001b[0;34m)\u001b[0m\u001b[0;34m\u001b[0m\u001b[0;34m\u001b[0m\u001b[0m\n\u001b[0m\u001b[1;32m    313\u001b[0m                 \u001b[0mgotit\u001b[0m \u001b[0;34m=\u001b[0m \u001b[0;32mTrue\u001b[0m\u001b[0;34m\u001b[0m\u001b[0;34m\u001b[0m\u001b[0m\n\u001b[1;32m    314\u001b[0m             \u001b[0;32melse\u001b[0m\u001b[0;34m:\u001b[0m\u001b[0;34m\u001b[0m\u001b[0;34m\u001b[0m\u001b[0m\n",
      "\u001b[0;31mKeyboardInterrupt\u001b[0m: "
     ]
    }
   ],
   "source": [
    "best_rfc_aug, rfc_pred_aug, rfc_cm_aug, rfc_metrics_aug = model_randomforestclassifier_tuned(X_train_aug, y_train_aug, X_test_aug, y_test_aug)\n",
    "\n",
    "# display the confusion matrix for the logistic regression model\n",
    "dist = ConfusionMatrixDisplay(confusion_matrix=rfc_cm_aug).plot(cmap=plt.cm.Blues)\n",
    "plt.show()\n",
    "print(rfc_metrics_aug)"
   ]
  },
  {
   "cell_type": "markdown",
   "metadata": {},
   "source": [
    "***\n",
    "#### Light Gradient Booosted Model Classifier\n",
    "***"
   ]
  },
  {
   "cell_type": "code",
   "execution_count": null,
   "metadata": {},
   "outputs": [],
   "source": [
    "best_lgb, lgb_pred, lgb_cm, lgb_metrics = model_lgbmclassifier_tuned(X_train, y_train, X_test, y_test)\n",
    "\n",
    "# display the confusion matrix for the logistic regression model\n",
    "dist = ConfusionMatrixDisplay(confusion_matrix=lgb_cm).plot(cmap=plt.cm.Blues)\n",
    "plt.show()\n",
    "print(lgb_metrics)"
   ]
  },
  {
   "cell_type": "markdown",
   "metadata": {},
   "source": [
    "***\n",
    "#### K Nearest Neighbors Classifier\n",
    "***"
   ]
  },
  {
   "cell_type": "code",
   "execution_count": null,
   "metadata": {},
   "outputs": [],
   "source": [
    "best_knn_aug, knn_pred_aug, knn_cm_aug, knn_metrics_aug = model_knnclassifier_tuned(X_train_aug, y_train_aug, X_test_aug, y_test_aug)\n",
    "\n",
    "# display the confusion matrix for the logistic regression model\n",
    "dist = ConfusionMatrixDisplay(confusion_matrix=knn_cm_aug).plot(cmap=plt.cm.Blues)\n",
    "plt.show()\n",
    "print(knn_metrics_aug)"
   ]
  },
  {
   "cell_type": "markdown",
   "metadata": {},
   "source": [
    "***\n",
    "#### Gaussian Naive Bayes Classifier\n",
    "***"
   ]
  },
  {
   "cell_type": "code",
   "execution_count": null,
   "metadata": {},
   "outputs": [],
   "source": [
    "best_gnb_aug, gnb_pred_aug, gnb_cm_aug, gnb_metrics_aug = model_gnbclassifier_tuned(X_train_aug, y_train_aug, X_test_aug, y_test_aug)\n",
    "\n",
    "# display the confusion matrix for the logistic regression model\n",
    "dist = ConfusionMatrixDisplay(confusion_matrix=gnb_cm_aug).plot(cmap=plt.cm.Blues)\n",
    "plt.show()\n",
    "print(gnb_metrics_aug)"
   ]
  },
  {
   "cell_type": "markdown",
   "metadata": {},
   "source": [
    "***\n",
    "#### Custom Ensembles\n",
    "***"
   ]
  },
  {
   "cell_type": "code",
   "execution_count": null,
   "metadata": {},
   "outputs": [],
   "source": [
    "# create a custom ensemble of all of the above methods\n",
    "df_pred_aug = pd.DataFrame([lm_pred_aug, rfc_pred_aug, lgb_pred_aug, knn_pred_aug, gnb_pred_aug]).T\n",
    "pred_aug = df_pred_aug.apply(statistics.mode, axis=1)\n",
    "\n",
    "# creating a confusion matrix\n",
    "cm = confusion_matrix(y_test, pred_aug)\n",
    "\n",
    "# track other related model performance metrics\n",
    "metrics = classification_report(y_test, pred_aug, digits=3)\n",
    "\n",
    "dist = ConfusionMatrixDisplay(confusion_matrix=cm).plot(cmap=plt.cm.Blues)\n",
    "plt.show()\n",
    "print(metrics)"
   ]
  },
  {
   "cell_type": "code",
   "execution_count": null,
   "metadata": {},
   "outputs": [],
   "source": []
  },
  {
   "cell_type": "code",
   "execution_count": null,
   "metadata": {},
   "outputs": [],
   "source": []
  }
 ],
 "metadata": {
  "interpreter": {
   "hash": "aee8b7b246df8f9039afb4144a1f6fd8d2ca17a180786b69acc140d282b71a49"
  },
  "kernelspec": {
   "display_name": "Python 3.9.5 64-bit",
   "language": "python",
   "name": "python3"
  },
  "language_info": {
   "codemirror_mode": {
    "name": "ipython",
    "version": 3
   },
   "file_extension": ".py",
   "mimetype": "text/x-python",
   "name": "python",
   "nbconvert_exporter": "python",
   "pygments_lexer": "ipython3",
   "version": "3.9.5"
  },
  "orig_nbformat": 4
 },
 "nbformat": 4,
 "nbformat_minor": 2
}
