{
 "cells": [
  {
   "cell_type": "markdown",
   "metadata": {},
   "source": [
    "<a class=\"anchor\" id=\"top\"></a>\n",
    "\n",
    "# Topic Modeling with LDA to Generate Target Risk Topics\n",
    "Author: Ainesh Pandey\n",
    "\n",
    "In this notebook, we will perform topic modeling using [LDA (Latent Dirichlet Allocation)](https://towardsdatascience.com/latent-dirichlet-allocation-lda-9d1cd064ffa2) on the _Lesson(s) Learned_ column of the `lessons_learned.csv` dataframe. The purpose of this analysis is to attempt to organize the different projects into risk topics. Assuming the LDA model produces reasonable topics, we can use the topic classification as ground truth in a modeling objective.\n",
    "\n",
    "## Table of Contents\n",
    "[Step 1: Import Packages and Data](#step-1) <br>\n",
    "[Step 2: Prototyping Baseline Solution](#step-2) <br>"
   ]
  },
  {
   "cell_type": "markdown",
   "metadata": {},
   "source": [
    "<a class=\"anchor\" id=\"step-1\"></a>\n",
    "\n",
    "## Import Packages and Data\n",
    "\n",
    "### Packages\n",
    "\n",
    "We start by importing the required packages for this analysis."
   ]
  },
  {
   "cell_type": "code",
   "execution_count": 27,
   "metadata": {},
   "outputs": [],
   "source": [
    "import warnings\n",
    "warnings.filterwarnings('ignore')\n",
    "\n",
    "# basic data science packages\n",
    "import pandas as pd\n",
    "import numpy as np\n",
    "np.random.seed(5)\n",
    "\n",
    "# gensim packages for text preprocessing and LDA\n",
    "import gensim\n",
    "from gensim.utils import simple_preprocess\n",
    "from gensim.parsing.preprocessing import STOPWORDS\n",
    "\n",
    "# nltk packages for text preprocessing\n",
    "import nltk\n",
    "from nltk.stem import WordNetLemmatizer\n",
    "from nltk.stem.porter import *\n",
    "\n",
    "# \n",
    "from sklearn.feature_extraction.text import TfidfVectorizer\n",
    "from sklearn.decomposition import PCA\n",
    "from sklearn.model_selection import train_test_split\n",
    "import imblearn\n",
    "from imblearn.under_sampling import NearMiss\n",
    "from imblearn.under_sampling import OneSidedSelection\n",
    "\n",
    "# modeling packages\n",
    "from sklearn.model_selection import GridSearchCV\n",
    "from sklearn.metrics import make_scorer, f1_score\n",
    "from sklearn.linear_model import LogisticRegression\n",
    "from sklearn.ensemble import RandomForestClassifier\n",
    "from lightgbm import LGBMClassifier\n",
    "from sklearn.neighbors import KNeighborsClassifier\n",
    "from sklearn.naive_bayes import GaussianNB\n",
    "import statistics\n",
    "\n",
    "# visualization packages\n",
    "from sklearn.metrics import confusion_matrix, ConfusionMatrixDisplay\n",
    "import seaborn as sns\n",
    "import matplotlib.pyplot as plt"
   ]
  },
  {
   "cell_type": "markdown",
   "metadata": {},
   "source": [
    "### Data\n",
    "We import `lessons_learned.csv` and keep all of the data. After some exploratory data analysis, we'll choose which features we will keep as inputs."
   ]
  },
  {
   "cell_type": "code",
   "execution_count": 2,
   "metadata": {},
   "outputs": [
    {
     "data": {
      "text/plain": [
       "(2101, 17)"
      ]
     },
     "metadata": {},
     "output_type": "display_data"
    },
    {
     "data": {
      "text/html": [
       "<div>\n",
       "<style scoped>\n",
       "    .dataframe tbody tr th:only-of-type {\n",
       "        vertical-align: middle;\n",
       "    }\n",
       "\n",
       "    .dataframe tbody tr th {\n",
       "        vertical-align: top;\n",
       "    }\n",
       "\n",
       "    .dataframe thead th {\n",
       "        text-align: right;\n",
       "    }\n",
       "</style>\n",
       "<table border=\"1\" class=\"dataframe\">\n",
       "  <thead>\n",
       "    <tr style=\"text-align: right;\">\n",
       "      <th></th>\n",
       "      <th>Lesson ID</th>\n",
       "      <th>Title</th>\n",
       "      <th>Abstract</th>\n",
       "      <th>Lesson(s) Learned</th>\n",
       "      <th>Recommendation(s)</th>\n",
       "      <th>Organization</th>\n",
       "      <th>Date Lesson Occurred</th>\n",
       "      <th>Driving Event</th>\n",
       "      <th>Evidence</th>\n",
       "      <th>Project / Program</th>\n",
       "      <th>The related NASA policy(s), standard(s), handbook(s), procedure(s) or other rules</th>\n",
       "      <th>NASA Mission Directorate(s)</th>\n",
       "      <th>Sensitivity</th>\n",
       "      <th>From what phase of the program or project was this lesson learned captured?</th>\n",
       "      <th>Where (other lessons, presentations, publications, etc.)?</th>\n",
       "      <th>Publish Date</th>\n",
       "      <th>Topics</th>\n",
       "    </tr>\n",
       "  </thead>\n",
       "  <tbody>\n",
       "    <tr>\n",
       "      <th>0</th>\n",
       "      <td>30004</td>\n",
       "      <td>Relationship of Government and Contractor Risk...</td>\n",
       "      <td>The purpose of this lesson is to highlight the...</td>\n",
       "      <td>Approach 1 made it difficult to understand the...</td>\n",
       "      <td>Projects should consider RBI's risk management...</td>\n",
       "      <td>LaRC</td>\n",
       "      <td>04/05/2018</td>\n",
       "      <td>Throughout the project, it was repeatedly dete...</td>\n",
       "      <td>NaN</td>\n",
       "      <td>Radiation Budget Instrument</td>\n",
       "      <td>Langley Management System Center Procedure LMS...</td>\n",
       "      <td>Aeronautics Research, Human Exploration and Op...</td>\n",
       "      <td>Public</td>\n",
       "      <td>Implementation</td>\n",
       "      <td>LaRC Institutional Knowledge Management (IKM) ...</td>\n",
       "      <td>07/23/2021</td>\n",
       "      <td>Procurement, Small Business &amp; Industrial Relat...</td>\n",
       "    </tr>\n",
       "    <tr>\n",
       "      <th>1</th>\n",
       "      <td>30101</td>\n",
       "      <td>Cable Harness Wiring and Connector Anomalies C...</td>\n",
       "      <td>Early indications show that the commercial spa...</td>\n",
       "      <td>As a result of many years of expensive lessons...</td>\n",
       "      <td>As commercial vehicles and other NASA vehicles...</td>\n",
       "      <td>NESC</td>\n",
       "      <td>02/28/2021</td>\n",
       "      <td>NASA has found that the commercial spacecraft ...</td>\n",
       "      <td>NaN</td>\n",
       "      <td>Space Shuttle Program, Commercial Crewed Space...</td>\n",
       "      <td>NaN</td>\n",
       "      <td>Human Exploration and Operations</td>\n",
       "      <td>Public</td>\n",
       "      <td>Implementation » Phase E</td>\n",
       "      <td>NaN</td>\n",
       "      <td>07/23/2021</td>\n",
       "      <td>Flight Equipment, Ground Operations, Hardware,...</td>\n",
       "    </tr>\n",
       "    <tr>\n",
       "      <th>2</th>\n",
       "      <td>29801</td>\n",
       "      <td>Best Practices for the Elemental Profiling of ...</td>\n",
       "      <td>Trace contaminants in high-purity hydrazine (H...</td>\n",
       "      <td>There was an unexpectedly wide variation in el...</td>\n",
       "      <td>The recommendations to prevent this lesson fro...</td>\n",
       "      <td>NESC</td>\n",
       "      <td>12/14/2020</td>\n",
       "      <td>Hypergolic propellants (e.g., hydrazine (N2H4)...</td>\n",
       "      <td>NaN</td>\n",
       "      <td>All NASA missions using high purity hydrazine ...</td>\n",
       "      <td>NaN</td>\n",
       "      <td>Human Exploration and Operations, Science, Spa...</td>\n",
       "      <td>Public</td>\n",
       "      <td>Not Applicable</td>\n",
       "      <td>NaN</td>\n",
       "      <td>06/23/2021</td>\n",
       "      <td>Ground Operations, Launch Vehicle, Parts, Mate...</td>\n",
       "    </tr>\n",
       "    <tr>\n",
       "      <th>3</th>\n",
       "      <td>29702</td>\n",
       "      <td>Integration and Dependency Between Different A...</td>\n",
       "      <td>During the Radiological Control Center (RADCC)...</td>\n",
       "      <td>If possible, the design phase of both systems ...</td>\n",
       "      <td>Design phase should incorporate both design te...</td>\n",
       "      <td>KSC</td>\n",
       "      <td>03/15/2020</td>\n",
       "      <td>The RADCC AV system controls and routes variou...</td>\n",
       "      <td>NaN</td>\n",
       "      <td>Radiological Control Center (RADCC)</td>\n",
       "      <td>NPR 7120.7A NASA Information Technology Progra...</td>\n",
       "      <td>Human Exploration and Operations</td>\n",
       "      <td>Public</td>\n",
       "      <td>Not Specified</td>\n",
       "      <td>NaN</td>\n",
       "      <td>06/01/2021</td>\n",
       "      <td>Engineering Design, Integration and Testing, S...</td>\n",
       "    </tr>\n",
       "    <tr>\n",
       "      <th>4</th>\n",
       "      <td>29103</td>\n",
       "      <td>Copper Tube Pinch Failure</td>\n",
       "      <td>While pinching copper tubes is a standard prac...</td>\n",
       "      <td>The pinch was initially visually inspected and...</td>\n",
       "      <td>Have pinch tool operator perform several pract...</td>\n",
       "      <td>KSC</td>\n",
       "      <td>10/17/2020</td>\n",
       "      <td>A copper tube was pinched as a test for the Ma...</td>\n",
       "      <td>Inverted metallography image of separated pinc...</td>\n",
       "      <td>Mass Spectrometer observing lunar operations (...</td>\n",
       "      <td>NaN</td>\n",
       "      <td>Human Exploration and Operations, Space Techno...</td>\n",
       "      <td>Public</td>\n",
       "      <td>Implementation » Phase D</td>\n",
       "      <td>NaN</td>\n",
       "      <td>12/10/2020</td>\n",
       "      <td>Engineering Design, Integration and Testing, M...</td>\n",
       "    </tr>\n",
       "  </tbody>\n",
       "</table>\n",
       "</div>"
      ],
      "text/plain": [
       "   Lesson ID                                              Title  \\\n",
       "0      30004  Relationship of Government and Contractor Risk...   \n",
       "1      30101  Cable Harness Wiring and Connector Anomalies C...   \n",
       "2      29801  Best Practices for the Elemental Profiling of ...   \n",
       "3      29702  Integration and Dependency Between Different A...   \n",
       "4      29103                          Copper Tube Pinch Failure   \n",
       "\n",
       "                                            Abstract  \\\n",
       "0  The purpose of this lesson is to highlight the...   \n",
       "1  Early indications show that the commercial spa...   \n",
       "2  Trace contaminants in high-purity hydrazine (H...   \n",
       "3  During the Radiological Control Center (RADCC)...   \n",
       "4  While pinching copper tubes is a standard prac...   \n",
       "\n",
       "                                   Lesson(s) Learned  \\\n",
       "0  Approach 1 made it difficult to understand the...   \n",
       "1  As a result of many years of expensive lessons...   \n",
       "2  There was an unexpectedly wide variation in el...   \n",
       "3  If possible, the design phase of both systems ...   \n",
       "4  The pinch was initially visually inspected and...   \n",
       "\n",
       "                                   Recommendation(s) Organization  \\\n",
       "0  Projects should consider RBI's risk management...         LaRC   \n",
       "1  As commercial vehicles and other NASA vehicles...         NESC   \n",
       "2  The recommendations to prevent this lesson fro...         NESC   \n",
       "3  Design phase should incorporate both design te...          KSC   \n",
       "4  Have pinch tool operator perform several pract...          KSC   \n",
       "\n",
       "  Date Lesson Occurred                                      Driving Event  \\\n",
       "0           04/05/2018  Throughout the project, it was repeatedly dete...   \n",
       "1           02/28/2021  NASA has found that the commercial spacecraft ...   \n",
       "2           12/14/2020  Hypergolic propellants (e.g., hydrazine (N2H4)...   \n",
       "3           03/15/2020  The RADCC AV system controls and routes variou...   \n",
       "4           10/17/2020  A copper tube was pinched as a test for the Ma...   \n",
       "\n",
       "                                            Evidence  \\\n",
       "0                                                NaN   \n",
       "1                                                NaN   \n",
       "2                                                NaN   \n",
       "3                                                NaN   \n",
       "4  Inverted metallography image of separated pinc...   \n",
       "\n",
       "                                   Project / Program  \\\n",
       "0                        Radiation Budget Instrument   \n",
       "1  Space Shuttle Program, Commercial Crewed Space...   \n",
       "2  All NASA missions using high purity hydrazine ...   \n",
       "3                Radiological Control Center (RADCC)   \n",
       "4  Mass Spectrometer observing lunar operations (...   \n",
       "\n",
       "  The related NASA policy(s), standard(s), handbook(s), procedure(s) or other rules  \\\n",
       "0  Langley Management System Center Procedure LMS...                                  \n",
       "1                                                NaN                                  \n",
       "2                                                NaN                                  \n",
       "3  NPR 7120.7A NASA Information Technology Progra...                                  \n",
       "4                                                NaN                                  \n",
       "\n",
       "                         NASA Mission Directorate(s) Sensitivity  \\\n",
       "0  Aeronautics Research, Human Exploration and Op...      Public   \n",
       "1                   Human Exploration and Operations      Public   \n",
       "2  Human Exploration and Operations, Science, Spa...      Public   \n",
       "3                   Human Exploration and Operations      Public   \n",
       "4  Human Exploration and Operations, Space Techno...      Public   \n",
       "\n",
       "  From what phase of the program or project was this lesson learned captured?  \\\n",
       "0                                     Implementation                            \n",
       "1                           Implementation » Phase E                            \n",
       "2                                     Not Applicable                            \n",
       "3                                      Not Specified                            \n",
       "4                           Implementation » Phase D                            \n",
       "\n",
       "  Where (other lessons, presentations, publications, etc.)? Publish Date  \\\n",
       "0  LaRC Institutional Knowledge Management (IKM) ...          07/23/2021   \n",
       "1                                                NaN          07/23/2021   \n",
       "2                                                NaN          06/23/2021   \n",
       "3                                                NaN          06/01/2021   \n",
       "4                                                NaN          12/10/2020   \n",
       "\n",
       "                                              Topics  \n",
       "0  Procurement, Small Business & Industrial Relat...  \n",
       "1  Flight Equipment, Ground Operations, Hardware,...  \n",
       "2  Ground Operations, Launch Vehicle, Parts, Mate...  \n",
       "3  Engineering Design, Integration and Testing, S...  \n",
       "4  Engineering Design, Integration and Testing, M...  "
      ]
     },
     "execution_count": 2,
     "metadata": {},
     "output_type": "execute_result"
    }
   ],
   "source": [
    "df_lessons = pd.read_csv('../Risky Space Business Challenge Files/lessons_learned.csv', encoding='cp1252')\n",
    "\n",
    "display(df_lessons.shape)\n",
    "df_lessons.head()"
   ]
  },
  {
   "cell_type": "markdown",
   "metadata": {},
   "source": [
    "Next, we will import `risk_classifications.csv`, which we created in [GenerateRiskTarget.ipynb](GenerateRiskTarget.ipynb)."
   ]
  },
  {
   "cell_type": "code",
   "execution_count": 3,
   "metadata": {},
   "outputs": [
    {
     "data": {
      "text/plain": [
       "(2086, 2)"
      ]
     },
     "metadata": {},
     "output_type": "display_data"
    },
    {
     "data": {
      "text/html": [
       "<div>\n",
       "<style scoped>\n",
       "    .dataframe tbody tr th:only-of-type {\n",
       "        vertical-align: middle;\n",
       "    }\n",
       "\n",
       "    .dataframe tbody tr th {\n",
       "        vertical-align: top;\n",
       "    }\n",
       "\n",
       "    .dataframe thead th {\n",
       "        text-align: right;\n",
       "    }\n",
       "</style>\n",
       "<table border=\"1\" class=\"dataframe\">\n",
       "  <thead>\n",
       "    <tr style=\"text-align: right;\">\n",
       "      <th></th>\n",
       "      <th>Lesson ID</th>\n",
       "      <th>Risk Class</th>\n",
       "    </tr>\n",
       "  </thead>\n",
       "  <tbody>\n",
       "    <tr>\n",
       "      <th>0</th>\n",
       "      <td>30004</td>\n",
       "      <td>4</td>\n",
       "    </tr>\n",
       "    <tr>\n",
       "      <th>1</th>\n",
       "      <td>30101</td>\n",
       "      <td>4</td>\n",
       "    </tr>\n",
       "    <tr>\n",
       "      <th>2</th>\n",
       "      <td>29801</td>\n",
       "      <td>4</td>\n",
       "    </tr>\n",
       "    <tr>\n",
       "      <th>3</th>\n",
       "      <td>29702</td>\n",
       "      <td>4</td>\n",
       "    </tr>\n",
       "    <tr>\n",
       "      <th>4</th>\n",
       "      <td>29103</td>\n",
       "      <td>4</td>\n",
       "    </tr>\n",
       "  </tbody>\n",
       "</table>\n",
       "</div>"
      ],
      "text/plain": [
       "   Lesson ID  Risk Class\n",
       "0      30004           4\n",
       "1      30101           4\n",
       "2      29801           4\n",
       "3      29702           4\n",
       "4      29103           4"
      ]
     },
     "execution_count": 3,
     "metadata": {},
     "output_type": "execute_result"
    }
   ],
   "source": [
    "df_riskclasses = pd.read_csv('../data/risk_classifications.csv')\n",
    "\n",
    "display(df_riskclasses.shape)\n",
    "df_riskclasses.head()"
   ]
  },
  {
   "cell_type": "markdown",
   "metadata": {},
   "source": [
    "We will combine both dataframes into a master dataframe. We also drop any rows where Risk Class == 3, based on our findings in the previous notebook."
   ]
  },
  {
   "cell_type": "code",
   "execution_count": 4,
   "metadata": {},
   "outputs": [
    {
     "data": {
      "text/plain": [
       "(2067, 19)"
      ]
     },
     "metadata": {},
     "output_type": "display_data"
    },
    {
     "data": {
      "text/html": [
       "<div>\n",
       "<style scoped>\n",
       "    .dataframe tbody tr th:only-of-type {\n",
       "        vertical-align: middle;\n",
       "    }\n",
       "\n",
       "    .dataframe tbody tr th {\n",
       "        vertical-align: top;\n",
       "    }\n",
       "\n",
       "    .dataframe thead th {\n",
       "        text-align: right;\n",
       "    }\n",
       "</style>\n",
       "<table border=\"1\" class=\"dataframe\">\n",
       "  <thead>\n",
       "    <tr style=\"text-align: right;\">\n",
       "      <th></th>\n",
       "      <th>index</th>\n",
       "      <th>Lesson ID</th>\n",
       "      <th>Title</th>\n",
       "      <th>Abstract</th>\n",
       "      <th>Lesson(s) Learned</th>\n",
       "      <th>Recommendation(s)</th>\n",
       "      <th>Organization</th>\n",
       "      <th>Date Lesson Occurred</th>\n",
       "      <th>Driving Event</th>\n",
       "      <th>Evidence</th>\n",
       "      <th>Project / Program</th>\n",
       "      <th>The related NASA policy(s), standard(s), handbook(s), procedure(s) or other rules</th>\n",
       "      <th>NASA Mission Directorate(s)</th>\n",
       "      <th>Sensitivity</th>\n",
       "      <th>From what phase of the program or project was this lesson learned captured?</th>\n",
       "      <th>Where (other lessons, presentations, publications, etc.)?</th>\n",
       "      <th>Publish Date</th>\n",
       "      <th>Topics</th>\n",
       "      <th>Risk Class</th>\n",
       "    </tr>\n",
       "  </thead>\n",
       "  <tbody>\n",
       "    <tr>\n",
       "      <th>0</th>\n",
       "      <td>0</td>\n",
       "      <td>30004</td>\n",
       "      <td>Relationship of Government and Contractor Risk...</td>\n",
       "      <td>The purpose of this lesson is to highlight the...</td>\n",
       "      <td>Approach 1 made it difficult to understand the...</td>\n",
       "      <td>Projects should consider RBI's risk management...</td>\n",
       "      <td>LaRC</td>\n",
       "      <td>04/05/2018</td>\n",
       "      <td>Throughout the project, it was repeatedly dete...</td>\n",
       "      <td>NaN</td>\n",
       "      <td>Radiation Budget Instrument</td>\n",
       "      <td>Langley Management System Center Procedure LMS...</td>\n",
       "      <td>Aeronautics Research, Human Exploration and Op...</td>\n",
       "      <td>Public</td>\n",
       "      <td>Implementation</td>\n",
       "      <td>LaRC Institutional Knowledge Management (IKM) ...</td>\n",
       "      <td>07/23/2021</td>\n",
       "      <td>Procurement, Small Business &amp; Industrial Relat...</td>\n",
       "      <td>4</td>\n",
       "    </tr>\n",
       "    <tr>\n",
       "      <th>1</th>\n",
       "      <td>1</td>\n",
       "      <td>30101</td>\n",
       "      <td>Cable Harness Wiring and Connector Anomalies C...</td>\n",
       "      <td>Early indications show that the commercial spa...</td>\n",
       "      <td>As a result of many years of expensive lessons...</td>\n",
       "      <td>As commercial vehicles and other NASA vehicles...</td>\n",
       "      <td>NESC</td>\n",
       "      <td>02/28/2021</td>\n",
       "      <td>NASA has found that the commercial spacecraft ...</td>\n",
       "      <td>NaN</td>\n",
       "      <td>Space Shuttle Program, Commercial Crewed Space...</td>\n",
       "      <td>NaN</td>\n",
       "      <td>Human Exploration and Operations</td>\n",
       "      <td>Public</td>\n",
       "      <td>Implementation » Phase E</td>\n",
       "      <td>NaN</td>\n",
       "      <td>07/23/2021</td>\n",
       "      <td>Flight Equipment, Ground Operations, Hardware,...</td>\n",
       "      <td>4</td>\n",
       "    </tr>\n",
       "    <tr>\n",
       "      <th>2</th>\n",
       "      <td>2</td>\n",
       "      <td>29801</td>\n",
       "      <td>Best Practices for the Elemental Profiling of ...</td>\n",
       "      <td>Trace contaminants in high-purity hydrazine (H...</td>\n",
       "      <td>There was an unexpectedly wide variation in el...</td>\n",
       "      <td>The recommendations to prevent this lesson fro...</td>\n",
       "      <td>NESC</td>\n",
       "      <td>12/14/2020</td>\n",
       "      <td>Hypergolic propellants (e.g., hydrazine (N2H4)...</td>\n",
       "      <td>NaN</td>\n",
       "      <td>All NASA missions using high purity hydrazine ...</td>\n",
       "      <td>NaN</td>\n",
       "      <td>Human Exploration and Operations, Science, Spa...</td>\n",
       "      <td>Public</td>\n",
       "      <td>Not Applicable</td>\n",
       "      <td>NaN</td>\n",
       "      <td>06/23/2021</td>\n",
       "      <td>Ground Operations, Launch Vehicle, Parts, Mate...</td>\n",
       "      <td>4</td>\n",
       "    </tr>\n",
       "    <tr>\n",
       "      <th>3</th>\n",
       "      <td>3</td>\n",
       "      <td>29702</td>\n",
       "      <td>Integration and Dependency Between Different A...</td>\n",
       "      <td>During the Radiological Control Center (RADCC)...</td>\n",
       "      <td>If possible, the design phase of both systems ...</td>\n",
       "      <td>Design phase should incorporate both design te...</td>\n",
       "      <td>KSC</td>\n",
       "      <td>03/15/2020</td>\n",
       "      <td>The RADCC AV system controls and routes variou...</td>\n",
       "      <td>NaN</td>\n",
       "      <td>Radiological Control Center (RADCC)</td>\n",
       "      <td>NPR 7120.7A NASA Information Technology Progra...</td>\n",
       "      <td>Human Exploration and Operations</td>\n",
       "      <td>Public</td>\n",
       "      <td>Not Specified</td>\n",
       "      <td>NaN</td>\n",
       "      <td>06/01/2021</td>\n",
       "      <td>Engineering Design, Integration and Testing, S...</td>\n",
       "      <td>4</td>\n",
       "    </tr>\n",
       "    <tr>\n",
       "      <th>4</th>\n",
       "      <td>4</td>\n",
       "      <td>29103</td>\n",
       "      <td>Copper Tube Pinch Failure</td>\n",
       "      <td>While pinching copper tubes is a standard prac...</td>\n",
       "      <td>The pinch was initially visually inspected and...</td>\n",
       "      <td>Have pinch tool operator perform several pract...</td>\n",
       "      <td>KSC</td>\n",
       "      <td>10/17/2020</td>\n",
       "      <td>A copper tube was pinched as a test for the Ma...</td>\n",
       "      <td>Inverted metallography image of separated pinc...</td>\n",
       "      <td>Mass Spectrometer observing lunar operations (...</td>\n",
       "      <td>NaN</td>\n",
       "      <td>Human Exploration and Operations, Space Techno...</td>\n",
       "      <td>Public</td>\n",
       "      <td>Implementation » Phase D</td>\n",
       "      <td>NaN</td>\n",
       "      <td>12/10/2020</td>\n",
       "      <td>Engineering Design, Integration and Testing, M...</td>\n",
       "      <td>4</td>\n",
       "    </tr>\n",
       "  </tbody>\n",
       "</table>\n",
       "</div>"
      ],
      "text/plain": [
       "   index  Lesson ID                                              Title  \\\n",
       "0      0      30004  Relationship of Government and Contractor Risk...   \n",
       "1      1      30101  Cable Harness Wiring and Connector Anomalies C...   \n",
       "2      2      29801  Best Practices for the Elemental Profiling of ...   \n",
       "3      3      29702  Integration and Dependency Between Different A...   \n",
       "4      4      29103                          Copper Tube Pinch Failure   \n",
       "\n",
       "                                            Abstract  \\\n",
       "0  The purpose of this lesson is to highlight the...   \n",
       "1  Early indications show that the commercial spa...   \n",
       "2  Trace contaminants in high-purity hydrazine (H...   \n",
       "3  During the Radiological Control Center (RADCC)...   \n",
       "4  While pinching copper tubes is a standard prac...   \n",
       "\n",
       "                                   Lesson(s) Learned  \\\n",
       "0  Approach 1 made it difficult to understand the...   \n",
       "1  As a result of many years of expensive lessons...   \n",
       "2  There was an unexpectedly wide variation in el...   \n",
       "3  If possible, the design phase of both systems ...   \n",
       "4  The pinch was initially visually inspected and...   \n",
       "\n",
       "                                   Recommendation(s) Organization  \\\n",
       "0  Projects should consider RBI's risk management...         LaRC   \n",
       "1  As commercial vehicles and other NASA vehicles...         NESC   \n",
       "2  The recommendations to prevent this lesson fro...         NESC   \n",
       "3  Design phase should incorporate both design te...          KSC   \n",
       "4  Have pinch tool operator perform several pract...          KSC   \n",
       "\n",
       "  Date Lesson Occurred                                      Driving Event  \\\n",
       "0           04/05/2018  Throughout the project, it was repeatedly dete...   \n",
       "1           02/28/2021  NASA has found that the commercial spacecraft ...   \n",
       "2           12/14/2020  Hypergolic propellants (e.g., hydrazine (N2H4)...   \n",
       "3           03/15/2020  The RADCC AV system controls and routes variou...   \n",
       "4           10/17/2020  A copper tube was pinched as a test for the Ma...   \n",
       "\n",
       "                                            Evidence  \\\n",
       "0                                                NaN   \n",
       "1                                                NaN   \n",
       "2                                                NaN   \n",
       "3                                                NaN   \n",
       "4  Inverted metallography image of separated pinc...   \n",
       "\n",
       "                                   Project / Program  \\\n",
       "0                        Radiation Budget Instrument   \n",
       "1  Space Shuttle Program, Commercial Crewed Space...   \n",
       "2  All NASA missions using high purity hydrazine ...   \n",
       "3                Radiological Control Center (RADCC)   \n",
       "4  Mass Spectrometer observing lunar operations (...   \n",
       "\n",
       "  The related NASA policy(s), standard(s), handbook(s), procedure(s) or other rules  \\\n",
       "0  Langley Management System Center Procedure LMS...                                  \n",
       "1                                                NaN                                  \n",
       "2                                                NaN                                  \n",
       "3  NPR 7120.7A NASA Information Technology Progra...                                  \n",
       "4                                                NaN                                  \n",
       "\n",
       "                         NASA Mission Directorate(s) Sensitivity  \\\n",
       "0  Aeronautics Research, Human Exploration and Op...      Public   \n",
       "1                   Human Exploration and Operations      Public   \n",
       "2  Human Exploration and Operations, Science, Spa...      Public   \n",
       "3                   Human Exploration and Operations      Public   \n",
       "4  Human Exploration and Operations, Space Techno...      Public   \n",
       "\n",
       "  From what phase of the program or project was this lesson learned captured?  \\\n",
       "0                                     Implementation                            \n",
       "1                           Implementation » Phase E                            \n",
       "2                                     Not Applicable                            \n",
       "3                                      Not Specified                            \n",
       "4                           Implementation » Phase D                            \n",
       "\n",
       "  Where (other lessons, presentations, publications, etc.)? Publish Date  \\\n",
       "0  LaRC Institutional Knowledge Management (IKM) ...          07/23/2021   \n",
       "1                                                NaN          07/23/2021   \n",
       "2                                                NaN          06/23/2021   \n",
       "3                                                NaN          06/01/2021   \n",
       "4                                                NaN          12/10/2020   \n",
       "\n",
       "                                              Topics  Risk Class  \n",
       "0  Procurement, Small Business & Industrial Relat...           4  \n",
       "1  Flight Equipment, Ground Operations, Hardware,...           4  \n",
       "2  Ground Operations, Launch Vehicle, Parts, Mate...           4  \n",
       "3  Engineering Design, Integration and Testing, S...           4  \n",
       "4  Engineering Design, Integration and Testing, M...           4  "
      ]
     },
     "execution_count": 4,
     "metadata": {},
     "output_type": "execute_result"
    }
   ],
   "source": [
    "df_master = df_lessons.merge(df_riskclasses, on='Lesson ID', how='inner')\n",
    "df_master = df_master[df_master['Risk Class'] != 3].reset_index()\n",
    "\n",
    "display(df_master.shape)\n",
    "df_master.head()"
   ]
  },
  {
   "cell_type": "markdown",
   "metadata": {},
   "source": [
    "<a class=\"anchor\" id=\"step-2\"></a>\n",
    "\n",
    "## Prototyping Baseline Solution\n",
    "\n",
    "The problem at hand is a classification task; we want to use data available about projects before they are officially launched to predict what class of risk they fall under. Therefore, we intend to generate a text-based description of each project, carry out basic NLP transformations to convert the descriptions into tabular data, and utilize several different multi-class classification algorithms to try to accurately predict which class of risk each project is likely to fall under.\n",
    "\n",
    "We will create a prototype of the classification model using just the _Title_ and _Abstract_. Depending on the performance of the model, we may augment the inputs with other features as needed.\n",
    "\n",
    "### Prep Dataframe for Prototyping\n",
    "\n",
    "First, we need to drop all irrelevant columns."
   ]
  },
  {
   "cell_type": "code",
   "execution_count": 5,
   "metadata": {},
   "outputs": [
    {
     "data": {
      "text/plain": [
       "(2067, 4)"
      ]
     },
     "metadata": {},
     "output_type": "display_data"
    },
    {
     "data": {
      "text/html": [
       "<div>\n",
       "<style scoped>\n",
       "    .dataframe tbody tr th:only-of-type {\n",
       "        vertical-align: middle;\n",
       "    }\n",
       "\n",
       "    .dataframe tbody tr th {\n",
       "        vertical-align: top;\n",
       "    }\n",
       "\n",
       "    .dataframe thead th {\n",
       "        text-align: right;\n",
       "    }\n",
       "</style>\n",
       "<table border=\"1\" class=\"dataframe\">\n",
       "  <thead>\n",
       "    <tr style=\"text-align: right;\">\n",
       "      <th></th>\n",
       "      <th>Lesson ID</th>\n",
       "      <th>Title</th>\n",
       "      <th>Abstract</th>\n",
       "      <th>Risk Class</th>\n",
       "    </tr>\n",
       "  </thead>\n",
       "  <tbody>\n",
       "    <tr>\n",
       "      <th>0</th>\n",
       "      <td>30004</td>\n",
       "      <td>Relationship of Government and Contractor Risk...</td>\n",
       "      <td>The purpose of this lesson is to highlight the...</td>\n",
       "      <td>4</td>\n",
       "    </tr>\n",
       "    <tr>\n",
       "      <th>1</th>\n",
       "      <td>30101</td>\n",
       "      <td>Cable Harness Wiring and Connector Anomalies C...</td>\n",
       "      <td>Early indications show that the commercial spa...</td>\n",
       "      <td>4</td>\n",
       "    </tr>\n",
       "    <tr>\n",
       "      <th>2</th>\n",
       "      <td>29801</td>\n",
       "      <td>Best Practices for the Elemental Profiling of ...</td>\n",
       "      <td>Trace contaminants in high-purity hydrazine (H...</td>\n",
       "      <td>4</td>\n",
       "    </tr>\n",
       "    <tr>\n",
       "      <th>3</th>\n",
       "      <td>29702</td>\n",
       "      <td>Integration and Dependency Between Different A...</td>\n",
       "      <td>During the Radiological Control Center (RADCC)...</td>\n",
       "      <td>4</td>\n",
       "    </tr>\n",
       "    <tr>\n",
       "      <th>4</th>\n",
       "      <td>29103</td>\n",
       "      <td>Copper Tube Pinch Failure</td>\n",
       "      <td>While pinching copper tubes is a standard prac...</td>\n",
       "      <td>4</td>\n",
       "    </tr>\n",
       "  </tbody>\n",
       "</table>\n",
       "</div>"
      ],
      "text/plain": [
       "   Lesson ID                                              Title  \\\n",
       "0      30004  Relationship of Government and Contractor Risk...   \n",
       "1      30101  Cable Harness Wiring and Connector Anomalies C...   \n",
       "2      29801  Best Practices for the Elemental Profiling of ...   \n",
       "3      29702  Integration and Dependency Between Different A...   \n",
       "4      29103                          Copper Tube Pinch Failure   \n",
       "\n",
       "                                            Abstract  Risk Class  \n",
       "0  The purpose of this lesson is to highlight the...           4  \n",
       "1  Early indications show that the commercial spa...           4  \n",
       "2  Trace contaminants in high-purity hydrazine (H...           4  \n",
       "3  During the Radiological Control Center (RADCC)...           4  \n",
       "4  While pinching copper tubes is a standard prac...           4  "
      ]
     },
     "execution_count": 5,
     "metadata": {},
     "output_type": "execute_result"
    }
   ],
   "source": [
    "df_prototyping = df_master[['Lesson ID', 'Title', 'Abstract', 'Risk Class']]\n",
    "\n",
    "display(df_prototyping.shape)\n",
    "df_prototyping.head()"
   ]
  },
  {
   "cell_type": "markdown",
   "metadata": {},
   "source": [
    "Next, we need to combine the _Title_ and _Abstract_ into one block of text."
   ]
  },
  {
   "cell_type": "code",
   "execution_count": 6,
   "metadata": {},
   "outputs": [
    {
     "data": {
      "text/plain": [
       "(2067, 3)"
      ]
     },
     "metadata": {},
     "output_type": "display_data"
    },
    {
     "data": {
      "text/html": [
       "<div>\n",
       "<style scoped>\n",
       "    .dataframe tbody tr th:only-of-type {\n",
       "        vertical-align: middle;\n",
       "    }\n",
       "\n",
       "    .dataframe tbody tr th {\n",
       "        vertical-align: top;\n",
       "    }\n",
       "\n",
       "    .dataframe thead th {\n",
       "        text-align: right;\n",
       "    }\n",
       "</style>\n",
       "<table border=\"1\" class=\"dataframe\">\n",
       "  <thead>\n",
       "    <tr style=\"text-align: right;\">\n",
       "      <th></th>\n",
       "      <th>Lesson ID</th>\n",
       "      <th>Risk Class</th>\n",
       "      <th>Description</th>\n",
       "    </tr>\n",
       "  </thead>\n",
       "  <tbody>\n",
       "    <tr>\n",
       "      <th>0</th>\n",
       "      <td>30004</td>\n",
       "      <td>4</td>\n",
       "      <td>Relationship of Government and Contractor Risk...</td>\n",
       "    </tr>\n",
       "    <tr>\n",
       "      <th>1</th>\n",
       "      <td>30101</td>\n",
       "      <td>4</td>\n",
       "      <td>Cable Harness Wiring and Connector Anomalies C...</td>\n",
       "    </tr>\n",
       "    <tr>\n",
       "      <th>2</th>\n",
       "      <td>29801</td>\n",
       "      <td>4</td>\n",
       "      <td>Best Practices for the Elemental Profiling of ...</td>\n",
       "    </tr>\n",
       "    <tr>\n",
       "      <th>3</th>\n",
       "      <td>29702</td>\n",
       "      <td>4</td>\n",
       "      <td>Integration and Dependency Between Different A...</td>\n",
       "    </tr>\n",
       "    <tr>\n",
       "      <th>4</th>\n",
       "      <td>29103</td>\n",
       "      <td>4</td>\n",
       "      <td>Copper Tube Pinch Failure While pinching coppe...</td>\n",
       "    </tr>\n",
       "  </tbody>\n",
       "</table>\n",
       "</div>"
      ],
      "text/plain": [
       "   Lesson ID  Risk Class                                        Description\n",
       "0      30004           4  Relationship of Government and Contractor Risk...\n",
       "1      30101           4  Cable Harness Wiring and Connector Anomalies C...\n",
       "2      29801           4  Best Practices for the Elemental Profiling of ...\n",
       "3      29702           4  Integration and Dependency Between Different A...\n",
       "4      29103           4  Copper Tube Pinch Failure While pinching coppe..."
      ]
     },
     "execution_count": 6,
     "metadata": {},
     "output_type": "execute_result"
    }
   ],
   "source": [
    "df_prototyping['Description'] = df_prototyping['Title'].astype(str) + ' ' + df_prototyping['Abstract'].astype(str)\n",
    "if 'Title' in df_prototyping.columns:\n",
    "    df_prototyping.drop(['Title', 'Abstract'], axis=1, inplace=True)\n",
    "\n",
    "display(df_prototyping.shape)\n",
    "df_prototyping.head()"
   ]
  },
  {
   "cell_type": "markdown",
   "metadata": {},
   "source": [
    "INSERT TEXT HERE"
   ]
  },
  {
   "cell_type": "code",
   "execution_count": 7,
   "metadata": {},
   "outputs": [
    {
     "data": {
      "text/plain": [
       "(2067, 100)"
      ]
     },
     "metadata": {},
     "output_type": "display_data"
    }
   ],
   "source": [
    "stemmer = PorterStemmer()\n",
    "def preprocess(text):\n",
    "    global stemmer\n",
    "    result = ''\n",
    "    for token in gensim.utils.simple_preprocess(text):\n",
    "        if token not in gensim.parsing.preprocessing.STOPWORDS and len(token) > 3:\n",
    "            result = result + ' ' + stemmer.stem(WordNetLemmatizer().lemmatize(token, pos='v'))\n",
    "    return result.strip()\n",
    "\n",
    "vectorizer = TfidfVectorizer(analyzer='word', ngram_range = (1, 2), min_df = 5, max_df=0.5, preprocessor=preprocess,\n",
    "                             stop_words = 'english', strip_accents='unicode', lowercase=True)\n",
    "pca = PCA(n_components=100)\n",
    "\n",
    "tfidf_matrix = vectorizer.fit_transform(df_prototyping['Description'])\n",
    "tfidf_df     = pd.DataFrame(tfidf_matrix.todense())\n",
    "pca_matrix   = pca.fit_transform(tfidf_df)\n",
    "\n",
    "display(pca_matrix.shape)"
   ]
  },
  {
   "cell_type": "code",
   "execution_count": 8,
   "metadata": {},
   "outputs": [
    {
     "data": {
      "text/plain": [
       "(2067, 102)"
      ]
     },
     "metadata": {},
     "output_type": "display_data"
    },
    {
     "data": {
      "text/html": [
       "<div>\n",
       "<style scoped>\n",
       "    .dataframe tbody tr th:only-of-type {\n",
       "        vertical-align: middle;\n",
       "    }\n",
       "\n",
       "    .dataframe tbody tr th {\n",
       "        vertical-align: top;\n",
       "    }\n",
       "\n",
       "    .dataframe thead th {\n",
       "        text-align: right;\n",
       "    }\n",
       "</style>\n",
       "<table border=\"1\" class=\"dataframe\">\n",
       "  <thead>\n",
       "    <tr style=\"text-align: right;\">\n",
       "      <th></th>\n",
       "      <th>Lesson ID</th>\n",
       "      <th>Risk Class</th>\n",
       "      <th>0</th>\n",
       "      <th>1</th>\n",
       "      <th>2</th>\n",
       "      <th>3</th>\n",
       "      <th>4</th>\n",
       "      <th>5</th>\n",
       "      <th>6</th>\n",
       "      <th>7</th>\n",
       "      <th>...</th>\n",
       "      <th>90</th>\n",
       "      <th>91</th>\n",
       "      <th>92</th>\n",
       "      <th>93</th>\n",
       "      <th>94</th>\n",
       "      <th>95</th>\n",
       "      <th>96</th>\n",
       "      <th>97</th>\n",
       "      <th>98</th>\n",
       "      <th>99</th>\n",
       "    </tr>\n",
       "  </thead>\n",
       "  <tbody>\n",
       "    <tr>\n",
       "      <th>0</th>\n",
       "      <td>30004</td>\n",
       "      <td>4</td>\n",
       "      <td>-0.033854</td>\n",
       "      <td>0.082005</td>\n",
       "      <td>0.259533</td>\n",
       "      <td>0.067744</td>\n",
       "      <td>0.047458</td>\n",
       "      <td>-0.047642</td>\n",
       "      <td>-0.051692</td>\n",
       "      <td>0.031634</td>\n",
       "      <td>...</td>\n",
       "      <td>0.019679</td>\n",
       "      <td>-0.015403</td>\n",
       "      <td>0.036234</td>\n",
       "      <td>-0.084950</td>\n",
       "      <td>-0.029656</td>\n",
       "      <td>0.033625</td>\n",
       "      <td>0.001141</td>\n",
       "      <td>-0.062345</td>\n",
       "      <td>0.025706</td>\n",
       "      <td>-0.034294</td>\n",
       "    </tr>\n",
       "    <tr>\n",
       "      <th>1</th>\n",
       "      <td>30101</td>\n",
       "      <td>4</td>\n",
       "      <td>0.100768</td>\n",
       "      <td>-0.114094</td>\n",
       "      <td>0.037132</td>\n",
       "      <td>-0.092427</td>\n",
       "      <td>0.037966</td>\n",
       "      <td>-0.012349</td>\n",
       "      <td>0.005554</td>\n",
       "      <td>-0.059482</td>\n",
       "      <td>...</td>\n",
       "      <td>-0.045800</td>\n",
       "      <td>0.118993</td>\n",
       "      <td>0.021418</td>\n",
       "      <td>0.100452</td>\n",
       "      <td>-0.092462</td>\n",
       "      <td>-0.006570</td>\n",
       "      <td>0.046110</td>\n",
       "      <td>-0.038476</td>\n",
       "      <td>0.038111</td>\n",
       "      <td>0.053453</td>\n",
       "    </tr>\n",
       "    <tr>\n",
       "      <th>2</th>\n",
       "      <td>29801</td>\n",
       "      <td>4</td>\n",
       "      <td>-0.063784</td>\n",
       "      <td>0.006688</td>\n",
       "      <td>-0.007435</td>\n",
       "      <td>-0.019258</td>\n",
       "      <td>-0.015219</td>\n",
       "      <td>-0.060059</td>\n",
       "      <td>0.013481</td>\n",
       "      <td>-0.061282</td>\n",
       "      <td>...</td>\n",
       "      <td>0.043561</td>\n",
       "      <td>-0.020959</td>\n",
       "      <td>-0.001669</td>\n",
       "      <td>0.007417</td>\n",
       "      <td>0.032759</td>\n",
       "      <td>0.021461</td>\n",
       "      <td>-0.037661</td>\n",
       "      <td>-0.032862</td>\n",
       "      <td>0.047159</td>\n",
       "      <td>0.027639</td>\n",
       "    </tr>\n",
       "    <tr>\n",
       "      <th>3</th>\n",
       "      <td>29702</td>\n",
       "      <td>4</td>\n",
       "      <td>-0.034003</td>\n",
       "      <td>0.000247</td>\n",
       "      <td>-0.011641</td>\n",
       "      <td>-0.089555</td>\n",
       "      <td>0.108049</td>\n",
       "      <td>0.064706</td>\n",
       "      <td>-0.057105</td>\n",
       "      <td>-0.028622</td>\n",
       "      <td>...</td>\n",
       "      <td>-0.001350</td>\n",
       "      <td>-0.021536</td>\n",
       "      <td>0.085029</td>\n",
       "      <td>0.035786</td>\n",
       "      <td>-0.122584</td>\n",
       "      <td>0.009606</td>\n",
       "      <td>0.091326</td>\n",
       "      <td>-0.005283</td>\n",
       "      <td>-0.045413</td>\n",
       "      <td>-0.009746</td>\n",
       "    </tr>\n",
       "    <tr>\n",
       "      <th>4</th>\n",
       "      <td>29103</td>\n",
       "      <td>4</td>\n",
       "      <td>-0.051290</td>\n",
       "      <td>-0.010528</td>\n",
       "      <td>-0.037038</td>\n",
       "      <td>-0.011080</td>\n",
       "      <td>-0.020117</td>\n",
       "      <td>-0.037159</td>\n",
       "      <td>0.022863</td>\n",
       "      <td>-0.037152</td>\n",
       "      <td>...</td>\n",
       "      <td>0.018976</td>\n",
       "      <td>0.082383</td>\n",
       "      <td>-0.059004</td>\n",
       "      <td>-0.073744</td>\n",
       "      <td>-0.074187</td>\n",
       "      <td>0.030126</td>\n",
       "      <td>-0.114796</td>\n",
       "      <td>0.099240</td>\n",
       "      <td>0.010487</td>\n",
       "      <td>0.045370</td>\n",
       "    </tr>\n",
       "  </tbody>\n",
       "</table>\n",
       "<p>5 rows × 102 columns</p>\n",
       "</div>"
      ],
      "text/plain": [
       "   Lesson ID  Risk Class         0         1         2         3         4  \\\n",
       "0      30004           4 -0.033854  0.082005  0.259533  0.067744  0.047458   \n",
       "1      30101           4  0.100768 -0.114094  0.037132 -0.092427  0.037966   \n",
       "2      29801           4 -0.063784  0.006688 -0.007435 -0.019258 -0.015219   \n",
       "3      29702           4 -0.034003  0.000247 -0.011641 -0.089555  0.108049   \n",
       "4      29103           4 -0.051290 -0.010528 -0.037038 -0.011080 -0.020117   \n",
       "\n",
       "          5         6         7  ...        90        91        92        93  \\\n",
       "0 -0.047642 -0.051692  0.031634  ...  0.019679 -0.015403  0.036234 -0.084950   \n",
       "1 -0.012349  0.005554 -0.059482  ... -0.045800  0.118993  0.021418  0.100452   \n",
       "2 -0.060059  0.013481 -0.061282  ...  0.043561 -0.020959 -0.001669  0.007417   \n",
       "3  0.064706 -0.057105 -0.028622  ... -0.001350 -0.021536  0.085029  0.035786   \n",
       "4 -0.037159  0.022863 -0.037152  ...  0.018976  0.082383 -0.059004 -0.073744   \n",
       "\n",
       "         94        95        96        97        98        99  \n",
       "0 -0.029656  0.033625  0.001141 -0.062345  0.025706 -0.034294  \n",
       "1 -0.092462 -0.006570  0.046110 -0.038476  0.038111  0.053453  \n",
       "2  0.032759  0.021461 -0.037661 -0.032862  0.047159  0.027639  \n",
       "3 -0.122584  0.009606  0.091326 -0.005283 -0.045413 -0.009746  \n",
       "4 -0.074187  0.030126 -0.114796  0.099240  0.010487  0.045370  \n",
       "\n",
       "[5 rows x 102 columns]"
      ]
     },
     "execution_count": 8,
     "metadata": {},
     "output_type": "execute_result"
    }
   ],
   "source": [
    "df_prototyping = df_prototyping[['Lesson ID', 'Risk Class']]\n",
    "df_prototyping = pd.concat([df_prototyping, pd.DataFrame(pca_matrix)], axis=1)\n",
    "\n",
    "display(df_prototyping.shape)\n",
    "df_prototyping.head()"
   ]
  },
  {
   "cell_type": "code",
   "execution_count": 9,
   "metadata": {},
   "outputs": [
    {
     "name": "stdout",
     "output_type": "stream",
     "text": [
      "Training Output Variable Distribution\n"
     ]
    },
    {
     "data": {
      "text/plain": [
       "4    989\n",
       "0    258\n",
       "2     66\n",
       "1      7\n",
       "Name: Risk Class, dtype: int64"
      ]
     },
     "metadata": {},
     "output_type": "display_data"
    },
    {
     "name": "stdout",
     "output_type": "stream",
     "text": [
      "\n",
      "Testing Output Variable Distribution\n"
     ]
    },
    {
     "data": {
      "text/plain": [
       "4    425\n",
       "0    111\n",
       "2     28\n",
       "1      3\n",
       "Name: Risk Class, dtype: int64"
      ]
     },
     "metadata": {},
     "output_type": "display_data"
    }
   ],
   "source": [
    "X = df_prototyping.drop(['Lesson ID', 'Risk Class'], axis=1)\n",
    "y = df_prototyping['Risk Class']\n",
    "\n",
    "X, y = OneSidedSelection(random_state=5).fit_resample(X, y)\n",
    "X_train, X_test, y_train, y_test = train_test_split(X, y, test_size=0.3, stratify=y, random_state=5)\n",
    "\n",
    "print('Training Output Variable Distribution')\n",
    "display(y_train.value_counts())\n",
    "print()\n",
    "print('Testing Output Variable Distribution')\n",
    "display(y_test.value_counts())\n"
   ]
  },
  {
   "cell_type": "code",
   "execution_count": 28,
   "metadata": {},
   "outputs": [],
   "source": [
    "scorer = make_scorer(f1_score, average = 'weighted')"
   ]
  },
  {
   "cell_type": "code",
   "execution_count": 31,
   "metadata": {},
   "outputs": [
    {
     "name": "stdout",
     "output_type": "stream",
     "text": [
      "{'C': 10.0, 'penalty': 'l2', 'solver': 'newton-cg'}\n"
     ]
    },
    {
     "data": {
      "image/png": "[encoded data removed]",
      "text/plain": [
       "<Figure size 432x288 with 2 Axes>"
      ]
     },
     "metadata": {
      "needs_background": "light"
     },
     "output_type": "display_data"
    }
   ],
   "source": [
    "# create parameter grid to fine-tune model\n",
    "param_grid = {\n",
    "    'solver': ['newton-cg', 'lbfgs'],\n",
    "    'penalty': ['none', 'l2'],\n",
    "    'C': [0.0001, 0.001, 0.01, 0.1, 0.5, 1.0, 10.0]\n",
    "}\n",
    "\n",
    "# run the cross-validated grid search to identify the best parameters for the model\n",
    "CV_lm = GridSearchCV(estimator=LogisticRegression(class_weight='balanced', random_state=5),\n",
    "                     scoring=scorer, param_grid=param_grid, n_jobs=-1, verbose=0).fit(X_train, y_train)\n",
    "\n",
    "# extract the best parameters, as selected by the grid search\n",
    "best_params = CV_lm.best_params_\n",
    "best_solver = best_params['solver']\n",
    "best_penalty = best_params['penalty']\n",
    "best_C = best_params['C']\n",
    "print(best_params)\n",
    "\n",
    "# create the final LogisticRegression\n",
    "best_lm = LogisticRegression(class_weight='balanced', random_state=5,\n",
    "                             solver=best_solver,\n",
    "                             penalty=best_penalty,\n",
    "                             C=best_C).fit(X_train, y_train)\n",
    "lm_pred = best_lm.predict(X_test)\n",
    " \n",
    "# creating a confusion matrix\n",
    "lm_cm = confusion_matrix(y_test, lm_pred)\n",
    "dist = ConfusionMatrixDisplay(confusion_matrix=lm_cm).plot(cmap=plt.cm.Blues)\n",
    "plt.show()"
   ]
  },
  {
   "cell_type": "code",
   "execution_count": 40,
   "metadata": {},
   "outputs": [
    {
     "name": "stdout",
     "output_type": "stream",
     "text": [
      "Fitting 5 folds for each of 90 candidates, totalling 450 fits\n",
      "{'criterion': 'entropy', 'max_depth': 8, 'max_features': 0.5, 'n_estimators': 200}\n"
     ]
    },
    {
     "data": {
      "image/png": "[encoded data removed]",
      "text/plain": [
       "<Figure size 432x288 with 2 Axes>"
      ]
     },
     "metadata": {
      "needs_background": "light"
     },
     "output_type": "display_data"
    }
   ],
   "source": [
    "# create parameter grid to fine-tune model\n",
    "param_grid = { \n",
    "    'n_estimators': range(100, 400, 100),\n",
    "    'max_features': ['auto', 'log2', 0.25, 0.33, 0.5],\n",
    "    'max_depth' : [None, 5, 8],\n",
    "    'criterion' : ['gini', 'entropy']\n",
    "}\n",
    "\n",
    "# run the cross-validated grid search to identify the best parameters for the model\n",
    "CV_rfc = GridSearchCV(estimator=RandomForestClassifier(class_weight='balanced', random_state=5), scoring=scorer,\n",
    "                      param_grid=param_grid, n_jobs=-1, verbose=2).fit(X_train, y_train)\n",
    "\n",
    "# extract the best parameters, as selected by the grid search\n",
    "best_params = CV_rfc.best_params_\n",
    "best_n_estimators = best_params['n_estimators']\n",
    "best_max_features = best_params['max_features']\n",
    "best_max_depth = best_params['max_depth']\n",
    "best_criterion = best_params['criterion']\n",
    "print(best_params)\n",
    "\n",
    "# create the final RandomForestClassifier\n",
    "best_rfc = RandomForestClassifier(class_weight='balanced', random_state=5,\n",
    "                                  max_features=best_max_features,\n",
    "                                  n_estimators=best_n_estimators,\n",
    "                                  max_depth=best_max_depth,\n",
    "                                  criterion=best_criterion).fit(X_train, y_train)\n",
    "rfc_pred = best_rfc.predict(X_test)\n",
    "\n",
    "# creating a confusion matrix\n",
    "rfc_cm = confusion_matrix(y_test, rfc_pred)\n",
    "dist = ConfusionMatrixDisplay(confusion_matrix=rfc_cm).plot(cmap=plt.cm.Blues)\n",
    "plt.show()"
   ]
  },
  {
   "cell_type": "code",
   "execution_count": 35,
   "metadata": {},
   "outputs": [
    {
     "name": "stdout",
     "output_type": "stream",
     "text": [
      "Fitting 5 folds for each of 243 candidates, totalling 1215 fits\n",
      "{'max_depth': 15, 'min_split_gain': 0, 'num_leaves': 10, 'reg_alpha': 0.5, 'reg_lambda': 0.5}\n"
     ]
    },
    {
     "data": {
      "image/png": "[encoded data removed]",
      "text/plain": [
       "<Figure size 432x288 with 2 Axes>"
      ]
     },
     "metadata": {
      "needs_background": "light"
     },
     "output_type": "display_data"
    }
   ],
   "source": [
    "# create parameter grid to fine-tune model\n",
    "param_grid = {\n",
    "    'max_depth': [15, 20, -1],\n",
    "    'num_leaves': [10, 20, 30],\n",
    "    'reg_alpha': [0, 0.5, 1.0],\n",
    "    'reg_lambda': [0, 0.5, 1.0],\n",
    "    'min_split_gain': [0, 0.2, 0.4]\n",
    "}\n",
    "\n",
    "# run the cross-validated grid search to identify the best parameters for the model\n",
    "CV_lgb = GridSearchCV(estimator=LGBMClassifier(class_weight='balanced', random_state=5), scoring=scorer,\n",
    "                      param_grid=param_grid, n_jobs=-1, verbose=2).fit(X_train, y_train)\n",
    "\n",
    "# extract the best parameters, as selected by the grid search\n",
    "best_params = CV_lgb.best_params_\n",
    "best_max_depth = best_params['max_depth']\n",
    "best_num_leaves = best_params['num_leaves']\n",
    "best_reg_alpha = best_params['reg_alpha']\n",
    "best_reg_lambda = best_params['reg_lambda']\n",
    "best_min_split_gain = best_params['min_split_gain']\n",
    "print(best_params)\n",
    "\n",
    "# create the final LGBMClassifier\n",
    "best_lgb = LGBMClassifier(class_weight='balanced', random_state=5,\n",
    "                          max_depth=best_max_depth,\n",
    "                          num_leaves=best_num_leaves,\n",
    "                          reg_alpha=best_reg_alpha,\n",
    "                          reg_lambda=best_reg_lambda,\n",
    "                          min_split_gain=best_min_split_gain).fit(X_train, y_train)\n",
    "lgb_pred = best_lgb.predict(X_test)\n",
    "\n",
    "# creating a confusion matrix\n",
    "lgb_cm = confusion_matrix(y_test, lgb_pred)\n",
    "dist = ConfusionMatrixDisplay(confusion_matrix=lgb_cm).plot(cmap=plt.cm.Blues)\n",
    "plt.show()"
   ]
  },
  {
   "cell_type": "code",
   "execution_count": 36,
   "metadata": {},
   "outputs": [
    {
     "name": "stdout",
     "output_type": "stream",
     "text": [
      "Fitting 5 folds for each of 54 candidates, totalling 270 fits\n",
      "{'algorithm': 'auto', 'n_neighbors': 3, 'p': 3, 'weights': 'distance'}\n"
     ]
    },
    {
     "data": {
      "image/png": "[encoded data removed]",
      "text/plain": [
       "<Figure size 432x288 with 2 Axes>"
      ]
     },
     "metadata": {
      "needs_background": "light"
     },
     "output_type": "display_data"
    }
   ],
   "source": [
    "# create parameter grid to fine-tune model\n",
    "param_grid = {\n",
    "    'n_neighbors': [1, 3, 5],\n",
    "    'weights': ['uniform', 'distance'],\n",
    "    'algorithm': ['auto', 'ball_tree', 'kd_tree'],\n",
    "    'p': [1, 2, 3]\n",
    "}\n",
    "\n",
    "# run the cross-validated grid search to identify the best parameters for the model\n",
    "CV_knn = GridSearchCV(estimator=KNeighborsClassifier(), scoring=scorer,\n",
    "                      param_grid=param_grid, n_jobs=-1, verbose=2).fit(X_train, y_train)\n",
    "\n",
    "# extract the best parameters, as selected by the grid search\n",
    "best_params = CV_knn.best_params_\n",
    "best_n_neighbors = best_params['n_neighbors']\n",
    "best_weights = best_params['weights']\n",
    "best_algorithm = best_params['algorithm']\n",
    "best_p = best_params['p']\n",
    "print(best_params)\n",
    "\n",
    "# create the final KNeighborsClassifier\n",
    "best_knn = KNeighborsClassifier(n_neighbors=best_n_neighbors,\n",
    "                          weights=best_weights,\n",
    "                          algorithm=best_algorithm,\n",
    "                          p=best_p).fit(X_train, y_train)\n",
    "knn_pred = best_knn.predict(X_test)\n",
    "\n",
    "knn_cm = confusion_matrix(y_test, knn_pred)\n",
    "dist = ConfusionMatrixDisplay(confusion_matrix=knn_cm).plot(cmap=plt.cm.Blues)\n",
    "plt.show()"
   ]
  },
  {
   "cell_type": "code",
   "execution_count": 37,
   "metadata": {},
   "outputs": [
    {
     "data": {
      "image/png": "[encoded data removed]",
      "text/plain": [
       "<Figure size 432x288 with 2 Axes>"
      ]
     },
     "metadata": {
      "needs_background": "light"
     },
     "output_type": "display_data"
    }
   ],
   "source": [
    "# create the GaussianNB classifier (no tuning, we don't have any priors)\n",
    "gnb = GaussianNB().fit(X_train, y_train)\n",
    "gnb_pred = gnb.predict(X_test)\n",
    "\n",
    "cm = confusion_matrix(y_test, gnb_pred)\n",
    "dist = ConfusionMatrixDisplay(confusion_matrix=cm).plot(cmap=plt.cm.Blues)\n",
    "plt.show()"
   ]
  },
  {
   "cell_type": "code",
   "execution_count": 38,
   "metadata": {},
   "outputs": [
    {
     "data": {
      "image/png": "[encoded data removed]",
      "text/plain": [
       "<Figure size 432x288 with 2 Axes>"
      ]
     },
     "metadata": {
      "needs_background": "light"
     },
     "output_type": "display_data"
    }
   ],
   "source": [
    "# create a custom ensemble of all of the above methods\n",
    "df_pred = pd.DataFrame([lm_pred, lgb_pred, knn_pred, gnb_pred]).T\n",
    "pred = df_pred.apply(statistics.mode, axis=1)\n",
    "\n",
    "cm = confusion_matrix(y_test, pred)\n",
    "dist = ConfusionMatrixDisplay(confusion_matrix=cm).plot(cmap=plt.cm.Blues)\n",
    "plt.show()"
   ]
  },
  {
   "cell_type": "code",
   "execution_count": 41,
   "metadata": {},
   "outputs": [
    {
     "data": {
      "image/png": "[encoded data removed]",
      "text/plain": [
       "<Figure size 432x288 with 2 Axes>"
      ]
     },
     "metadata": {
      "needs_background": "light"
     },
     "output_type": "display_data"
    }
   ],
   "source": [
    "# create a custom ensemble of all of the above methods\n",
    "df_pred = pd.DataFrame([lm_pred, rfc_pred, lgb_pred, knn_pred, gnb_pred]).T\n",
    "pred = df_pred.apply(statistics.mode, axis=1)\n",
    "\n",
    "cm = confusion_matrix(y_test, pred)\n",
    "dist = ConfusionMatrixDisplay(confusion_matrix=cm).plot(cmap=plt.cm.Blues)\n",
    "plt.show()"
   ]
  },
  {
   "cell_type": "code",
   "execution_count": 16,
   "metadata": {},
   "outputs": [],
   "source": [
    "# from sklearn.ensemble import VotingClassifier\n",
    "\n",
    "# #create a dictionary of our models\n",
    "# estimators=[('lm', lm_pred), ('rfc', rfc_pred), ('lgb', lgb_pred), ('knn', knn_pred), ('gnb', gnb_pred)]\n",
    "\n",
    "# #create our voting classifier, inputting our models\n",
    "# ensemble = VotingClassifier(estimators, voting='hard')\n",
    "\n",
    "# #fit model to training data\n",
    "# ensemble.fit(X_train, y_train)\n",
    "\n",
    "# #test our model on the test data\n",
    "# ensemble.predict(X_test, y_test)"
   ]
  },
  {
   "cell_type": "markdown",
   "metadata": {},
   "source": []
  },
  {
   "cell_type": "markdown",
   "metadata": {},
   "source": []
  },
  {
   "cell_type": "markdown",
   "metadata": {},
   "source": []
  },
  {
   "cell_type": "markdown",
   "metadata": {},
   "source": []
  },
  {
   "cell_type": "markdown",
   "metadata": {},
   "source": [
    "To generate the text-based description, we need to decide which of the available features can add value beyond the _Title_ and _Abstract_ features of the dataframe.\n",
    "\n",
    "### Remove Irrelevant Features\n",
    "\n",
    "First, we remove any columns containing data unavailable at the beginning of the project.\n",
    "- _Lesson(s) Learned_ was used to generate the risk classifications. Logically, we cannot use it as an input. Regardless, it is information that comes to light during the course of the project. Therefore, this column will be dropped.\n",
    "- The other columns that either relate to _Lesson(s) Learned_ or are post-facto include:\n",
    "    - _Recommendation(s)_\n",
    "    - _Date Lesson Occurred_\n",
    "    - _Driving Event_\n",
    "    - _Evidence_\n",
    "    - _The related NASA policy(s), standard(s), handbook(s), procedure(s) or other rules_\n",
    "    - _From what phase of the program or project was this lesson learned captured?_\n",
    "    - _Where (other lessons, presentations, publications, etc.)?_\n",
    "- _Publish Date_ is also a post-facto column. Furthermore, we don't expect the publication date to actually impact the risk classification."
   ]
  },
  {
   "cell_type": "code",
   "execution_count": null,
   "metadata": {},
   "outputs": [],
   "source": [
    "if 'Lesson(s) Learned' in df_master.columns:\n",
    "    df_master.drop(['Lesson(s) Learned', 'Recommendation(s)', 'Date Lesson Occurred', 'Driving Event', 'Evidence',\n",
    "                    'The related NASA policy(s), standard(s), handbook(s), procedure(s) or other rules',\n",
    "                    'From what phase of the program or project was this lesson learned captured?',\n",
    "                    'Where (other lessons, presentations, publications, etc.)?', 'Publish Date'], inplace=True, axis=1)\n",
    "\n",
    "display(df_master.shape)\n",
    "df_master.head()"
   ]
  },
  {
   "cell_type": "markdown",
   "metadata": {},
   "source": [
    "### Categorical Feature Analysis\n",
    "\n",
    "Next, aside from _Title_ and _Abstract_, we will try to identify which other categorical features (if any) may offer value to the text-based description of the project. We start by checking how many unique values exist for each categorical feature."
   ]
  },
  {
   "cell_type": "code",
   "execution_count": null,
   "metadata": {},
   "outputs": [],
   "source": [
    "df_master.iloc[:,3:].nunique()"
   ]
  },
  {
   "cell_type": "markdown",
   "metadata": {},
   "source": [
    "- _Project / Program_ doesn't seem to have a standard format for its values. For prototyping, we will remove this column from analysis and try to see what our initial results look like, before considering including the text from this column in our inputs.\n",
    "- _NASA Mission Directorate(s)_ seems to be comma-separated values. There may be value in adding them into our analysis."
   ]
  },
  {
   "cell_type": "markdown",
   "metadata": {},
   "source": []
  }
 ],
 "metadata": {
  "interpreter": {
   "hash": "aee8b7b246df8f9039afb4144a1f6fd8d2ca17a180786b69acc140d282b71a49"
  },
  "kernelspec": {
   "display_name": "Python 3.9.5 64-bit",
   "language": "python",
   "name": "python3"
  },
  "language_info": {
   "codemirror_mode": {
    "name": "ipython",
    "version": 3
   },
   "file_extension": ".py",
   "mimetype": "text/x-python",
   "name": "python",
   "nbconvert_exporter": "python",
   "pygments_lexer": "ipython3",
   "version": "3.9.5"
  },
  "orig_nbformat": 4
 },
 "nbformat": 4,
 "nbformat_minor": 2
}
