{
 "cells": [
  {
   "cell_type": "markdown",
   "metadata": {},
   "source": [
    "<a class=\"anchor\" id=\"top\"></a>\n",
    "\n",
    "# Classify Risk\n",
    "Author: Ainesh Pandey\n",
    "\n",
    "This notebook serves as an example of categorizing risk of a single future project at NASA. You simply need to change the specified user inputs in the first cell and run the notebook.\n",
    "\n",
    "The classifications will be as follows:\n",
    "- `Risk Class 0`: Technical Execution Risk\n",
    "- `Risk Class 1`: Managerial Process Risk\n",
    "- `Risk Class 2`: Operational Cost Risk"
   ]
  },
  {
   "cell_type": "code",
   "execution_count": 1,
   "metadata": {},
   "outputs": [],
   "source": [
    "from scripts.classify_risk import ClassifyRisk\n",
    "\n",
    "import warnings\n",
    "warnings.filterwarnings(\"ignore\")"
   ]
  },
  {
   "cell_type": "markdown",
   "metadata": {},
   "source": [
    "## Specify User Inputs\n",
    "\n",
    "Please change the values in the following code cell to reflect the *Title* and *Abstract* of the project you want to classify. Sample values have already been provided."
   ]
  },
  {
   "cell_type": "code",
   "execution_count": 2,
   "metadata": {},
   "outputs": [],
   "source": [
    "# specify the model you want to use for classification, default is 'ensemble' which is the best model developed in ModelRiskClass.ipynb\n",
    "# other options are: 'lm' for the Logistic Regression model\n",
    "#                    'rfc' for the Random Forest Classifier\n",
    "#                    'lgb' for the Light GBM Classifier\n",
    "#                    'knn' for the KNN Classifier\n",
    "#                    'gnb' for the Gaussian Naive Bayes Classifier\n",
    "model_type = 'ensemble'\n",
    "\n",
    "# replace the sample values here with the values for the project you want to classify\n",
    "title = 'Test as You Fly, Fly as You Test, and Demonstrate Margin (1998)'\n",
    "abstract = 'Mars Polar Lander had deficiencies in compliance with the principle of “test-as-you-fly,” which requires that ground tests and simulations accurately reflect the planned mission profile, plus margin. Enforce the system-level test principle of “test as you fly, and fly as you test,” and carefully assess any planned violations. When using simulations for system-level verification, validate models and include sufficient parametric variations in the simulations to ensure that adequate margins exist.'"
   ]
  },
  {
   "cell_type": "markdown",
   "metadata": {},
   "source": [
    "## Classify using Script"
   ]
  },
  {
   "cell_type": "code",
   "execution_count": 3,
   "metadata": {},
   "outputs": [
    {
     "data": {
      "text/plain": [
       "{'Highest Risk Class Code': 2,\n",
       " 'Highest Risk Class': 'Operational Cost Risk',\n",
       " 'Highest Risk Class Probability': 0.8502751268477601,\n",
       " 'Overall Risk Profile': {'Technical Execution Risk': 0.04722996585706909,\n",
       "  'Managerial Process Risk': 0.1024949072951708,\n",
       "  'Operational Cost Risk': 0.8502751268477601}}"
      ]
     },
     "execution_count": 3,
     "metadata": {},
     "output_type": "execute_result"
    }
   ],
   "source": [
    "ClassifyRisk(model_type=model_type).classify(title, abstract)"
   ]
  },
  {
   "cell_type": "markdown",
   "metadata": {},
   "source": [
    "[Back to Top](#top)"
   ]
  }
 ],
 "metadata": {
  "interpreter": {
   "hash": "aee8b7b246df8f9039afb4144a1f6fd8d2ca17a180786b69acc140d282b71a49"
  },
  "kernelspec": {
   "display_name": "Python 3.9.5 64-bit",
   "language": "python",
   "name": "python3"
  },
  "language_info": {
   "codemirror_mode": {
    "name": "ipython",
    "version": 3
   },
   "file_extension": ".py",
   "mimetype": "text/x-python",
   "name": "python",
   "nbconvert_exporter": "python",
   "pygments_lexer": "ipython3",
   "version": "3.9.5"
  },
  "orig_nbformat": 4
 },
 "nbformat": 4,
 "nbformat_minor": 2
}
